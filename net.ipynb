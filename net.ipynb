{
  "cells": [
    {
      "cell_type": "code",
      "execution_count": 12,
      "metadata": {
        "colab": {
          "base_uri": "https://localhost:8080/"
        },
        "id": "-k0q29Z3ukKI",
        "outputId": "70464f29-0ccc-40f8-90ed-8121cb85433c"
      },
      "outputs": [
        {
          "output_type": "stream",
          "name": "stdout",
          "text": [
            "Requirement already satisfied: Bio in /usr/local/lib/python3.7/dist-packages (1.3.8)\n",
            "Requirement already satisfied: requests in /usr/local/lib/python3.7/dist-packages (from Bio) (2.23.0)\n",
            "Requirement already satisfied: mygene in /usr/local/lib/python3.7/dist-packages (from Bio) (3.2.2)\n",
            "Requirement already satisfied: biopython>=1.79 in /usr/local/lib/python3.7/dist-packages (from Bio) (1.79)\n",
            "Requirement already satisfied: tqdm in /usr/local/lib/python3.7/dist-packages (from Bio) (4.64.0)\n",
            "Requirement already satisfied: numpy in /usr/local/lib/python3.7/dist-packages (from biopython>=1.79->Bio) (1.21.6)\n",
            "Requirement already satisfied: biothings-client>=0.2.6 in /usr/local/lib/python3.7/dist-packages (from mygene->Bio) (0.2.6)\n",
            "Requirement already satisfied: urllib3!=1.25.0,!=1.25.1,<1.26,>=1.21.1 in /usr/local/lib/python3.7/dist-packages (from requests->Bio) (1.24.3)\n",
            "Requirement already satisfied: idna<3,>=2.5 in /usr/local/lib/python3.7/dist-packages (from requests->Bio) (2.10)\n",
            "Requirement already satisfied: certifi>=2017.4.17 in /usr/local/lib/python3.7/dist-packages (from requests->Bio) (2021.10.8)\n",
            "Requirement already satisfied: chardet<4,>=3.0.2 in /usr/local/lib/python3.7/dist-packages (from requests->Bio) (3.0.4)\n",
            "Requirement already satisfied: import-ipynb in /usr/local/lib/python3.7/dist-packages (0.1.4)\n",
            "Requirement already satisfied: IPython in /usr/local/lib/python3.7/dist-packages (from import-ipynb) (5.5.0)\n",
            "Requirement already satisfied: nbformat in /usr/local/lib/python3.7/dist-packages (from import-ipynb) (5.3.0)\n",
            "Requirement already satisfied: pickleshare in /usr/local/lib/python3.7/dist-packages (from IPython->import-ipynb) (0.7.5)\n",
            "Requirement already satisfied: setuptools>=18.5 in /usr/local/lib/python3.7/dist-packages (from IPython->import-ipynb) (57.4.0)\n",
            "Requirement already satisfied: pygments in /usr/local/lib/python3.7/dist-packages (from IPython->import-ipynb) (2.6.1)\n",
            "Requirement already satisfied: decorator in /usr/local/lib/python3.7/dist-packages (from IPython->import-ipynb) (4.4.2)\n",
            "Requirement already satisfied: prompt-toolkit<2.0.0,>=1.0.4 in /usr/local/lib/python3.7/dist-packages (from IPython->import-ipynb) (1.0.18)\n",
            "Requirement already satisfied: traitlets>=4.2 in /usr/local/lib/python3.7/dist-packages (from IPython->import-ipynb) (5.1.1)\n",
            "Requirement already satisfied: pexpect in /usr/local/lib/python3.7/dist-packages (from IPython->import-ipynb) (4.8.0)\n",
            "Requirement already satisfied: simplegeneric>0.8 in /usr/local/lib/python3.7/dist-packages (from IPython->import-ipynb) (0.8.1)\n",
            "Requirement already satisfied: six>=1.9.0 in /usr/local/lib/python3.7/dist-packages (from prompt-toolkit<2.0.0,>=1.0.4->IPython->import-ipynb) (1.15.0)\n",
            "Requirement already satisfied: wcwidth in /usr/local/lib/python3.7/dist-packages (from prompt-toolkit<2.0.0,>=1.0.4->IPython->import-ipynb) (0.2.5)\n",
            "Requirement already satisfied: jupyter-core in /usr/local/lib/python3.7/dist-packages (from nbformat->import-ipynb) (4.10.0)\n",
            "Requirement already satisfied: fastjsonschema in /usr/local/lib/python3.7/dist-packages (from nbformat->import-ipynb) (2.15.3)\n",
            "Requirement already satisfied: jsonschema>=2.6 in /usr/local/lib/python3.7/dist-packages (from nbformat->import-ipynb) (4.3.3)\n",
            "Requirement already satisfied: importlib-metadata in /usr/local/lib/python3.7/dist-packages (from jsonschema>=2.6->nbformat->import-ipynb) (4.11.3)\n",
            "Requirement already satisfied: importlib-resources>=1.4.0 in /usr/local/lib/python3.7/dist-packages (from jsonschema>=2.6->nbformat->import-ipynb) (5.7.1)\n",
            "Requirement already satisfied: pyrsistent!=0.17.0,!=0.17.1,!=0.17.2,>=0.14.0 in /usr/local/lib/python3.7/dist-packages (from jsonschema>=2.6->nbformat->import-ipynb) (0.18.1)\n",
            "Requirement already satisfied: typing-extensions in /usr/local/lib/python3.7/dist-packages (from jsonschema>=2.6->nbformat->import-ipynb) (4.2.0)\n",
            "Requirement already satisfied: attrs>=17.4.0 in /usr/local/lib/python3.7/dist-packages (from jsonschema>=2.6->nbformat->import-ipynb) (21.4.0)\n",
            "Requirement already satisfied: zipp>=3.1.0 in /usr/local/lib/python3.7/dist-packages (from importlib-resources>=1.4.0->jsonschema>=2.6->nbformat->import-ipynb) (3.8.0)\n",
            "Requirement already satisfied: ptyprocess>=0.5 in /usr/local/lib/python3.7/dist-packages (from pexpect->IPython->import-ipynb) (0.7.0)\n"
          ]
        }
      ],
      "source": [
        "!pip install Bio\n",
        "!pip install import-ipynb\n",
        "# !pip install wandb"
      ]
    },
    {
      "cell_type": "code",
      "execution_count": 13,
      "metadata": {
        "colab": {
          "base_uri": "https://localhost:8080/"
        },
        "id": "54RTxaK0YbHA",
        "outputId": "4bf8b678-0a29-4c7b-c231-b425b6dc51cd"
      },
      "outputs": [
        {
          "output_type": "stream",
          "name": "stdout",
          "text": [
            "Drive already mounted at /content/drive; to attempt to forcibly remount, call drive.mount(\"/content/drive\", force_remount=True).\n"
          ]
        }
      ],
      "source": [
        "from google.colab import drive\n",
        "drive.mount('/content/drive')"
      ]
    },
    {
      "cell_type": "code",
      "execution_count": 14,
      "metadata": {
        "colab": {
          "base_uri": "https://localhost:8080/"
        },
        "id": "tCeXnsvlLtE-",
        "outputId": "ed4f0360-0125-46de-8de4-ecbeb3ccc0d0"
      },
      "outputs": [
        {
          "output_type": "stream",
          "name": "stdout",
          "text": [
            "/content/drive/MyDrive/ColabNotebooks\n"
          ]
        }
      ],
      "source": [
        "import tensorflow as tf\n",
        "from tensorflow.keras import layers\n",
        "import numpy as np\n",
        "import matplotlib.pyplot as plt\n",
        "from sklearn.model_selection import KFold\n",
        "# import wandb\n",
        "from datetime import datetime\n",
        "\n",
        "# so we can import utils notebook (delete if working on Pycharm), you might need to change it to your working directory path\n",
        "%cd \"/content/drive/MyDrive/ColabNotebooks\"\n",
        "import import_ipynb\n",
        "import utils"
      ]
    },
    {
      "cell_type": "code",
      "execution_count": 20,
      "metadata": {
        "id": "6y4fRqWLLwhR"
      },
      "outputs": [],
      "source": [
        "###############################################################################\n",
        "#                                                                             #\n",
        "#              Parameters you can change, but don't have to                   #\n",
        "#                                                                             #\n",
        "###############################################################################\n",
        "\n",
        "\n",
        "# number of ResNet blocks for the first ResNet and the kernel size.\n",
        "RESNET_1_BLOCKS = 1\n",
        "RESNET_1_KERNEL_SIZE = 9\n",
        "RESNET_1_KERNEL_NUM = 16\n",
        "\n",
        "###############################################################################\n",
        "#                                                                             #\n",
        "#                        Parameters you need to choose                        #\n",
        "#                                                                             #\n",
        "###############################################################################\n",
        "\n",
        "\n",
        "# number of ResNet blocks for the second ResNet, dilation list to repeat and the kernel size.\n",
        "\n",
        "RESNET_2_BLOCKS = 5\n",
        "RESNET_2_KERNEL_SIZE = 5  # good start may be 3/5\n",
        "RESNET_2_KERNEL_NUM = 28 # DO NOT MAKE IT 1!\n",
        "DILATION = [1]\n",
        "WANTED_M = len(DILATION) # len of DILATION to be randomize by 'wandb' tool\n",
        "\n",
        "# percentage of dropout for the dropout layer\n",
        "DROPOUT = 0.289580549283963   # good start may be 0.1-0.5\n",
        "\n",
        "# number of epochs, Learning rate and Batch size\n",
        "EPOCHS = 9\n",
        "LR = 0.0019210418506367384 # good start may be 0.0001/0.001/0.01\n",
        "BATCH = 16  # good start may be 32/64/128\n",
        "\n",
        "save_dir = \"BestFits/\"\n",
        "model_name = \"selected_model2_polar_5\"\n",
        "\n",
        "def get_time():\n",
        "    now = datetime.now()\n",
        "    return now.strftime(\"%d-%m-%Y__%H-%M-%S\")\n",
        "\n",
        "\n",
        "def resnet_block(input_layer, kernel_size, kernel_num, dialation=1):\n",
        "    bn1 = layers.BatchNormalization()(input_layer)\n",
        "    conv1d_layer1 = layers.Conv1D(kernel_num, kernel_size, padding='same', activation='relu',\n",
        "                                  dilation_rate=dialation)(bn1)\n",
        "    bn2 = layers.BatchNormalization()(conv1d_layer1)\n",
        "    conv1d_layer2 = layers.Conv1D(kernel_num, kernel_size, padding='same', activation='relu',\n",
        "                                  dilation_rate=dialation)(bn2)\n",
        "    return layers.Add()([input_layer, conv1d_layer2])\n",
        "\n",
        "\n",
        "def resnet_1(input_layer, block_num=RESNET_1_BLOCKS, kernel_size=RESNET_1_KERNEL_SIZE,\n",
        "             kernel_num=RESNET_1_KERNEL_NUM):\n",
        "    \"\"\"\n",
        "    ResNet layer - input -> BatchNormalization -> Conv1D -> Relu -> BatchNormalization -> Conv1D -> Relu -> Add\n",
        "    :param input_layer: input layer for the ResNet\n",
        "    :return: last layer of the ResNet\n",
        "    \"\"\"\n",
        "    last_layer_output = input_layer\n",
        "\n",
        "    for i in range(block_num):\n",
        "        last_layer_output = resnet_block(last_layer_output, kernel_size, kernel_num)\n",
        "\n",
        "    return last_layer_output\n",
        "\n",
        "\n",
        "def resnet_2(input_layer, block_num=RESNET_2_BLOCKS, kernel_size=RESNET_2_KERNEL_SIZE,\n",
        "             kernel_num=RESNET_2_KERNEL_NUM, dial_lst=DILATION):\n",
        "    \"\"\"\n",
        "    Dilated ResNet layer - input -> BatchNormalization -> dilated Conv1D -> Relu -> BatchNormalization -> dilated Conv1D -> Relu -> Add\n",
        "    :param input_layer: input layer for the ResNet\n",
        "    :return: last layer of the ResNet\n",
        "    \"\"\"\n",
        "    last_layer_output = input_layer\n",
        "\n",
        "    for i in range(block_num):\n",
        "        for d in dial_lst:\n",
        "            last_layer_output = resnet_block(last_layer_output, kernel_size, kernel_num, d)\n",
        "\n",
        "    return last_layer_output\n",
        "\n",
        "def get_default_config():\n",
        "  \"\"\"\n",
        "  :return: a configuration with the default \n",
        "  \"\"\"\n",
        "  sweep_config = {'RESNET_1_BLOCKS': RESNET_1_BLOCKS,\n",
        "                  'RESNET_1_KERNEL_SIZE': RESNET_1_KERNEL_SIZE,\n",
        "                  'RESNET_1_KERNEL_NUM': RESNET_1_KERNEL_NUM,\n",
        "                  'RESNET_2_BLOCKS': RESNET_2_BLOCKS,\n",
        "                  'RESNET_2_KERNEL_SIZE': RESNET_2_KERNEL_SIZE,\n",
        "                  'RESNET_2_KERNEL_NUM': RESNET_2_KERNEL_NUM,\n",
        "                  'DROPOUT': DROPOUT, 'EPOCHS': EPOCHS, \"LR\": LR,\n",
        "                  'DILATATION': DILATION, 'BATCH': BATCH, 'method': 'random',\n",
        "                  'metric': {'name': 'loss', 'goal': 'minimize'},\n",
        "                  'name': f\"BioEx4_{get_time()}\"}\n",
        "\n",
        "  return sweep_config\n",
        "\n",
        "def build_network(config=None):\n",
        "    \"\"\"\n",
        "    builds the neural network architecture as shown in the exercise.\n",
        "    :return: a Keras Model\n",
        "    \"\"\"\n",
        "    if config is None:\n",
        "        config = get_default_config()\n",
        "\n",
        "    # input, shape (NB_MAX_LENGTH,FEATURE_NUM)\n",
        "    input_layer = tf.keras.Input(shape=(utils.NB_MAX_LENGTH, utils.FEATURE_NUM))\n",
        "\n",
        "    # Conv1D -> shape = (NB_MAX_LENGTH, RESNET_1_KERNEL_NUM)\n",
        "    conv1d_layer = layers.Conv1D(config['RESNET_1_KERNEL_NUM'], config['RESNET_1_KERNEL_SIZE'],\n",
        "                                 padding='same')(input_layer)\n",
        "\n",
        "    # first ResNet -> shape = (NB_MAX_LENGTH, RESNET_1_KERNEL_NUM)\n",
        "    resnet_layer = resnet_1(conv1d_layer, config['RESNET_1_BLOCKS'], config['RESNET_1_KERNEL_SIZE'],\n",
        "                            config['RESNET_1_KERNEL_NUM'])\n",
        "\n",
        "    # Conv1D -> shape = (NB_MAX_LENGTH, RESNET_2_KERNEL_NUM)\n",
        "    conv1d_layer = layers.Conv1D(config['RESNET_2_KERNEL_NUM'], config['RESNET_2_KERNEL_SIZE'],\n",
        "                                 padding=\"same\")(resnet_layer)\n",
        "\n",
        "    # second ResNet -> shape = (NB_MAX_LENGTH, RESNET_2_KERNEL_NUM)\n",
        "    resnet_layer = resnet_2(conv1d_layer, config['RESNET_2_BLOCKS'], config['RESNET_2_KERNEL_SIZE'],\n",
        "                            config['RESNET_2_KERNEL_NUM'], config['DILATATION'])\n",
        "\n",
        "    dp = layers.Dropout(config['DROPOUT'])(resnet_layer)\n",
        "    conv1d_layer = layers.Conv1D(config['RESNET_2_KERNEL_NUM'] // 2, config['RESNET_2_KERNEL_SIZE'],\n",
        "                                 padding=\"same\",\n",
        "                                 activation='elu')(dp)\n",
        "    dense = layers.Dense(15)(conv1d_layer)\n",
        "\n",
        "    return tf.keras.Model(input_layer, dense)\n",
        "\n",
        "\n",
        "def plot_val_train_loss(history):\n",
        "    \"\"\"\n",
        "    plots the train and validation loss of the model at each epoch, saves it in 'model_loss_history.png'\n",
        "    :param history: history object (output of fit function)\n",
        "    :return: None\n",
        "    \"\"\"\n",
        "    ig, axes = plt.subplots(1, 1, figsize=(15, 3))\n",
        "    axes.plot(history.history['loss'], label='Training loss')\n",
        "    axes.plot(history.history['val_loss'], label='Validation loss')\n",
        "    axes.legend()\n",
        "    axes.set_title(\"Train and Val MSE loss\")\n",
        "\n",
        "    plt.savefig(f\"/content/drive/MyDrive/ColabNotebooks/model_loss_history{get_time()}.png\")  # TODO: you can change the path here\n",
        "\n",
        "\n",
        "# def get_config():\n",
        "#     sweep_config = {}\n",
        "#     sweep_config['method'] = 'bayes'\n",
        "#     sweep_config['metric'] = {'name': 'best_val_loss', 'goal': 'minimize'}\n",
        "#     sweep_config[\"early_terminate\"]= {\n",
        "#         \"type\": \"hyperband\",\n",
        "#         \"min_iter\": 2,\n",
        "#         \"eta\": 2,\n",
        "#     }\n",
        "\n",
        "#     sweep_config['name'] = f\"BioEx4_{get_time()}\"\n",
        "#     param_dict = {\n",
        "#         'RESNET_1_BLOCKS': {'distribution': 'int_uniform', 'min': 1, 'max': 5},\n",
        "#         'RESNET_1_KERNEL_SIZE': {'values': [3, 5, 7, 9]},\n",
        "#         'RESNET_1_KERNEL_NUM': {'distribution': 'int_uniform', 'min': 8,\n",
        "#                                 'max': 64},\n",
        "#         'RESNET_2_BLOCKS': {'distribution': 'int_uniform', 'min': 1, 'max': 5},\n",
        "#         'RESNET_2_KERNEL_SIZE': {'values': [3, 5, 7, 9]},\n",
        "#         'RESNET_2_KERNEL_NUM': {'distribution': 'int_uniform', 'min': 8,\n",
        "#                                 'max': 64},\n",
        "#         'DROPOUT': {'distribution': 'uniform', 'min': 0.001, 'max': 0.5},\n",
        "#         'EPOCHS': {'distribution': 'int_uniform', 'min': 5, 'max': 15},\n",
        "#         \"LR\": {'distribution': 'uniform', 'min': 0.001, 'max': 0.025},\n",
        "#         'BATCH': {'values': [16, 32, 64, 128, 256]},\n",
        "#         'DILATATION': {'values': [[1, 2, 4], [1], [1, 2], [1, 4], [1, 2, 4, 8]]}\n",
        "#     }\n",
        "\n",
        "#     sweep_config['parameters'] = param_dict\n",
        "#     return sweep_config\n",
        "\n",
        "# class WandbCallback(tf.keras.callbacks.Callback):\n",
        "#     def __init__(self, fold):\n",
        "#         super(WandbCallback, self).__init__()\n",
        "#         self.fold = fold\n",
        "\n",
        "#     def on_epoch_end(self, epoch, logs=None):\n",
        "#         wandb.log({'loss': logs['loss'], 'val_loss': logs['val_loss'], 'fold':\n",
        "#             self.fold, 'epoch': epoch})\n",
        "\n",
        "\n",
        "# def models_selection(config=None):\n",
        "#     if config is None:\n",
        "#         config = get_default_config()\n",
        "#     with wandb.init(config=config) as run:\n",
        "\n",
        "#         # _______________loading the data_______________\n",
        "#         config = wandb.config\n",
        "#         input = np.load(\"train_input.npy\")  # numpy array of shape (1974,NB_MAX_LENGTH,FEATURE_NUM) - data\n",
        "#         labels = np.load(\"train_labels.npy\")  # numpy array of shape (1974,NB_MAX_LENGTH,OUTPUT_SIZE) - labels\n",
        "#         save_dir = \"BestFits/\"\n",
        "#         model_name = run.name\n",
        "#         fold_var = 1\n",
        "#         kf = KFold(n_splits=5, shuffle=True, random_state=0)\n",
        "#         my_optimizer = tf.keras.optimizers.Adam(learning_rate=config['LR'])\n",
        "#         loss = 0\n",
        "#         losses = np.zeros(5)\n",
        "#         for t_idx, v_idx in kf.split(input, labels):\n",
        "#             X_t, X_v = input[t_idx], input[v_idx]\n",
        "#             y_t, y_v = labels[t_idx], labels[v_idx]\n",
        "\n",
        "#             model = build_network(config)\n",
        "#             # _______________compiling______________\n",
        "\n",
        "#             model.compile(optimizer=my_optimizer, loss='mean_squared_error')\n",
        "\n",
        "#             # _____________creating callbacks_____________\n",
        "#             checkpoint = tf.keras.callbacks.ModelCheckpoint(f\"{save_dir}\"\n",
        "#                                                             f\"{model_name}\"\n",
        "#                                                             f\"{fold_var}.ckpt\",\n",
        "#                                                             monitor='val_loss',\n",
        "#                                                             save_best_only=True, mode='min')\n",
        "\n",
        "#             callbacks_list = [checkpoint, WandbCallback(fold_var)]\n",
        "\n",
        "#             # _____________fitting the model______________\n",
        "#             history = model.fit(X_t, y_t,\n",
        "#                                 epochs=config['EPOCHS'],\n",
        "#                                 callbacks=callbacks_list,\n",
        "#                                 batch_size=config['BATCH'],\n",
        "#                                 validation_data=(X_v, y_v))\n",
        "\n",
        "\n",
        "#             # _____________evaluate the model_____________\n",
        "#             best_model = tf.keras.models.load_model(f\"{save_dir}\"\n",
        "#                                                     f\"{model_name}\"\n",
        "#                                                     f\"{fold_var}.ckpt\")\n",
        "\n",
        "#             l = best_model.evaluate(X_v, y_v)\n",
        "#             losses[fold_var - 1] = l\n",
        "#             loss += l/5\n",
        "#             wandb.log({'best_val_loss': loss})\n",
        "#             # loss[fold_var - 1] = best_model.evaluate(X_v, y_v)\n",
        "#             fold_var += 1\n",
        "#             tf.keras.backend.clear_session()\n",
        "#         wandb.log({'mean_loss': loss,'std':np.std(losses)})\n",
        "\n"
      ]
    },
    {
      "cell_type": "code",
      "source": [
        "def train(config=None):\n",
        "    if config is None:\n",
        "        config = get_default_config()\n",
        "\n",
        "    # _______________loading the data_______________\n",
        "    input = np.load(\"train_input.npy\")  # numpy array of shape (1974,NB_MAX_LENGTH,FEATURE_NUM) - data\n",
        "    labels = np.load(\"train_labels.npy\")  # numpy array of shape (1974,NB_MAX_LENGTH,OUTPUT_SIZE) - labels\n",
        "    my_optimizer = tf.keras.optimizers.Adam(learning_rate=config['LR'])\n",
        "\n",
        "    model = build_network(config)\n",
        "    # _______________compiling______________\n",
        "\n",
        "    model.compile(optimizer=my_optimizer, loss='mean_squared_error')\n",
        "\n",
        "    # _____________fitting the model______________\n",
        "    history = model.fit(input, labels,\n",
        "                        epochs=config['EPOCHS'],\n",
        "                        batch_size=config['BATCH'],\n",
        "                        validation_split = 0.07)\n",
        "    plot_val_train_loss(history)\n",
        "    tf.keras.models.save_model(model, save_dir + model_name)\n",
        "    tf.keras.backend.clear_session()"
      ],
      "metadata": {
        "id": "v8j1NEZC0uNF"
      },
      "execution_count": 16,
      "outputs": []
    },
    {
      "cell_type": "code",
      "source": [
        "model = tf.keras.models.load_model(save_dir + model_name)\n",
        "input = utils.generate_input(\"6xw6/6xw6.pdb\")\n",
        "prediction = model.predict(input[None,:,:])\n",
        "seq=\"VQLQESGGGLVQAGDSLRVSCAASGRTISSSPMGWFRQAPGKEREFVAAISGNGGNTYYLDSVKGRFTTSRDNAKNTVYLQLNNLKPEDTAIYYCAARSRFSAMHLAYRRLVDYDDWGQGTQVTVS\"\n",
        "utils.matrix_to_pdb(seq, prediction, \"prediction_6xw6_solar5\")\n"
      ],
      "metadata": {
        "colab": {
          "base_uri": "https://localhost:8080/",
          "height": 234
        },
        "id": "D2VltP2N-z8T",
        "outputId": "62669be6-b481-44a8-af27-25eb59987f4d"
      },
      "execution_count": 24,
      "outputs": [
        {
          "output_type": "error",
          "ename": "TypeError",
          "evalue": "ignored",
          "traceback": [
            "\u001b[0;31m---------------------------------------------------------------------------\u001b[0m",
            "\u001b[0;31mTypeError\u001b[0m                                 Traceback (most recent call last)",
            "\u001b[0;32m<ipython-input-24-e5d5b224b75c>\u001b[0m in \u001b[0;36m<module>\u001b[0;34m()\u001b[0m\n\u001b[1;32m      3\u001b[0m \u001b[0mprediction\u001b[0m \u001b[0;34m=\u001b[0m \u001b[0mmodel\u001b[0m\u001b[0;34m.\u001b[0m\u001b[0mpredict\u001b[0m\u001b[0;34m(\u001b[0m\u001b[0minput\u001b[0m\u001b[0;34m[\u001b[0m\u001b[0;32mNone\u001b[0m\u001b[0;34m,\u001b[0m\u001b[0;34m:\u001b[0m\u001b[0;34m,\u001b[0m\u001b[0;34m:\u001b[0m\u001b[0;34m]\u001b[0m\u001b[0;34m)\u001b[0m\u001b[0;34m\u001b[0m\u001b[0;34m\u001b[0m\u001b[0m\n\u001b[1;32m      4\u001b[0m \u001b[0mseq\u001b[0m\u001b[0;34m=\u001b[0m\u001b[0;34m\"VQLQESGGGLVQAGDSLRVSCAASGRTISSSPMGWFRQAPGKEREFVAAISGNGGNTYYLDSVKGRFTTSRDNAKNTVYLQLNNLKPEDTAIYYCAARSRFSAMHLAYRRLVDYDDWGQGTQVTVS\"\u001b[0m\u001b[0;34m\u001b[0m\u001b[0;34m\u001b[0m\u001b[0m\n\u001b[0;32m----> 5\u001b[0;31m \u001b[0mutils\u001b[0m\u001b[0;34m.\u001b[0m\u001b[0mmatrix_to_pdb\u001b[0m\u001b[0;34m(\u001b[0m\u001b[0mseq\u001b[0m\u001b[0;34m,\u001b[0m \u001b[0mprediction\u001b[0m\u001b[0;34m,\u001b[0m \u001b[0;34m\"prediction_6xw6_solar5\"\u001b[0m\u001b[0;34m)\u001b[0m\u001b[0;34m\u001b[0m\u001b[0;34m\u001b[0m\u001b[0m\n\u001b[0m",
            "\u001b[0;32m/content/drive/MyDrive/ColabNotebooks/utils.ipynb\u001b[0m in \u001b[0;36mmatrix_to_pdb\u001b[0;34m(seq, coord_matrix, pdb_name)\u001b[0m\n",
            "\u001b[0;31mTypeError\u001b[0m: unsupported format string passed to numpy.ndarray.__format__"
          ]
        }
      ]
    },
    {
      "cell_type": "code",
      "execution_count": 17,
      "metadata": {
        "id": "qRN8JS77GEw2"
      },
      "outputs": [],
      "source": [
        "def main():\n",
        "  # sweep_id = wandb.sweep(get_config(), project=\"BioEx4_5\",\n",
        "  #                          entity=\"avishai-elma\")\n",
        "  #   wandb.agent(sweep_id, models_selection, count=1000)\n",
        "  train()\n"
      ]
    },
    {
      "cell_type": "code",
      "source": [
        ""
      ],
      "metadata": {
        "colab": {
          "base_uri": "https://localhost:8080/",
          "height": 557
        },
        "id": "NelwQ1S97UxF",
        "outputId": "3af6f1fc-6dc3-4825-9488-f67b30137073"
      },
      "execution_count": 18,
      "outputs": [
        {
          "output_type": "stream",
          "name": "stdout",
          "text": [
            "Epoch 1/9\n",
            "115/115 [==============================] - 8s 31ms/step - loss: 23.4489 - val_loss: 13.0636\n",
            "Epoch 2/9\n",
            "115/115 [==============================] - 4s 39ms/step - loss: 4.2847 - val_loss: 3.8646\n",
            "Epoch 3/9\n",
            "115/115 [==============================] - 5s 43ms/step - loss: 3.4474 - val_loss: 2.4352\n",
            "Epoch 4/9\n",
            "115/115 [==============================] - 3s 29ms/step - loss: 3.0711 - val_loss: 2.0302\n",
            "Epoch 5/9\n",
            "115/115 [==============================] - 3s 24ms/step - loss: 2.7940 - val_loss: 1.7970\n",
            "Epoch 6/9\n",
            "115/115 [==============================] - 3s 24ms/step - loss: 2.5571 - val_loss: 1.6456\n",
            "Epoch 7/9\n",
            "115/115 [==============================] - 3s 25ms/step - loss: 2.3921 - val_loss: 1.4338\n",
            "Epoch 8/9\n",
            "115/115 [==============================] - 3s 24ms/step - loss: 2.2589 - val_loss: 1.3971\n",
            "Epoch 9/9\n",
            "115/115 [==============================] - 3s 23ms/step - loss: 2.1749 - val_loss: 1.3864\n",
            "INFO:tensorflow:Assets written to: BestFits/selected_model2_polar_5/assets\n"
          ]
        },
        {
          "output_type": "display_data",
          "data": {
            "text/plain": [
              "<Figure size 1080x216 with 1 Axes>"
            ],
            "image/png": "[encoded data removed]"
          },
          "metadata": {
            "needs_background": "light"
          }
        }
      ]
    }
  ],
  "metadata": {
    "accelerator": "GPU",
    "colab": {
      "collapsed_sections": [],
      "name": "net.ipynb",
      "provenance": []
    },
    "kernelspec": {
      "display_name": "Python 3",
      "name": "python3"
    },
    "language_info": {
      "name": "python"
    }
  },
  "nbformat": 4,
  "nbformat_minor": 0
}