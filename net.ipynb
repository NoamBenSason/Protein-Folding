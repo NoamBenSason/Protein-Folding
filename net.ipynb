{
 "cells": [
  {
   "cell_type": "code",
   "execution_count": null,
   "metadata": {
    "colab": {
     "base_uri": "https://localhost:8080/"
    },
    "id": "-k0q29Z3ukKI",
    "outputId": "b0d01c57-bafc-4795-df40-0523fc4bc699"
   },
   "outputs": [
    {
     "output_type": "stream",
     "name": "stdout",
     "text": [
      "Collecting Bio\n",
      "  Downloading bio-1.3.8-py3-none-any.whl (269 kB)\n",
      "\u001B[?25l\r\u001B[K     |█▏                              | 10 kB 16.7 MB/s eta 0:00:01\r\u001B[K     |██▍                             | 20 kB 11.0 MB/s eta 0:00:01\r\u001B[K     |███▋                            | 30 kB 9.0 MB/s eta 0:00:01\r\u001B[K     |████▉                           | 40 kB 8.2 MB/s eta 0:00:01\r\u001B[K     |██████                          | 51 kB 4.8 MB/s eta 0:00:01\r\u001B[K     |███████▎                        | 61 kB 5.6 MB/s eta 0:00:01\r\u001B[K     |████████▌                       | 71 kB 5.5 MB/s eta 0:00:01\r\u001B[K     |█████████▊                      | 81 kB 5.4 MB/s eta 0:00:01\r\u001B[K     |███████████                     | 92 kB 6.0 MB/s eta 0:00:01\r\u001B[K     |████████████▏                   | 102 kB 5.4 MB/s eta 0:00:01\r\u001B[K     |█████████████▍                  | 112 kB 5.4 MB/s eta 0:00:01\r\u001B[K     |██████████████▋                 | 122 kB 5.4 MB/s eta 0:00:01\r\u001B[K     |███████████████▉                | 133 kB 5.4 MB/s eta 0:00:01\r\u001B[K     |█████████████████               | 143 kB 5.4 MB/s eta 0:00:01\r\u001B[K     |██████████████████▏             | 153 kB 5.4 MB/s eta 0:00:01\r\u001B[K     |███████████████████▍            | 163 kB 5.4 MB/s eta 0:00:01\r\u001B[K     |████████████████████▋           | 174 kB 5.4 MB/s eta 0:00:01\r\u001B[K     |█████████████████████▉          | 184 kB 5.4 MB/s eta 0:00:01\r\u001B[K     |███████████████████████         | 194 kB 5.4 MB/s eta 0:00:01\r\u001B[K     |████████████████████████▎       | 204 kB 5.4 MB/s eta 0:00:01\r\u001B[K     |█████████████████████████▌      | 215 kB 5.4 MB/s eta 0:00:01\r\u001B[K     |██████████████████████████▊     | 225 kB 5.4 MB/s eta 0:00:01\r\u001B[K     |████████████████████████████    | 235 kB 5.4 MB/s eta 0:00:01\r\u001B[K     |█████████████████████████████▏  | 245 kB 5.4 MB/s eta 0:00:01\r\u001B[K     |██████████████████████████████▍ | 256 kB 5.4 MB/s eta 0:00:01\r\u001B[K     |███████████████████████████████▋| 266 kB 5.4 MB/s eta 0:00:01\r\u001B[K     |████████████████████████████████| 269 kB 5.4 MB/s \n",
      "\u001B[?25hRequirement already satisfied: requests in /usr/local/lib/python3.7/dist-packages (from Bio) (2.23.0)\n",
      "Requirement already satisfied: tqdm in /usr/local/lib/python3.7/dist-packages (from Bio) (4.64.0)\n",
      "Collecting mygene\n",
      "  Downloading mygene-3.2.2-py2.py3-none-any.whl (5.4 kB)\n",
      "Collecting biopython>=1.79\n",
      "  Downloading biopython-1.79-cp37-cp37m-manylinux_2_5_x86_64.manylinux1_x86_64.whl (2.3 MB)\n",
      "\u001B[K     |████████████████████████████████| 2.3 MB 43.3 MB/s \n",
      "\u001B[?25hRequirement already satisfied: numpy in /usr/local/lib/python3.7/dist-packages (from biopython>=1.79->Bio) (1.21.6)\n",
      "Collecting biothings-client>=0.2.6\n",
      "  Downloading biothings_client-0.2.6-py2.py3-none-any.whl (37 kB)\n",
      "Requirement already satisfied: urllib3!=1.25.0,!=1.25.1,<1.26,>=1.21.1 in /usr/local/lib/python3.7/dist-packages (from requests->Bio) (1.24.3)\n",
      "Requirement already satisfied: idna<3,>=2.5 in /usr/local/lib/python3.7/dist-packages (from requests->Bio) (2.10)\n",
      "Requirement already satisfied: chardet<4,>=3.0.2 in /usr/local/lib/python3.7/dist-packages (from requests->Bio) (3.0.4)\n",
      "Requirement already satisfied: certifi>=2017.4.17 in /usr/local/lib/python3.7/dist-packages (from requests->Bio) (2021.10.8)\n",
      "Installing collected packages: biothings-client, mygene, biopython, Bio\n",
      "Successfully installed Bio-1.3.8 biopython-1.79 biothings-client-0.2.6 mygene-3.2.2\n",
      "Collecting import-ipynb\n",
      "  Downloading import_ipynb-0.1.4-py3-none-any.whl (4.1 kB)\n",
      "Requirement already satisfied: nbformat in /usr/local/lib/python3.7/dist-packages (from import-ipynb) (5.3.0)\n",
      "Requirement already satisfied: IPython in /usr/local/lib/python3.7/dist-packages (from import-ipynb) (5.5.0)\n",
      "Requirement already satisfied: pickleshare in /usr/local/lib/python3.7/dist-packages (from IPython->import-ipynb) (0.7.5)\n",
      "Requirement already satisfied: decorator in /usr/local/lib/python3.7/dist-packages (from IPython->import-ipynb) (4.4.2)\n",
      "Requirement already satisfied: traitlets>=4.2 in /usr/local/lib/python3.7/dist-packages (from IPython->import-ipynb) (5.1.1)\n",
      "Requirement already satisfied: setuptools>=18.5 in /usr/local/lib/python3.7/dist-packages (from IPython->import-ipynb) (57.4.0)\n",
      "Requirement already satisfied: pexpect in /usr/local/lib/python3.7/dist-packages (from IPython->import-ipynb) (4.8.0)\n",
      "Requirement already satisfied: prompt-toolkit<2.0.0,>=1.0.4 in /usr/local/lib/python3.7/dist-packages (from IPython->import-ipynb) (1.0.18)\n",
      "Requirement already satisfied: pygments in /usr/local/lib/python3.7/dist-packages (from IPython->import-ipynb) (2.6.1)\n",
      "Requirement already satisfied: simplegeneric>0.8 in /usr/local/lib/python3.7/dist-packages (from IPython->import-ipynb) (0.8.1)\n",
      "Requirement already satisfied: six>=1.9.0 in /usr/local/lib/python3.7/dist-packages (from prompt-toolkit<2.0.0,>=1.0.4->IPython->import-ipynb) (1.15.0)\n",
      "Requirement already satisfied: wcwidth in /usr/local/lib/python3.7/dist-packages (from prompt-toolkit<2.0.0,>=1.0.4->IPython->import-ipynb) (0.2.5)\n",
      "Requirement already satisfied: jupyter-core in /usr/local/lib/python3.7/dist-packages (from nbformat->import-ipynb) (4.10.0)\n",
      "Requirement already satisfied: fastjsonschema in /usr/local/lib/python3.7/dist-packages (from nbformat->import-ipynb) (2.15.3)\n",
      "Requirement already satisfied: jsonschema>=2.6 in /usr/local/lib/python3.7/dist-packages (from nbformat->import-ipynb) (4.3.3)\n",
      "Requirement already satisfied: attrs>=17.4.0 in /usr/local/lib/python3.7/dist-packages (from jsonschema>=2.6->nbformat->import-ipynb) (21.4.0)\n",
      "Requirement already satisfied: typing-extensions in /usr/local/lib/python3.7/dist-packages (from jsonschema>=2.6->nbformat->import-ipynb) (4.2.0)\n",
      "Requirement already satisfied: importlib-resources>=1.4.0 in /usr/local/lib/python3.7/dist-packages (from jsonschema>=2.6->nbformat->import-ipynb) (5.7.1)\n",
      "Requirement already satisfied: pyrsistent!=0.17.0,!=0.17.1,!=0.17.2,>=0.14.0 in /usr/local/lib/python3.7/dist-packages (from jsonschema>=2.6->nbformat->import-ipynb) (0.18.1)\n",
      "Requirement already satisfied: importlib-metadata in /usr/local/lib/python3.7/dist-packages (from jsonschema>=2.6->nbformat->import-ipynb) (4.11.3)\n",
      "Requirement already satisfied: zipp>=3.1.0 in /usr/local/lib/python3.7/dist-packages (from importlib-resources>=1.4.0->jsonschema>=2.6->nbformat->import-ipynb) (3.8.0)\n",
      "Requirement already satisfied: ptyprocess>=0.5 in /usr/local/lib/python3.7/dist-packages (from pexpect->IPython->import-ipynb) (0.7.0)\n",
      "Installing collected packages: import-ipynb\n",
      "Successfully installed import-ipynb-0.1.4\n"
     ]
    }
   ],
   "source": [
    "!pip install Bio\n",
    "!pip install import-ipynb\n",
    "# !pip install wandb"
   ]
  },
  {
   "cell_type": "code",
   "execution_count": null,
   "metadata": {
    "colab": {
     "base_uri": "https://localhost:8080/"
    },
    "id": "54RTxaK0YbHA",
    "outputId": "aa26bb0f-ad88-490d-e2ed-6f79576e27ad"
   },
   "outputs": [
    {
     "output_type": "stream",
     "name": "stdout",
     "text": [
      "Mounted at /content/drive\n"
     ]
    }
   ],
   "source": [
    "from google.colab import drive\n",
    "drive.mount('/content/drive')"
   ]
  },
  {
   "cell_type": "code",
   "execution_count": null,
   "metadata": {
    "colab": {
     "base_uri": "https://localhost:8080/"
    },
    "id": "tCeXnsvlLtE-",
    "outputId": "7c00a838-f51e-40a2-eb2f-c299c184b02e"
   },
   "outputs": [
    {
     "output_type": "stream",
     "name": "stdout",
     "text": [
      "/content/drive/.shortcut-targets-by-id/13JKG3wgYlOO5t5AoOpkix7QiZamDhSEp/ColabNotebooks\n",
      "importing Jupyter notebook from utils.ipynb\n",
      "Num GPUs Available:  1\n"
     ]
    }
   ],
   "source": [
    "import tensorflow as tf\n",
    "from tensorflow.keras import layers\n",
    "import numpy as np\n",
    "import matplotlib.pyplot as plt\n",
    "from sklearn.model_selection import KFold\n",
    "# import wandb\n",
    "from datetime import datetime\n",
    "\n",
    "# so we can import utils notebook (delete if working on Pycharm), you might need to change it to your working directory path\n",
    "%cd \"/content/drive/MyDrive/ColabNotebooks\"\n",
    "import import_ipynb\n",
    "import utils"
   ]
  },
  {
   "cell_type": "code",
   "execution_count": null,
   "metadata": {
    "id": "6y4fRqWLLwhR"
   },
   "outputs": [],
   "source": [
    "###############################################################################\n",
    "#                                                                             #\n",
    "#              Parameters you can change, but don't have to                   #\n",
    "#                                                                             #\n",
    "###############################################################################\n",
    "\n",
    "\n",
    "# number of ResNet blocks for the first ResNet and the kernel size.\n",
    "RESNET_1_BLOCKS = 2\n",
    "RESNET_1_KERNEL_SIZE = 3\n",
    "RESNET_1_KERNEL_NUM = 43\n",
    "\n",
    "###############################################################################\n",
    "#                                                                             #\n",
    "#                        Parameters you need to choose                        #\n",
    "#                                                                             #\n",
    "###############################################################################\n",
    "\n",
    "\n",
    "# number of ResNet blocks for the second ResNet, dilation list to repeat and the kernel size.\n",
    "\n",
    "RESNET_2_BLOCKS = 5\n",
    "RESNET_2_KERNEL_SIZE = 7  # good start may be 3/5\n",
    "RESNET_2_KERNEL_NUM = 53 # DO NOT MAKE IT 1!\n",
    "DILATION = [1]\n",
    "WANTED_M = len(DILATION)  # len of DILATION to be randomize by 'wandb' tool\n",
    "\n",
    "# percentage of dropout for the dropout layer\n",
    "DROPOUT = 0.29715545068   # good start may be 0.1-0.5\n",
    "\n",
    "# number of epochs, Learning rate and Batch size\n",
    "EPOCHS = 10\n",
    "LR = 0.0051378873577  # good start may be 0.0001/0.001/0.01\n",
    "BATCH = 128  # good start may be 32/64/128\n",
    "\n",
    "\n",
    "def get_time():\n",
    "    now = datetime.now()\n",
    "    return now.strftime(\"%d-%m-%Y__%H-%M-%S\")\n",
    "\n",
    "\n",
    "def resnet_block(input_layer, kernel_size, kernel_num, dialation=1):\n",
    "    bn1 = layers.BatchNormalization()(input_layer)\n",
    "    conv1d_layer1 = layers.Conv1D(kernel_num, kernel_size, padding='same', activation='relu',\n",
    "                                  dilation_rate=dialation)(bn1)\n",
    "    bn2 = layers.BatchNormalization()(conv1d_layer1)\n",
    "    conv1d_layer2 = layers.Conv1D(kernel_num, kernel_size, padding='same', activation='relu',\n",
    "                                  dilation_rate=dialation)(bn2)\n",
    "    return layers.Add()([input_layer, conv1d_layer2])\n",
    "\n",
    "\n",
    "def resnet_1(input_layer, block_num=RESNET_1_BLOCKS, kernel_size=RESNET_1_KERNEL_SIZE,\n",
    "             kernel_num=RESNET_1_KERNEL_NUM):\n",
    "    \"\"\"\n",
    "    ResNet layer - input -> BatchNormalization -> Conv1D -> Relu -> BatchNormalization -> Conv1D -> Relu -> Add\n",
    "    :param input_layer: input layer for the ResNet\n",
    "    :return: last layer of the ResNet\n",
    "    \"\"\"\n",
    "    last_layer_output = input_layer\n",
    "\n",
    "    for i in range(block_num):\n",
    "        last_layer_output = resnet_block(last_layer_output, kernel_size, kernel_num)\n",
    "\n",
    "    return last_layer_output\n",
    "\n",
    "\n",
    "def resnet_2(input_layer, block_num=RESNET_2_BLOCKS, kernel_size=RESNET_2_KERNEL_SIZE,\n",
    "             kernel_num=RESNET_2_KERNEL_NUM, dial_lst=DILATION):\n",
    "    \"\"\"\n",
    "    Dilated ResNet layer - input -> BatchNormalization -> dilated Conv1D -> Relu -> BatchNormalization -> dilated Conv1D -> Relu -> Add\n",
    "    :param input_layer: input layer for the ResNet\n",
    "    :return: last layer of the ResNet\n",
    "    \"\"\"\n",
    "    last_layer_output = input_layer\n",
    "\n",
    "    for i in range(block_num):\n",
    "        for d in dial_lst:\n",
    "            last_layer_output = resnet_block(last_layer_output, kernel_size, kernel_num, d)\n",
    "\n",
    "    return last_layer_output\n",
    "\n",
    "def get_default_config():\n",
    "    sweep_config = {'RESNET_1_BLOCKS': RESNET_1_BLOCKS,\n",
    "                    'RESNET_1_KERNEL_SIZE': RESNET_1_KERNEL_SIZE,\n",
    "                    'RESNET_1_KERNEL_NUM': RESNET_1_KERNEL_NUM,\n",
    "                    'RESNET_2_BLOCKS': RESNET_2_BLOCKS,\n",
    "                    'RESNET_2_KERNEL_SIZE': RESNET_2_KERNEL_SIZE,\n",
    "                    'RESNET_2_KERNEL_NUM': RESNET_2_KERNEL_NUM,\n",
    "                    'DROPOUT': DROPOUT, 'EPOCHS': EPOCHS, \"LR\": LR,\n",
    "                    'DILATATION': DILATION, 'BATCH': BATCH, 'method': 'random',\n",
    "                    'metric': {'name': 'loss', 'goal': 'minimize'},\n",
    "                    'name': f\"BioEx4_{get_time()}\"}\n",
    "\n",
    "    return sweep_config\n",
    "\n",
    "def build_network(config=None):\n",
    "    \"\"\"\n",
    "    builds the neural network architecture as shown in the exercise.\n",
    "    :return: a Keras Model\n",
    "    \"\"\"\n",
    "    if config is None:\n",
    "        config = get_default_config()\n",
    "\n",
    "    # input, shape (NB_MAX_LENGTH,FEATURE_NUM)\n",
    "    input_layer = tf.keras.Input(shape=(utils.NB_MAX_LENGTH, utils.FEATURE_NUM))\n",
    "\n",
    "    # Conv1D -> shape = (NB_MAX_LENGTH, RESNET_1_KERNEL_NUM)\n",
    "    conv1d_layer = layers.Conv1D(config['RESNET_1_KERNEL_NUM'], config['RESNET_1_KERNEL_SIZE'],\n",
    "                                 padding='same')(input_layer)\n",
    "\n",
    "    # first ResNet -> shape = (NB_MAX_LENGTH, RESNET_1_KERNEL_NUM)\n",
    "    resnet_layer = resnet_1(conv1d_layer, config['RESNET_1_BLOCKS'], config['RESNET_1_KERNEL_SIZE'],\n",
    "                            config['RESNET_1_KERNEL_NUM'])\n",
    "\n",
    "    # Conv1D -> shape = (NB_MAX_LENGTH, RESNET_2_KERNEL_NUM)\n",
    "    conv1d_layer = layers.Conv1D(config['RESNET_2_KERNEL_NUM'], config['RESNET_2_KERNEL_SIZE'],\n",
    "                                 padding=\"same\")(resnet_layer)\n",
    "\n",
    "    # second ResNet -> shape = (NB_MAX_LENGTH, RESNET_2_KERNEL_NUM)\n",
    "    resnet_layer = resnet_2(conv1d_layer, config['RESNET_2_BLOCKS'], config['RESNET_2_KERNEL_SIZE'],\n",
    "                            config['RESNET_2_KERNEL_NUM'], config['DILATATION'])\n",
    "\n",
    "    dp = layers.Dropout(config['DROPOUT'])(resnet_layer)\n",
    "    conv1d_layer = layers.Conv1D(config['RESNET_2_KERNEL_NUM'] // 2, config['RESNET_2_KERNEL_SIZE'],\n",
    "                                 padding=\"same\",\n",
    "                                 activation='elu')(dp)\n",
    "    dense = layers.Dense(15)(conv1d_layer)\n",
    "\n",
    "    return tf.keras.Model(input_layer, dense)\n",
    "\n",
    "\n",
    "def plot_val_train_loss(history):\n",
    "    \"\"\"\n",
    "    plots the train and validation loss of the model at each epoch, saves it in 'model_loss_history.png'\n",
    "    :param history: history object (output of fit function)\n",
    "    :return: None\n",
    "    \"\"\"\n",
    "    ig, axes = plt.subplots(1, 1, figsize=(15, 3))\n",
    "    axes.plot(history.history['loss'], label='Training loss')\n",
    "    axes.plot(history.history['val_loss'], label='Validation loss')\n",
    "    axes.legend()\n",
    "    axes.set_title(\"Train and Val MSE loss\")\n",
    "\n",
    "    plt.savefig(\"/content/drive/MyDrive/Ex4Files/model_loss_history\")  # TODO: you can change the path here\n",
    "\n",
    "\n",
    "def get_config():\n",
    "    sweep_config = {}\n",
    "    sweep_config['method'] = 'bayes'\n",
    "    sweep_config['metric'] = {'name': 'best_val_loss', 'goal': 'minimize'}\n",
    "    sweep_config[\"early_terminate\"]= {\n",
    "        \"type\": \"hyperband\",\n",
    "        \"min_iter\": 2,\n",
    "        \"eta\": 2,\n",
    "    }\n",
    "\n",
    "    sweep_config['name'] = f\"BioEx4_{get_time()}\"\n",
    "    param_dict = {\n",
    "        'RESNET_1_BLOCKS': {'distribution': 'int_uniform', 'min': 1, 'max': 5},\n",
    "        'RESNET_1_KERNEL_SIZE': {'values': [3, 5, 7, 9]},\n",
    "        'RESNET_1_KERNEL_NUM': {'distribution': 'int_uniform', 'min': 8,\n",
    "                                'max': 64},\n",
    "        'RESNET_2_BLOCKS': {'distribution': 'int_uniform', 'min': 1, 'max': 5},\n",
    "        'RESNET_2_KERNEL_SIZE': {'values': [3, 5, 7, 9]},\n",
    "        'RESNET_2_KERNEL_NUM': {'distribution': 'int_uniform', 'min': 8,\n",
    "                                'max': 64},\n",
    "        'DROPOUT': {'distribution': 'uniform', 'min': 0.001, 'max': 0.5},\n",
    "        'EPOCHS': {'distribution': 'int_uniform', 'min': 5, 'max': 15},\n",
    "        \"LR\": {'distribution': 'uniform', 'min': 0.001, 'max': 0.025},\n",
    "        'BATCH': {'values': [16, 32, 64, 128, 256]},\n",
    "        'DILATATION': {'values': [[1, 2, 4], [1], [1, 2], [1, 4], [1, 2, 4, 8]]}\n",
    "    }\n",
    "\n",
    "    sweep_config['parameters'] = param_dict\n",
    "    return sweep_config\n",
    "\n",
    "\n",
    "\n",
    "\n",
    "\n",
    "class WandbCallback(tf.keras.callbacks.Callback):\n",
    "    def __init__(self, fold):\n",
    "        super(WandbCallback, self).__init__()\n",
    "        self.fold = fold\n",
    "\n",
    "    def on_epoch_end(self, epoch, logs=None):\n",
    "        wandb.log({'loss': logs['loss'], 'val_loss': logs['val_loss'], 'fold':\n",
    "            self.fold, 'epoch': epoch})\n",
    "\n",
    "\n",
    "def train(config=None):\n",
    "    if config is None:\n",
    "        config = get_default_config()\n",
    "    with wandb.init(config=config) as run:\n",
    "\n",
    "        # _______________loading the data_______________\n",
    "        config = wandb.config\n",
    "        input = np.load(\"train_input.npy\")  # numpy array of shape (1974,NB_MAX_LENGTH,FEATURE_NUM) - data\n",
    "        labels = np.load(\"train_labels.npy\")  # numpy array of shape (1974,NB_MAX_LENGTH,OUTPUT_SIZE) - labels\n",
    "        save_dir = \"BestFits/\"\n",
    "        model_name = run.name\n",
    "        fold_var = 1\n",
    "        kf = KFold(n_splits=5, shuffle=True, random_state=0)\n",
    "        my_optimizer = tf.keras.optimizers.Adam(learning_rate=config['LR'])\n",
    "        loss = 0\n",
    "        losses = np.zeros(5)\n",
    "        for t_idx, v_idx in kf.split(input, labels):\n",
    "            X_t, X_v = input[t_idx], input[v_idx]\n",
    "            y_t, y_v = labels[t_idx], labels[v_idx]\n",
    "\n",
    "            model = build_network(config)\n",
    "            # _______________compiling______________\n",
    "\n",
    "            model.compile(optimizer=my_optimizer, loss='mean_squared_error')\n",
    "\n",
    "            # _____________creating callbacks_____________\n",
    "            checkpoint = tf.keras.callbacks.ModelCheckpoint(f\"{save_dir}\"\n",
    "                                                            f\"{model_name}\"\n",
    "                                                            f\"{fold_var}.ckpt\",\n",
    "                                                            monitor='val_loss',\n",
    "                                                            save_best_only=True, mode='min')\n",
    "\n",
    "            callbacks_list = [checkpoint, WandbCallback(fold_var)]\n",
    "\n",
    "            # _____________fitting the model______________\n",
    "            history = model.fit(X_t, y_t,\n",
    "                                epochs=config['EPOCHS'],\n",
    "                                callbacks=callbacks_list,\n",
    "                                batch_size=config['BATCH'],\n",
    "                                validation_data=(X_v, y_v))\n",
    "\n",
    "\n",
    "            # _____________evaluate the model_____________\n",
    "            best_model = tf.keras.models.load_model(f\"{save_dir}\"\n",
    "                                                    f\"{model_name}\"\n",
    "                                                    f\"{fold_var}.ckpt\")\n",
    "\n",
    "            l = best_model.evaluate(X_v, y_v)\n",
    "            losses[fold_var - 1] = l\n",
    "            loss += l/5\n",
    "            wandb.log({'best_val_loss': loss})\n",
    "            # loss[fold_var - 1] = best_model.evaluate(X_v, y_v)\n",
    "            fold_var += 1\n",
    "            tf.keras.backend.clear_session()\n",
    "        wandb.log({'mean_loss': loss,'std':np.std(losses)})\n",
    "\n"
   ]
  },
  {
   "cell_type": "code",
   "execution_count": null,
   "metadata": {
    "id": "qRN8JS77GEw2"
   },
   "outputs": [],
   "source": [
    "def main():\n",
    "    sweep_id = wandb.sweep(get_config(), project=\"BioEx4_5\",\n",
    "                           entity=\"avishai-elma\")\n",
    "    wandb.agent(sweep_id, train, count=1000)\n"
   ]
  },
  {
   "cell_type": "code",
   "execution_count": null,
   "metadata": {
    "colab": {
     "base_uri": "https://localhost:8080/"
    },
    "id": "mgGzooGNNdQj",
    "outputId": "8deaef18-8cb2-40a6-e87f-65c02e24a1a2"
   },
   "outputs": [
    {
     "output_type": "stream",
     "name": "stdout",
     "text": [
      "\u001B[34m\u001B[1mwandb\u001B[0m: You can find your API key in your browser here: https://wandb.ai/authorize\n",
      "\u001B[34m\u001B[1mwandb\u001B[0m: Paste an API key from your profile and hit enter, or press ctrl+c to quit: \n",
      "\u001B[34m\u001B[1mwandb\u001B[0m: Appending key for api.wandb.ai to your netrc file: /root/.netrc\n"
     ]
    }
   ],
   "source": [
    "!wandb login"
   ]
  },
  {
   "cell_type": "code",
   "execution_count": null,
   "metadata": {
    "colab": {
     "base_uri": "https://localhost:8080/",
     "height": 1000,
     "referenced_widgets": [
      "56e032156f454df98988cbd3cce3b842",
      "15bf4223633c4b1399efcc84d25219a2",
      "b79323b2093e4cad9a91a5c91013a778",
      "9a90cee38cba44b498be940a7a530a26",
      "26fd397a72974e50afb6e338dc50d8b7",
      "1371d0535d93499e8c087cd6bacb0047",
      "be5d5c47369d474c9c6d66af17b04e17",
      "f0442a33fe98472abb3e3e045e8f90f3",
      "86435dc5b54f47329f865785f2ffb2c3",
      "f40fdf80683f471a886d83d1046916a4",
      "949d4465d860460793013313ffce0ffd",
      "4e5de110d8764291a92a83be9c1a2763",
      "cae2174e55764eac86b0190df1d25308",
      "478c09fb67484d528715e25e00008fed",
      "257581769ff9471c877c76af8c638170",
      "0da3a0fb18a24db3b860ee38c689777d",
      "d7e1084558e248c1a29550b8fd6594d2",
      "92b8f0722e9c483da0ebe91382693e9a",
      "a8d4c53cdcd34abc8defd2b5c6fa6560",
      "95302918665943a3b6d15809bff7e31e",
      "cfd7f1644da449f2ae0942df0cf236e4",
      "a7a2d2a1128d40688aceb57099fa9e02",
      "dc057b18dd7641a49cc1c64806cb4bdd",
      "f182b0f553f645458687807c010fdb0f",
      "49adf93101f9473b8894bf7e6537d8f1",
      "33ef9cbae8e64c09b2b2ab3e580edbc1",
      "86673199598a4268b611a47e8e97fbbe",
      "3fc238dc72624711a48002dd5c31e336",
      "3c9068fdbdae4f1dafb1b606b2162ace",
      "344efadedea54db3956c20e0830b9583",
      "6223f0cf72b240dcbc079bba4d39ba94",
      "3d356682041b4a85be49901370be1ed3",
      "6ba37990e5ea4141b06c1f0ff87741f6",
      "4a3c9b102ea447f588bcaf15a01bcdce",
      "b7e06d93e99e4400ade3c886fac49412",
      "df2ee4c14dd847f3beced51685bcf7ad",
      "9cadc85dbc6845eaab71bbf0df79ae4c",
      "1aa1cf60bf974a5381d80426ccb8f62a",
      "f78b36cdfaa441a5a453b9777f23e96c",
      "19fc097e0c054db59c379de81ff0ed01",
      "f71c3681aa84443ca658331df7d45faa",
      "b6a6c47e887d41639669ad2b80499e16",
      "60fbf53a417b41caa94d41aa69049261",
      "df33427ecf5d496ea4005c5f4ddc2b97",
      "a2d8f63048984935865c51e5a88af525",
      "79f14d5a66be48e18d93f5ea932f3b76",
      "392d2f82d9a94cfba7b768036cc2e542",
      "c0992699e57048a380f577d4f645ec99",
      "f637fe4f42ae4a67ba4ec471801ed7f2",
      "217df801867b4fc7bd014f35fb1e84a4",
      "049b8e4e14344dd9be7c3b63223b6eeb",
      "a049bcb68a8f478ea07e3ea676aeb594",
      "ecaa16870fe44b2fa382045aacda54eb",
      "a6911106ee814c25a9615ab4c9d92790",
      "dafcc7d1c62544609c2cc3ed85986d23",
      "01d27062c6e445f7a1f98c1d536487ad",
      "4e134ea921724a8e80eaaa93aed0d0de",
      "6fab2355a4ab4799bba0b47934072ef0",
      "37bb511bfbfd49abaf0e1041e99522fb",
      "7fcd23d5bd934420a5b83974b515d393",
      "37b42116347a48b1b431babb4681f3f2",
      "0e1c056a5e8d432d9e592ffccfca0e6e",
      "0ec06ac598184ede9bff66c535e824bf",
      "f97c63ec6d1a4737854db9fe203c5b8f",
      "b7987f18abfc4707b6a8b1a48c2ccf02",
      "b93039cd158a4e0da689636b24177fe8",
      "37a8feeb237145578d79c3c981399152",
      "8310c4b34dd7497fb2c290836c7d1e05",
      "3d46a777f72949c0819c085137bc7831",
      "a1f20f530b7b402d807567bcaaefd603",
      "e476391d183948b389d4d75df71044d3",
      "7a22a64e352b4da7a7455dc47afb2d65",
      "ee430ccc438149dd993ca76ff8adab85",
      "63987d97b79149409f0104cacbb7c202",
      "5c0ae0791e3e4dd69a4693464dd59d4a",
      "95ab35d6f75f42af9b3206d14f191218",
      "ff1c950290bf42939c996026216590e3",
      "1d3151abee8d4fd68069a96dfbf869f0",
      "b3d6171a00c44e56adf9cdbec9d44efa",
      "4ef15df3f6524b67aed714549d04d507",
      "70b08d20bd2a4af798fe676a53a5622b"
     ]
    },
    "id": "TQLxqy33pJk2",
    "outputId": "202c5788-6a35-4725-93a0-059b87599f13"
   },
   "outputs": [
    {
     "metadata": {
      "tags": null
     },
     "name": "stdout",
     "output_type": "stream",
     "text": [
      "Create sweep with ID: 5pa1928v\n",
      "Sweep URL: https://wandb.ai/avishai-elma/BioEx4_5/sweeps/5pa1928v\n"
     ]
    },
    {
     "metadata": {
      "tags": null
     },
     "name": "stderr",
     "output_type": "stream",
     "text": [
      "\u001B[34m\u001B[1mwandb\u001B[0m: Agent Starting Run: mky53j82 with config:\n",
      "\u001B[34m\u001B[1mwandb\u001B[0m: \tBATCH: 16\n",
      "\u001B[34m\u001B[1mwandb\u001B[0m: \tDILATATION: [1, 2, 4, 8]\n",
      "\u001B[34m\u001B[1mwandb\u001B[0m: \tDROPOUT: 0.24813238652338945\n",
      "\u001B[34m\u001B[1mwandb\u001B[0m: \tEPOCHS: 10\n",
      "\u001B[34m\u001B[1mwandb\u001B[0m: \tLR: 0.02401794717399047\n",
      "\u001B[34m\u001B[1mwandb\u001B[0m: \tRESNET_1_BLOCKS: 3\n",
      "\u001B[34m\u001B[1mwandb\u001B[0m: \tRESNET_1_KERNEL_NUM: 18\n",
      "\u001B[34m\u001B[1mwandb\u001B[0m: \tRESNET_1_KERNEL_SIZE: 9\n",
      "\u001B[34m\u001B[1mwandb\u001B[0m: \tRESNET_2_BLOCKS: 4\n",
      "\u001B[34m\u001B[1mwandb\u001B[0m: \tRESNET_2_KERNEL_NUM: 8\n",
      "\u001B[34m\u001B[1mwandb\u001B[0m: \tRESNET_2_KERNEL_SIZE: 3\n",
      "\u001B[34m\u001B[1mwandb\u001B[0m: Currently logged in as: \u001B[33mavishai-elma\u001B[0m. Use \u001B[1m`wandb login --relogin`\u001B[0m to force relogin\n"
     ]
    },
    {
     "data": {
      "text/html": [
       "Tracking run with wandb version 0.12.16"
      ],
      "text/plain": [
       "<IPython.core.display.HTML object>"
      ]
     },
     "metadata": {},
     "output_type": "display_data"
    },
    {
     "data": {
      "text/html": [
       "Run data is saved locally in <code>/content/drive/.shortcut-targets-by-id/13JKG3wgYlOO5t5AoOpkix7QiZamDhSEp/ColabNotebooks/wandb/run-20220505_092218-mky53j82</code>"
      ],
      "text/plain": [
       "<IPython.core.display.HTML object>"
      ]
     },
     "metadata": {},
     "output_type": "display_data"
    },
    {
     "data": {
      "text/html": [
       "Syncing run <strong><a href=\"https://wandb.ai/avishai-elma/BioEx4_5/runs/mky53j82\" target=\"_blank\">lunar-sweep-1</a></strong> to <a href=\"https://wandb.ai/avishai-elma/BioEx4_5\" target=\"_blank\">Weights & Biases</a> (<a href=\"https://wandb.me/run\" target=\"_blank\">docs</a>)<br/>Sweep page:  <a href=\"https://wandb.ai/avishai-elma/BioEx4_5/sweeps/5pa1928v\" target=\"_blank\">https://wandb.ai/avishai-elma/BioEx4_5/sweeps/5pa1928v</a>"
      ],
      "text/plain": [
       "<IPython.core.display.HTML object>"
      ]
     },
     "metadata": {},
     "output_type": "display_data"
    },
    {
     "metadata": {
      "tags": null
     },
     "name": "stdout",
     "output_type": "stream",
     "text": [
      "Epoch 1/10\n",
      "99/99 [==============================] - ETA: 0s - loss: 29.3807INFO:tensorflow:Assets written to: BestFits/lunar-sweep-11.ckpt/assets\n",
      "99/99 [==============================] - 58s 333ms/step - loss: 29.3807 - val_loss: 25.9727\n",
      "Epoch 2/10\n",
      "99/99 [==============================] - ETA: 0s - loss: 10.6684INFO:tensorflow:Assets written to: BestFits/lunar-sweep-11.ckpt/assets\n",
      "99/99 [==============================] - 31s 312ms/step - loss: 10.6684 - val_loss: 10.2870\n",
      "Epoch 3/10\n",
      "99/99 [==============================] - ETA: 0s - loss: 7.5076"
     ]
    },
    {
     "metadata": {
      "tags": null
     },
     "name": "stderr",
     "output_type": "stream",
     "text": [
      "\u001B[34m\u001B[1mwandb\u001B[0m: \u001B[32m\u001B[41mERROR\u001B[0m Error while calling W&B API: context deadline exceeded (<Response [500]>)\n"
     ]
    },
    {
     "metadata": {
      "tags": null
     },
     "name": "stdout",
     "output_type": "stream",
     "text": [
      "INFO:tensorflow:Assets written to: BestFits/lunar-sweep-11.ckpt/assets\n",
      "99/99 [==============================] - 30s 309ms/step - loss: 7.5076 - val_loss: 7.5742\n",
      "Epoch 4/10\n",
      "99/99 [==============================] - ETA: 0s - loss: 6.1204INFO:tensorflow:Assets written to: BestFits/lunar-sweep-11.ckpt/assets\n",
      "99/99 [==============================] - 31s 318ms/step - loss: 6.1204 - val_loss: 4.2648\n",
      "Epoch 5/10\n",
      "92/99 [==========================>...] - ETA: 0s - loss: 5.4696"
     ]
    },
    {
     "metadata": {
      "tags": null
     },
     "name": "stderr",
     "output_type": "stream",
     "text": [
      "\u001B[34m\u001B[1mwandb\u001B[0m: \u001B[32m\u001B[41mERROR\u001B[0m Error while calling W&B API: context deadline exceeded (<Response [500]>)\n"
     ]
    },
    {
     "metadata": {
      "tags": null
     },
     "name": "stdout",
     "output_type": "stream",
     "text": [
      "99/99 [==============================] - 7s 74ms/step - loss: 5.4367 - val_loss: 4.4925\n",
      "Epoch 6/10\n",
      "99/99 [==============================] - ETA: 0s - loss: 4.8794INFO:tensorflow:Assets written to: BestFits/lunar-sweep-11.ckpt/assets\n",
      "99/99 [==============================] - 31s 315ms/step - loss: 4.8794 - val_loss: 3.7651\n",
      "Epoch 7/10\n",
      "99/99 [==============================] - ETA: 0s - loss: 4.6962"
     ]
    },
    {
     "metadata": {
      "tags": null
     },
     "name": "stderr",
     "output_type": "stream",
     "text": [
      "\u001B[34m\u001B[1mwandb\u001B[0m: \u001B[32m\u001B[41mERROR\u001B[0m Error while calling W&B API: context deadline exceeded (<Response [500]>)\n",
      "\u001B[34m\u001B[1mwandb\u001B[0m: Network error (HTTPError), entering retry loop.\n"
     ]
    },
    {
     "metadata": {
      "tags": null
     },
     "name": "stdout",
     "output_type": "stream",
     "text": [
      "INFO:tensorflow:Assets written to: BestFits/lunar-sweep-11.ckpt/assets\n",
      "99/99 [==============================] - 30s 306ms/step - loss: 4.6962 - val_loss: 3.3424\n",
      "Epoch 8/10\n",
      "99/99 [==============================] - ETA: 0s - loss: 4.4975INFO:tensorflow:Assets written to: BestFits/lunar-sweep-11.ckpt/assets\n",
      "99/99 [==============================] - 30s 310ms/step - loss: 4.4975 - val_loss: 3.2160\n",
      "Epoch 9/10\n",
      "99/99 [==============================] - ETA: 0s - loss: 4.4857INFO:tensorflow:Assets written to: BestFits/lunar-sweep-11.ckpt/assets\n",
      "99/99 [==============================] - 31s 313ms/step - loss: 4.4857 - val_loss: 2.9736\n",
      "Epoch 10/10\n",
      "99/99 [==============================] - ETA: 0s - loss: 4.3404INFO:tensorflow:Assets written to: BestFits/lunar-sweep-11.ckpt/assets\n",
      "99/99 [==============================] - 31s 315ms/step - loss: 4.3404 - val_loss: 2.9406\n",
      "13/13 [==============================] - 2s 16ms/step - loss: 2.9406\n",
      "Epoch 1/10\n",
      "99/99 [==============================] - ETA: 0s - loss: 53.5395INFO:tensorflow:Assets written to: BestFits/lunar-sweep-12.ckpt/assets\n",
      "99/99 [==============================] - 46s 329ms/step - loss: 53.5395 - val_loss: 52.9731\n",
      "Epoch 2/10\n",
      "99/99 [==============================] - 7s 75ms/step - loss: 52.9892 - val_loss: 52.9736\n",
      "Epoch 3/10\n",
      "99/99 [==============================] - ETA: 0s - loss: 52.9895INFO:tensorflow:Assets written to: BestFits/lunar-sweep-12.ckpt/assets\n",
      "99/99 [==============================] - 29s 299ms/step - loss: 52.9895 - val_loss: 52.9730\n",
      "Epoch 4/10\n",
      "99/99 [==============================] - 7s 67ms/step - loss: 52.9889 - val_loss: 52.9760\n",
      "Epoch 5/10\n",
      "99/99 [==============================] - 7s 66ms/step - loss: 52.9888 - val_loss: 52.9730\n",
      "Epoch 6/10\n",
      "99/99 [==============================] - ETA: 0s - loss: 52.9898INFO:tensorflow:Assets written to: BestFits/lunar-sweep-12.ckpt/assets\n",
      "99/99 [==============================] - 28s 288ms/step - loss: 52.9898 - val_loss: 52.9726\n",
      "Epoch 7/10\n",
      "99/99 [==============================] - 6s 65ms/step - loss: 52.9898 - val_loss: 52.9738\n",
      "Epoch 8/10\n",
      "99/99 [==============================] - 6s 64ms/step - loss: 52.9901 - val_loss: 52.9735\n",
      "Epoch 9/10\n",
      "99/99 [==============================] - 6s 63ms/step - loss: 52.9905 - val_loss: 52.9749\n",
      "Epoch 10/10\n",
      "99/99 [==============================] - 6s 65ms/step - loss: 52.9915 - val_loss: 52.9727\n",
      "13/13 [==============================] - 2s 15ms/step - loss: 52.9726\n",
      "Epoch 1/10\n",
      "99/99 [==============================] - ETA: 0s - loss: 53.0444INFO:tensorflow:Assets written to: BestFits/lunar-sweep-13.ckpt/assets\n",
      "99/99 [==============================] - 43s 301ms/step - loss: 53.0444 - val_loss: 53.0960\n",
      "Epoch 2/10\n",
      "99/99 [==============================] - 7s 67ms/step - loss: 52.9632 - val_loss: 53.0984\n",
      "Epoch 3/10\n",
      "99/99 [==============================] - 7s 66ms/step - loss: 52.9652 - val_loss: 53.1060\n",
      "Epoch 4/10\n",
      "99/99 [==============================] - 6s 64ms/step - loss: 53.1107 - val_loss: 53.1017\n",
      "Epoch 5/10\n",
      "99/99 [==============================] - ETA: 0s - loss: 52.9619INFO:tensorflow:Assets written to: BestFits/lunar-sweep-13.ckpt/assets\n",
      "99/99 [==============================] - 28s 280ms/step - loss: 52.9619 - val_loss: 53.0955\n",
      "Epoch 6/10\n",
      "99/99 [==============================] - 6s 65ms/step - loss: 52.9621 - val_loss: 53.0972\n",
      "Epoch 7/10\n",
      "99/99 [==============================] - 6s 66ms/step - loss: 52.9605 - val_loss: 53.0959\n",
      "Epoch 8/10\n",
      "99/99 [==============================] - 6s 63ms/step - loss: 52.9609 - val_loss: 53.0977\n",
      "Epoch 9/10\n",
      "99/99 [==============================] - 7s 67ms/step - loss: 52.9605 - val_loss: 53.0977\n",
      "Epoch 10/10\n",
      "99/99 [==============================] - 6s 64ms/step - loss: 52.9597 - val_loss: 53.0964\n",
      "13/13 [==============================] - 2s 15ms/step - loss: 53.0955\n",
      "Epoch 1/10\n",
      "99/99 [==============================] - ETA: 0s - loss: 53.1299INFO:tensorflow:Assets written to: BestFits/lunar-sweep-14.ckpt/assets\n",
      "99/99 [==============================] - 44s 317ms/step - loss: 53.1299 - val_loss: 52.8164\n",
      "Epoch 2/10\n",
      "99/99 [==============================] - ETA: 0s - loss: 53.0309INFO:tensorflow:Assets written to: BestFits/lunar-sweep-14.ckpt/assets\n",
      "99/99 [==============================] - 30s 301ms/step - loss: 53.0309 - val_loss: 52.8152\n",
      "Epoch 3/10\n",
      "99/99 [==============================] - 7s 68ms/step - loss: 53.0313 - val_loss: 52.8223\n",
      "Epoch 4/10\n",
      "99/99 [==============================] - 7s 71ms/step - loss: 53.0310 - val_loss: 52.8187\n",
      "Epoch 5/10\n",
      "99/99 [==============================] - 7s 73ms/step - loss: 53.0334 - val_loss: 52.8153\n",
      "Epoch 6/10\n",
      "99/99 [==============================] - ETA: 0s - loss: 53.0308INFO:tensorflow:Assets written to: BestFits/lunar-sweep-14.ckpt/assets\n",
      "99/99 [==============================] - 29s 296ms/step - loss: 53.0308 - val_loss: 52.8152\n",
      "Epoch 7/10\n",
      "99/99 [==============================] - 6s 64ms/step - loss: 53.0305 - val_loss: 52.8156\n",
      "Epoch 8/10\n",
      "99/99 [==============================] - 7s 67ms/step - loss: 53.0332 - val_loss: 52.8163\n",
      "Epoch 9/10\n",
      "99/99 [==============================] - 7s 71ms/step - loss: 53.0330 - val_loss: 52.8187\n",
      "Epoch 10/10\n",
      "99/99 [==============================] - ETA: 0s - loss: 53.0333INFO:tensorflow:Assets written to: BestFits/lunar-sweep-14.ckpt/assets\n",
      "99/99 [==============================] - 29s 292ms/step - loss: 53.0333 - val_loss: 52.8145\n",
      "13/13 [==============================] - 2s 15ms/step - loss: 52.8144\n",
      "Epoch 1/10\n",
      "99/99 [==============================] - ETA: 0s - loss: 58.2339INFO:tensorflow:Assets written to: BestFits/lunar-sweep-15.ckpt/assets\n",
      "99/99 [==============================] - 45s 329ms/step - loss: 58.2339 - val_loss: 53.3663\n",
      "Epoch 2/10\n",
      "99/99 [==============================] - ETA: 0s - loss: 52.8914INFO:tensorflow:Assets written to: BestFits/lunar-sweep-15.ckpt/assets\n",
      "99/99 [==============================] - 29s 297ms/step - loss: 52.8914 - val_loss: 53.3659\n",
      "Epoch 3/10\n",
      "99/99 [==============================] - ETA: 0s - loss: 52.8908INFO:tensorflow:Assets written to: BestFits/lunar-sweep-15.ckpt/assets\n",
      "99/99 [==============================] - 30s 310ms/step - loss: 52.8908 - val_loss: 53.3653\n",
      "Epoch 4/10\n",
      "99/99 [==============================] - 7s 70ms/step - loss: 52.8912 - val_loss: 53.3662\n",
      "Epoch 5/10\n",
      "99/99 [==============================] - 7s 68ms/step - loss: 52.8903 - val_loss: 53.3667\n",
      "Epoch 6/10\n",
      "99/99 [==============================] - 7s 75ms/step - loss: 52.8909 - val_loss: 53.3689\n",
      "Epoch 7/10\n",
      "99/99 [==============================] - 7s 69ms/step - loss: 52.8907 - val_loss: 53.3657\n",
      "Epoch 8/10\n",
      "99/99 [==============================] - 7s 71ms/step - loss: 52.8905 - val_loss: 53.3672\n",
      "Epoch 9/10\n",
      "99/99 [==============================] - 7s 69ms/step - loss: 52.8905 - val_loss: 53.3701\n",
      "Epoch 10/10\n",
      "99/99 [==============================] - 7s 74ms/step - loss: 52.8906 - val_loss: 53.3690\n",
      "13/13 [==============================] - 2s 16ms/step - loss: 53.3653\n"
     ]
    },
    {
     "data": {
      "text/html": [
       "Waiting for W&B process to finish... <strong style=\"color:green\">(success).</strong>"
      ],
      "text/plain": [
       "<IPython.core.display.HTML object>"
      ]
     },
     "metadata": {},
     "output_type": "display_data"
    },
    {
     "data": {
      "application/vnd.jupyter.widget-view+json": {
       "model_id": "56e032156f454df98988cbd3cce3b842",
       "version_major": 2,
       "version_minor": 0
      },
      "text/plain": [
       "VBox(children=(Label(value='0.001 MB of 0.001 MB uploaded (0.000 MB deduped)\\r'), FloatProgress(value=1.0, max…"
      ]
     },
     "metadata": {},
     "output_type": "display_data"
    },
    {
     "data": {
      "text/html": [
       "<style>\n",
       "    table.wandb td:nth-child(1) { padding: 0 10px; text-align: left ; width: auto;} td:nth-child(2) {text-align: left ; width: 100%}\n",
       "    .wandb-row { display: flex; flex-direction: row; flex-wrap: wrap; justify-content: flex-start; width: 100% }\n",
       "    .wandb-col { display: flex; flex-direction: column; flex-basis: 100%; flex: 1; padding: 10px; }\n",
       "    </style>\n",
       "<div class=\"wandb-row\"><div class=\"wandb-col\"><h3>Run history:</h3><br/><table class=\"wandb\"><tr><td>best_val_loss</td><td>▁▃▄▆█</td></tr><tr><td>epoch</td><td>▁▂▃▃▅▆▆▇▁▂▃▃▅▆▆▇▁▂▃▃▅▆▆▇▁▂▃▃▅▆▆▇▁▂▃▃▅▆▆█</td></tr><tr><td>fold</td><td>▁▁▁▁▁▁▁▁▃▃▃▃▃▃▃▃▅▅▅▅▅▅▅▅▆▆▆▆▆▆▆▆████████</td></tr><tr><td>loss</td><td>▄▂▁▁▁▁▁▁▇▇▇▇▇▇▇▇▇▇▇▇▇▇▇▇▇▇▇▇▇▇▇▇█▇▇▇▇▇▇▇</td></tr><tr><td>mean_loss</td><td>▁</td></tr><tr><td>std</td><td>▁</td></tr><tr><td>val_loss</td><td>▄▂▂▁▁▁▁▁████████████████████████████████</td></tr></table><br/></div><div class=\"wandb-col\"><h3>Run summary:</h3><br/><table class=\"wandb\"><tr><td>best_val_loss</td><td>43.03769</td></tr><tr><td>epoch</td><td>9</td></tr><tr><td>fold</td><td>5</td></tr><tr><td>loss</td><td>52.89059</td></tr><tr><td>mean_loss</td><td>43.03769</td></tr><tr><td>std</td><td>20.04936</td></tr><tr><td>val_loss</td><td>53.369</td></tr></table><br/></div></div>"
      ],
      "text/plain": [
       "<IPython.core.display.HTML object>"
      ]
     },
     "metadata": {},
     "output_type": "display_data"
    },
    {
     "data": {
      "text/html": [
       "Synced <strong style=\"color:#cdcd00\">lunar-sweep-1</strong>: <a href=\"https://wandb.ai/avishai-elma/BioEx4_5/runs/mky53j82\" target=\"_blank\">https://wandb.ai/avishai-elma/BioEx4_5/runs/mky53j82</a><br/>Synced 5 W&B file(s), 0 media file(s), 0 artifact file(s) and 0 other file(s)"
      ],
      "text/plain": [
       "<IPython.core.display.HTML object>"
      ]
     },
     "metadata": {},
     "output_type": "display_data"
    },
    {
     "data": {
      "text/html": [
       "Find logs at: <code>./wandb/run-20220505_092218-mky53j82/logs</code>"
      ],
      "text/plain": [
       "<IPython.core.display.HTML object>"
      ]
     },
     "metadata": {},
     "output_type": "display_data"
    },
    {
     "metadata": {
      "tags": null
     },
     "name": "stderr",
     "output_type": "stream",
     "text": [
      "\u001B[34m\u001B[1mwandb\u001B[0m: Agent Starting Run: zyq01u1t with config:\n",
      "\u001B[34m\u001B[1mwandb\u001B[0m: \tBATCH: 32\n",
      "\u001B[34m\u001B[1mwandb\u001B[0m: \tDILATATION: [1]\n",
      "\u001B[34m\u001B[1mwandb\u001B[0m: \tDROPOUT: 0.12714960710710996\n",
      "\u001B[34m\u001B[1mwandb\u001B[0m: \tEPOCHS: 13\n",
      "\u001B[34m\u001B[1mwandb\u001B[0m: \tLR: 0.01741916624589146\n",
      "\u001B[34m\u001B[1mwandb\u001B[0m: \tRESNET_1_BLOCKS: 5\n",
      "\u001B[34m\u001B[1mwandb\u001B[0m: \tRESNET_1_KERNEL_NUM: 39\n",
      "\u001B[34m\u001B[1mwandb\u001B[0m: \tRESNET_1_KERNEL_SIZE: 9\n",
      "\u001B[34m\u001B[1mwandb\u001B[0m: \tRESNET_2_BLOCKS: 5\n",
      "\u001B[34m\u001B[1mwandb\u001B[0m: \tRESNET_2_KERNEL_NUM: 30\n",
      "\u001B[34m\u001B[1mwandb\u001B[0m: \tRESNET_2_KERNEL_SIZE: 5\n"
     ]
    },
    {
     "data": {
      "text/html": [
       "Tracking run with wandb version 0.12.16"
      ],
      "text/plain": [
       "<IPython.core.display.HTML object>"
      ]
     },
     "metadata": {},
     "output_type": "display_data"
    },
    {
     "data": {
      "text/html": [
       "Run data is saved locally in <code>/content/drive/.shortcut-targets-by-id/13JKG3wgYlOO5t5AoOpkix7QiZamDhSEp/ColabNotebooks/wandb/run-20220505_094040-zyq01u1t</code>"
      ],
      "text/plain": [
       "<IPython.core.display.HTML object>"
      ]
     },
     "metadata": {},
     "output_type": "display_data"
    },
    {
     "data": {
      "text/html": [
       "Syncing run <strong><a href=\"https://wandb.ai/avishai-elma/BioEx4_5/runs/zyq01u1t\" target=\"_blank\">silver-sweep-2</a></strong> to <a href=\"https://wandb.ai/avishai-elma/BioEx4_5\" target=\"_blank\">Weights & Biases</a> (<a href=\"https://wandb.me/run\" target=\"_blank\">docs</a>)<br/>Sweep page:  <a href=\"https://wandb.ai/avishai-elma/BioEx4_5/sweeps/5pa1928v\" target=\"_blank\">https://wandb.ai/avishai-elma/BioEx4_5/sweeps/5pa1928v</a>"
      ],
      "text/plain": [
       "<IPython.core.display.HTML object>"
      ]
     },
     "metadata": {},
     "output_type": "display_data"
    },
    {
     "metadata": {
      "tags": null
     },
     "name": "stdout",
     "output_type": "stream",
     "text": [
      "Epoch 1/13\n",
      "50/50 [==============================] - ETA: 0s - loss: 53.4629INFO:tensorflow:Assets written to: BestFits/silver-sweep-21.ckpt/assets\n",
      "50/50 [==============================] - 24s 327ms/step - loss: 53.4629 - val_loss: 52.2559\n",
      "Epoch 2/13\n",
      "49/50 [============================>.] - ETA: 0s - loss: 52.0253INFO:tensorflow:Assets written to: BestFits/silver-sweep-21.ckpt/assets\n",
      "50/50 [==============================] - 14s 282ms/step - loss: 52.0006 - val_loss: 50.4646\n",
      "Epoch 3/13\n",
      "50/50 [==============================] - 2s 46ms/step - loss: 52.0567 - val_loss: 52.6899\n",
      "Epoch 4/13\n",
      "50/50 [==============================] - 2s 46ms/step - loss: 52.9714 - val_loss: 52.6782\n",
      "Epoch 5/13\n",
      "50/50 [==============================] - 2s 47ms/step - loss: 53.0630 - val_loss: 52.6772\n",
      "Epoch 6/13\n",
      "50/50 [==============================] - 2s 47ms/step - loss: 53.0626 - val_loss: 52.6774\n",
      "Epoch 7/13\n",
      "50/50 [==============================] - 2s 46ms/step - loss: 53.0621 - val_loss: 52.6768\n",
      "Epoch 8/13\n",
      "50/50 [==============================] - 2s 45ms/step - loss: 53.0629 - val_loss: 52.6782\n",
      "Epoch 9/13\n",
      "50/50 [==============================] - 2s 44ms/step - loss: 53.0620 - val_loss: 52.6787\n",
      "Epoch 10/13\n",
      "50/50 [==============================] - 2s 45ms/step - loss: 53.0628 - val_loss: 52.6774\n",
      "Epoch 11/13\n",
      "50/50 [==============================] - 2s 45ms/step - loss: 53.0625 - val_loss: 52.6773\n",
      "Epoch 12/13\n",
      "50/50 [==============================] - 2s 45ms/step - loss: 53.0631 - val_loss: 52.6842\n",
      "Epoch 13/13\n",
      "50/50 [==============================] - 2s 46ms/step - loss: 53.0636 - val_loss: 52.6768\n",
      "13/13 [==============================] - 1s 16ms/step - loss: 50.4646\n",
      "Epoch 1/13\n",
      "50/50 [==============================] - ETA: 0s - loss: 1409.2714INFO:tensorflow:Assets written to: BestFits/silver-sweep-22.ckpt/assets\n",
      "50/50 [==============================] - 22s 307ms/step - loss: 1409.2714 - val_loss: 161994899456.0000\n",
      "Epoch 2/13\n",
      "50/50 [==============================] - ETA: 0s - loss: 55.1392INFO:tensorflow:Assets written to: BestFits/silver-sweep-22.ckpt/assets\n",
      "50/50 [==============================] - 14s 290ms/step - loss: 55.1392 - val_loss: 54.4172\n",
      "Epoch 3/13\n",
      "49/50 [============================>.] - ETA: 0s - loss: 54.0777INFO:tensorflow:Assets written to: BestFits/silver-sweep-22.ckpt/assets\n",
      "50/50 [==============================] - 14s 291ms/step - loss: 54.0907 - val_loss: 53.7818\n",
      "Epoch 4/13\n",
      "49/50 [============================>.] - ETA: 0s - loss: 53.9010INFO:tensorflow:Assets written to: BestFits/silver-sweep-22.ckpt/assets\n",
      "50/50 [==============================] - 14s 278ms/step - loss: 53.9093 - val_loss: 53.4503\n",
      "Epoch 5/13\n",
      "49/50 [============================>.] - ETA: 0s - loss: 53.3772INFO:tensorflow:Assets written to: BestFits/silver-sweep-22.ckpt/assets\n",
      "50/50 [==============================] - 14s 285ms/step - loss: 53.3692 - val_loss: 53.2660\n",
      "Epoch 6/13\n",
      "50/50 [==============================] - ETA: 0s - loss: 53.2257INFO:tensorflow:Assets written to: BestFits/silver-sweep-22.ckpt/assets\n",
      "50/50 [==============================] - 14s 276ms/step - loss: 53.2257 - val_loss: 53.1577\n",
      "Epoch 7/13\n",
      "50/50 [==============================] - ETA: 0s - loss: 53.1389INFO:tensorflow:Assets written to: BestFits/silver-sweep-22.ckpt/assets\n",
      "50/50 [==============================] - 14s 280ms/step - loss: 53.1389 - val_loss: 53.0911\n",
      "Epoch 8/13\n",
      "50/50 [==============================] - ETA: 0s - loss: 53.0917INFO:tensorflow:Assets written to: BestFits/silver-sweep-22.ckpt/assets\n",
      "50/50 [==============================] - 14s 276ms/step - loss: 53.0917 - val_loss: 53.0485\n",
      "Epoch 9/13\n",
      "50/50 [==============================] - ETA: 0s - loss: 53.0657INFO:tensorflow:Assets written to: BestFits/silver-sweep-22.ckpt/assets\n",
      "50/50 [==============================] - 14s 278ms/step - loss: 53.0657 - val_loss: 53.0211\n",
      "Epoch 10/13\n",
      "50/50 [==============================] - ETA: 0s - loss: 53.0274INFO:tensorflow:Assets written to: BestFits/silver-sweep-22.ckpt/assets\n",
      "50/50 [==============================] - 14s 283ms/step - loss: 53.0274 - val_loss: 53.0033\n",
      "Epoch 11/13\n",
      "50/50 [==============================] - ETA: 0s - loss: 53.0129INFO:tensorflow:Assets written to: BestFits/silver-sweep-22.ckpt/assets\n",
      "50/50 [==============================] - 14s 284ms/step - loss: 53.0129 - val_loss: 52.9918\n",
      "Epoch 12/13\n",
      "49/50 [============================>.] - ETA: 0s - loss: 53.0104INFO:tensorflow:Assets written to: BestFits/silver-sweep-22.ckpt/assets\n",
      "50/50 [==============================] - 14s 285ms/step - loss: 53.0034 - val_loss: 52.9844\n",
      "Epoch 13/13\n",
      "49/50 [============================>.] - ETA: 0s - loss: 53.0206INFO:tensorflow:Assets written to: BestFits/silver-sweep-22.ckpt/assets\n",
      "50/50 [==============================] - 14s 285ms/step - loss: 53.0100 - val_loss: 52.9797\n",
      "13/13 [==============================] - 1s 12ms/step - loss: 52.9797\n",
      "Epoch 1/13\n",
      "49/50 [============================>.] - ETA: 0s - loss: 748.9209INFO:tensorflow:Assets written to: BestFits/silver-sweep-23.ckpt/assets\n",
      "50/50 [==============================] - 22s 309ms/step - loss: 744.0629 - val_loss: 53.9458\n",
      "Epoch 2/13\n",
      "49/50 [============================>.] - ETA: 0s - loss: 53.5511INFO:tensorflow:Assets written to: BestFits/silver-sweep-23.ckpt/assets\n",
      "50/50 [==============================] - 14s 292ms/step - loss: 53.5586 - val_loss: 53.1667\n",
      "Epoch 3/13\n",
      "50/50 [==============================] - ETA: 0s - loss: 52.9844INFO:tensorflow:Assets written to: BestFits/silver-sweep-23.ckpt/assets\n",
      "50/50 [==============================] - 14s 284ms/step - loss: 52.9844 - val_loss: 53.1008\n",
      "Epoch 4/13\n",
      "50/50 [==============================] - ETA: 0s - loss: 52.9595INFO:tensorflow:Assets written to: BestFits/silver-sweep-23.ckpt/assets\n",
      "50/50 [==============================] - 14s 281ms/step - loss: 52.9595 - val_loss: 53.0950\n",
      "Epoch 5/13\n",
      "50/50 [==============================] - ETA: 0s - loss: 52.9573INFO:tensorflow:Assets written to: BestFits/silver-sweep-23.ckpt/assets\n",
      "50/50 [==============================] - 15s 305ms/step - loss: 52.9573 - val_loss: 53.0946\n",
      "Epoch 6/13\n",
      "49/50 [============================>.] - ETA: 0s - loss: 52.9447INFO:tensorflow:Assets written to: BestFits/silver-sweep-23.ckpt/assets\n",
      "50/50 [==============================] - 14s 282ms/step - loss: 52.9571 - val_loss: 53.0945\n",
      "Epoch 7/13\n",
      "50/50 [==============================] - 2s 48ms/step - loss: 52.9570 - val_loss: 53.0945\n",
      "Epoch 8/13\n",
      "50/50 [==============================] - 2s 49ms/step - loss: 52.9571 - val_loss: 53.0947\n",
      "Epoch 9/13\n",
      "50/50 [==============================] - ETA: 0s - loss: 52.9570INFO:tensorflow:Assets written to: BestFits/silver-sweep-23.ckpt/assets\n",
      "50/50 [==============================] - 14s 284ms/step - loss: 52.9570 - val_loss: 53.0945\n",
      "Epoch 10/13\n",
      "49/50 [============================>.] - ETA: 0s - loss: 52.9559INFO:tensorflow:Assets written to: BestFits/silver-sweep-23.ckpt/assets\n",
      "50/50 [==============================] - 15s 300ms/step - loss: 52.9571 - val_loss: 53.0944\n",
      "Epoch 11/13\n",
      "50/50 [==============================] - 3s 52ms/step - loss: 52.9570 - val_loss: 53.0946\n",
      "Epoch 12/13\n",
      "50/50 [==============================] - 2s 46ms/step - loss: 52.9570 - val_loss: 53.0946\n",
      "Epoch 13/13\n",
      "50/50 [==============================] - 2s 47ms/step - loss: 52.9572 - val_loss: 53.0945\n",
      "13/13 [==============================] - 1s 15ms/step - loss: 53.0944\n",
      "Epoch 1/13\n",
      "49/50 [============================>.] - ETA: 0s - loss: 2526.7651INFO:tensorflow:Assets written to: BestFits/silver-sweep-24.ckpt/assets\n",
      "50/50 [==============================] - 23s 318ms/step - loss: 2509.6091 - val_loss: 65.0708\n",
      "Epoch 2/13\n",
      "49/50 [============================>.] - ETA: 0s - loss: 62.9048INFO:tensorflow:Assets written to: BestFits/silver-sweep-24.ckpt/assets\n",
      "50/50 [==============================] - 14s 287ms/step - loss: 62.8854 - val_loss: 60.4212\n",
      "Epoch 3/13\n",
      "49/50 [============================>.] - ETA: 0s - loss: 59.1793INFO:tensorflow:Assets written to: BestFits/silver-sweep-24.ckpt/assets\n",
      "50/50 [==============================] - 14s 286ms/step - loss: 59.1896 - val_loss: 57.6723\n",
      "Epoch 4/13\n",
      "49/50 [============================>.] - ETA: 0s - loss: 57.0325INFO:tensorflow:Assets written to: BestFits/silver-sweep-24.ckpt/assets\n",
      "50/50 [==============================] - 14s 289ms/step - loss: 57.0343 - val_loss: 56.0255\n",
      "Epoch 5/13\n",
      "49/50 [============================>.] - ETA: 0s - loss: 55.7159INFO:tensorflow:Assets written to: BestFits/silver-sweep-24.ckpt/assets\n",
      "50/50 [==============================] - 15s 296ms/step - loss: 55.7021 - val_loss: 54.9755\n",
      "Epoch 6/13\n",
      "50/50 [==============================] - ETA: 0s - loss: 54.8357INFO:tensorflow:Assets written to: BestFits/silver-sweep-24.ckpt/assets\n",
      "50/50 [==============================] - 14s 294ms/step - loss: 54.8357 - val_loss: 54.2790\n",
      "Epoch 7/13\n",
      "50/50 [==============================] - ETA: 0s - loss: 54.2550INFO:tensorflow:Assets written to: BestFits/silver-sweep-24.ckpt/assets\n",
      "50/50 [==============================] - 14s 291ms/step - loss: 54.2550 - val_loss: 53.8076\n",
      "Epoch 8/13\n",
      "50/50 [==============================] - ETA: 0s - loss: 53.8599INFO:tensorflow:Assets written to: BestFits/silver-sweep-24.ckpt/assets\n",
      "50/50 [==============================] - 14s 288ms/step - loss: 53.8599 - val_loss: 53.4858\n",
      "Epoch 9/13\n",
      "49/50 [============================>.] - ETA: 0s - loss: 53.6032INFO:tensorflow:Assets written to: BestFits/silver-sweep-24.ckpt/assets\n",
      "50/50 [==============================] - 13s 271ms/step - loss: 53.5896 - val_loss: 53.2661\n",
      "Epoch 10/13\n",
      "50/50 [==============================] - ETA: 0s - loss: 53.4047INFO:tensorflow:Assets written to: BestFits/silver-sweep-24.ckpt/assets\n",
      "50/50 [==============================] - 15s 302ms/step - loss: 53.4047 - val_loss: 53.1163\n",
      "Epoch 11/13\n",
      "49/50 [============================>.] - ETA: 0s - loss: 53.2778INFO:tensorflow:Assets written to: BestFits/silver-sweep-24.ckpt/assets\n",
      "50/50 [==============================] - 14s 291ms/step - loss: 53.2789 - val_loss: 53.0145\n",
      "Epoch 12/13\n",
      "50/50 [==============================] - ETA: 0s - loss: 53.1937INFO:tensorflow:Assets written to: BestFits/silver-sweep-24.ckpt/assets\n",
      "50/50 [==============================] - 14s 279ms/step - loss: 53.1937 - val_loss: 52.9462\n",
      "Epoch 13/13\n",
      "49/50 [============================>.] - ETA: 0s - loss: 53.1406INFO:tensorflow:Assets written to: BestFits/silver-sweep-24.ckpt/assets\n",
      "50/50 [==============================] - 15s 305ms/step - loss: 53.1364 - val_loss: 52.9004\n",
      "13/13 [==============================] - 1s 16ms/step - loss: 52.9004\n",
      "Epoch 1/13\n",
      "50/50 [==============================] - ETA: 0s - loss: 14008.2275INFO:tensorflow:Assets written to: BestFits/silver-sweep-25.ckpt/assets\n",
      "50/50 [==============================] - 24s 333ms/step - loss: 14008.2275 - val_loss: 59.9224\n",
      "Epoch 2/13\n",
      "50/50 [==============================] - ETA: 0s - loss: 57.6851INFO:tensorflow:Assets written to: BestFits/silver-sweep-25.ckpt/assets\n",
      "50/50 [==============================] - 15s 297ms/step - loss: 57.6851 - val_loss: 56.6097\n",
      "Epoch 3/13\n",
      "49/50 [============================>.] - ETA: 0s - loss: 55.3729INFO:tensorflow:Assets written to: BestFits/silver-sweep-25.ckpt/assets\n",
      "50/50 [==============================] - 14s 294ms/step - loss: 55.3712 - val_loss: 55.1586\n",
      "Epoch 4/13\n",
      "50/50 [==============================] - ETA: 0s - loss: 54.3316INFO:tensorflow:Assets written to: BestFits/silver-sweep-25.ckpt/assets\n",
      "50/50 [==============================] - 14s 289ms/step - loss: 54.3316 - val_loss: 54.4574\n",
      "Epoch 5/13\n",
      "49/50 [============================>.] - ETA: 0s - loss: 53.7978INFO:tensorflow:Assets written to: BestFits/silver-sweep-25.ckpt/assets\n",
      "50/50 [==============================] - 14s 293ms/step - loss: 53.7975 - val_loss: 54.0724\n",
      "Epoch 6/13\n",
      "50/50 [==============================] - ETA: 0s - loss: 53.4909INFO:tensorflow:Assets written to: BestFits/silver-sweep-25.ckpt/assets\n",
      "50/50 [==============================] - 14s 289ms/step - loss: 53.4909 - val_loss: 53.8409\n",
      "Epoch 7/13\n",
      "50/50 [==============================] - ETA: 0s - loss: 53.2998INFO:tensorflow:Assets written to: BestFits/silver-sweep-25.ckpt/assets\n",
      "50/50 [==============================] - 14s 289ms/step - loss: 53.2998 - val_loss: 53.6917\n",
      "Epoch 8/13\n",
      "49/50 [============================>.] - ETA: 0s - loss: 53.1637INFO:tensorflow:Assets written to: BestFits/silver-sweep-25.ckpt/assets\n",
      "50/50 [==============================] - 14s 293ms/step - loss: 53.1739 - val_loss: 53.5919\n",
      "Epoch 9/13\n",
      "49/50 [============================>.] - ETA: 0s - loss: 53.0695INFO:tensorflow:Assets written to: BestFits/silver-sweep-25.ckpt/assets\n",
      "50/50 [==============================] - 14s 292ms/step - loss: 53.0885 - val_loss: 53.5233\n",
      "Epoch 10/13\n",
      "49/50 [============================>.] - ETA: 0s - loss: 53.0160INFO:tensorflow:Assets written to: BestFits/silver-sweep-25.ckpt/assets\n",
      "50/50 [==============================] - 14s 289ms/step - loss: 53.0293 - val_loss: 53.4757\n",
      "Epoch 11/13\n",
      "50/50 [==============================] - ETA: 0s - loss: 52.9880INFO:tensorflow:Assets written to: BestFits/silver-sweep-25.ckpt/assets\n",
      "50/50 [==============================] - 14s 288ms/step - loss: 52.9880 - val_loss: 53.4424\n",
      "Epoch 12/13\n",
      "49/50 [============================>.] - ETA: 0s - loss: 52.9574INFO:tensorflow:Assets written to: BestFits/silver-sweep-25.ckpt/assets\n",
      "50/50 [==============================] - 14s 287ms/step - loss: 52.9588 - val_loss: 53.4189\n",
      "Epoch 13/13\n",
      "50/50 [==============================] - ETA: 0s - loss: 52.9383INFO:tensorflow:Assets written to: BestFits/silver-sweep-25.ckpt/assets\n",
      "50/50 [==============================] - 13s 274ms/step - loss: 52.9383 - val_loss: 53.4025\n",
      "13/13 [==============================] - 1s 17ms/step - loss: 53.4025\n"
     ]
    },
    {
     "data": {
      "text/html": [
       "Waiting for W&B process to finish... <strong style=\"color:green\">(success).</strong>"
      ],
      "text/plain": [
       "<IPython.core.display.HTML object>"
      ]
     },
     "metadata": {},
     "output_type": "display_data"
    },
    {
     "data": {
      "application/vnd.jupyter.widget-view+json": {
       "model_id": "86435dc5b54f47329f865785f2ffb2c3",
       "version_major": 2,
       "version_minor": 0
      },
      "text/plain": [
       "VBox(children=(Label(value='0.001 MB of 0.001 MB uploaded (0.000 MB deduped)\\r'), FloatProgress(value=1.0, max…"
      ]
     },
     "metadata": {},
     "output_type": "display_data"
    },
    {
     "data": {
      "text/html": [
       "<style>\n",
       "    table.wandb td:nth-child(1) { padding: 0 10px; text-align: left ; width: auto;} td:nth-child(2) {text-align: left ; width: 100%}\n",
       "    .wandb-row { display: flex; flex-direction: row; flex-wrap: wrap; justify-content: flex-start; width: 100% }\n",
       "    .wandb-col { display: flex; flex-direction: column; flex-basis: 100%; flex: 1; padding: 10px; }\n",
       "    </style>\n",
       "<div class=\"wandb-row\"><div class=\"wandb-col\"><h3>Run history:</h3><br/><table class=\"wandb\"><tr><td>best_val_loss</td><td>▁▃▄▆█</td></tr><tr><td>epoch</td><td>▁▂▃▃▅▆▆▇▁▂▃▄▅▆▆▇▁▂▃▄▅▆▇▇▁▂▃▄▅▆▇▇▁▂▃▄▅▆▇█</td></tr><tr><td>fold</td><td>▁▁▁▁▁▁▁▁▃▃▃▃▃▃▃▃▅▅▅▅▅▅▅▅▆▆▆▆▆▆▆▆████████</td></tr><tr><td>loss</td><td>▁▁▁▁▁▁▁▁▂▁▁▁▁▁▁▁▁▁▁▁▁▁▁▁▂▁▁▁▁▁▁▁█▁▁▁▁▁▁▁</td></tr><tr><td>mean_loss</td><td>▁</td></tr><tr><td>std</td><td>▁</td></tr><tr><td>val_loss</td><td>▁▁▁▁▁▁▁▁█▁▁▁▁▁▁▁▁▁▁▁▁▁▁▁▁▁▁▁▁▁▁▁▁▁▁▁▁▁▁▁</td></tr></table><br/></div><div class=\"wandb-col\"><h3>Run summary:</h3><br/><table class=\"wandb\"><tr><td>best_val_loss</td><td>52.56832</td></tr><tr><td>epoch</td><td>12</td></tr><tr><td>fold</td><td>5</td></tr><tr><td>loss</td><td>52.93829</td></tr><tr><td>mean_loss</td><td>52.56832</td></tr><tr><td>std</td><td>1.06562</td></tr><tr><td>val_loss</td><td>53.40253</td></tr></table><br/></div></div>"
      ],
      "text/plain": [
       "<IPython.core.display.HTML object>"
      ]
     },
     "metadata": {},
     "output_type": "display_data"
    },
    {
     "data": {
      "text/html": [
       "Synced <strong style=\"color:#cdcd00\">silver-sweep-2</strong>: <a href=\"https://wandb.ai/avishai-elma/BioEx4_5/runs/zyq01u1t\" target=\"_blank\">https://wandb.ai/avishai-elma/BioEx4_5/runs/zyq01u1t</a><br/>Synced 5 W&B file(s), 0 media file(s), 0 artifact file(s) and 0 other file(s)"
      ],
      "text/plain": [
       "<IPython.core.display.HTML object>"
      ]
     },
     "metadata": {},
     "output_type": "display_data"
    },
    {
     "data": {
      "text/html": [
       "Find logs at: <code>./wandb/run-20220505_094040-zyq01u1t/logs</code>"
      ],
      "text/plain": [
       "<IPython.core.display.HTML object>"
      ]
     },
     "metadata": {},
     "output_type": "display_data"
    },
    {
     "metadata": {
      "tags": null
     },
     "name": "stderr",
     "output_type": "stream",
     "text": [
      "\u001B[34m\u001B[1mwandb\u001B[0m: Agent Starting Run: 40hakvsf with config:\n",
      "\u001B[34m\u001B[1mwandb\u001B[0m: \tBATCH: 16\n",
      "\u001B[34m\u001B[1mwandb\u001B[0m: \tDILATATION: [1, 4]\n",
      "\u001B[34m\u001B[1mwandb\u001B[0m: \tDROPOUT: 0.04095290723635687\n",
      "\u001B[34m\u001B[1mwandb\u001B[0m: \tEPOCHS: 14\n",
      "\u001B[34m\u001B[1mwandb\u001B[0m: \tLR: 0.006627017618765636\n",
      "\u001B[34m\u001B[1mwandb\u001B[0m: \tRESNET_1_BLOCKS: 4\n",
      "\u001B[34m\u001B[1mwandb\u001B[0m: \tRESNET_1_KERNEL_NUM: 38\n",
      "\u001B[34m\u001B[1mwandb\u001B[0m: \tRESNET_1_KERNEL_SIZE: 7\n",
      "\u001B[34m\u001B[1mwandb\u001B[0m: \tRESNET_2_BLOCKS: 5\n",
      "\u001B[34m\u001B[1mwandb\u001B[0m: \tRESNET_2_KERNEL_NUM: 44\n",
      "\u001B[34m\u001B[1mwandb\u001B[0m: \tRESNET_2_KERNEL_SIZE: 7\n"
     ]
    },
    {
     "data": {
      "text/html": [
       "Tracking run with wandb version 0.12.16"
      ],
      "text/plain": [
       "<IPython.core.display.HTML object>"
      ]
     },
     "metadata": {},
     "output_type": "display_data"
    },
    {
     "data": {
      "text/html": [
       "Run data is saved locally in <code>/content/drive/.shortcut-targets-by-id/13JKG3wgYlOO5t5AoOpkix7QiZamDhSEp/ColabNotebooks/wandb/run-20220505_095537-40hakvsf</code>"
      ],
      "text/plain": [
       "<IPython.core.display.HTML object>"
      ]
     },
     "metadata": {},
     "output_type": "display_data"
    },
    {
     "data": {
      "text/html": [
       "Syncing run <strong><a href=\"https://wandb.ai/avishai-elma/BioEx4_5/runs/40hakvsf\" target=\"_blank\">hearty-sweep-3</a></strong> to <a href=\"https://wandb.ai/avishai-elma/BioEx4_5\" target=\"_blank\">Weights & Biases</a> (<a href=\"https://wandb.me/run\" target=\"_blank\">docs</a>)<br/>Sweep page:  <a href=\"https://wandb.ai/avishai-elma/BioEx4_5/sweeps/5pa1928v\" target=\"_blank\">https://wandb.ai/avishai-elma/BioEx4_5/sweeps/5pa1928v</a>"
      ],
      "text/plain": [
       "<IPython.core.display.HTML object>"
      ]
     },
     "metadata": {},
     "output_type": "display_data"
    },
    {
     "metadata": {
      "tags": null
     },
     "name": "stdout",
     "output_type": "stream",
     "text": [
      "Epoch 1/14\n",
      "99/99 [==============================] - ETA: 0s - loss: 12.0967INFO:tensorflow:Assets written to: BestFits/hearty-sweep-31.ckpt/assets\n",
      "99/99 [==============================] - 36s 252ms/step - loss: 12.0967 - val_loss: 14.7883\n",
      "Epoch 2/14\n",
      "99/99 [==============================] - ETA: 0s - loss: 2.1767INFO:tensorflow:Assets written to: BestFits/hearty-sweep-31.ckpt/assets\n",
      "99/99 [==============================] - 22s 229ms/step - loss: 2.1767 - val_loss: 3.5156\n",
      "Epoch 3/14\n",
      "99/99 [==============================] - ETA: 0s - loss: 1.5955INFO:tensorflow:Assets written to: BestFits/hearty-sweep-31.ckpt/assets\n",
      "99/99 [==============================] - 23s 229ms/step - loss: 1.5955 - val_loss: 1.7230\n",
      "Epoch 4/14\n",
      "99/99 [==============================] - ETA: 0s - loss: 1.3590INFO:tensorflow:Assets written to: BestFits/hearty-sweep-31.ckpt/assets\n",
      "99/99 [==============================] - 23s 234ms/step - loss: 1.3590 - val_loss: 1.1498\n",
      "Epoch 5/14\n",
      "99/99 [==============================] - 7s 68ms/step - loss: 1.2464 - val_loss: 3.2894\n",
      "Epoch 6/14\n",
      "99/99 [==============================] - ETA: 0s - loss: 1.2830INFO:tensorflow:Assets written to: BestFits/hearty-sweep-31.ckpt/assets\n",
      "99/99 [==============================] - 24s 240ms/step - loss: 1.2830 - val_loss: 1.0836\n",
      "Epoch 7/14\n",
      "99/99 [==============================] - ETA: 0s - loss: 1.0858INFO:tensorflow:Assets written to: BestFits/hearty-sweep-31.ckpt/assets\n",
      "99/99 [==============================] - 24s 240ms/step - loss: 1.0858 - val_loss: 0.9444\n",
      "Epoch 8/14\n",
      "99/99 [==============================] - ETA: 0s - loss: 0.9434INFO:tensorflow:Assets written to: BestFits/hearty-sweep-31.ckpt/assets\n",
      "99/99 [==============================] - 23s 231ms/step - loss: 0.9434 - val_loss: 0.8627\n",
      "Epoch 9/14\n",
      "99/99 [==============================] - ETA: 0s - loss: 0.8826INFO:tensorflow:Assets written to: BestFits/hearty-sweep-31.ckpt/assets\n",
      "99/99 [==============================] - 24s 242ms/step - loss: 0.8826 - val_loss: 0.8576\n",
      "Epoch 10/14\n",
      "99/99 [==============================] - 7s 71ms/step - loss: 0.8438 - val_loss: 1.0115\n",
      "Epoch 11/14\n",
      "99/99 [==============================] - ETA: 0s - loss: 0.8622INFO:tensorflow:Assets written to: BestFits/hearty-sweep-31.ckpt/assets\n",
      "99/99 [==============================] - 23s 233ms/step - loss: 0.8622 - val_loss: 0.8246\n",
      "Epoch 12/14\n",
      "99/99 [==============================] - 7s 71ms/step - loss: 0.7755 - val_loss: 0.9215\n",
      "Epoch 13/14\n",
      "99/99 [==============================] - ETA: 0s - loss: 0.7676INFO:tensorflow:Assets written to: BestFits/hearty-sweep-31.ckpt/assets\n",
      "99/99 [==============================] - 24s 242ms/step - loss: 0.7676 - val_loss: 0.7939\n",
      "Epoch 14/14\n",
      "99/99 [==============================] - 7s 69ms/step - loss: 0.7183 - val_loss: 0.8261\n",
      "13/13 [==============================] - 2s 22ms/step - loss: 0.7939\n",
      "Epoch 1/14\n",
      "99/99 [==============================] - ETA: 0s - loss: 134.7288INFO:tensorflow:Assets written to: BestFits/hearty-sweep-32.ckpt/assets\n",
      "99/99 [==============================] - 33s 239ms/step - loss: 134.7288 - val_loss: 53.0622\n",
      "Epoch 2/14\n",
      "99/99 [==============================] - ETA: 0s - loss: 53.0161INFO:tensorflow:Assets written to: BestFits/hearty-sweep-32.ckpt/assets\n",
      "99/99 [==============================] - 22s 224ms/step - loss: 53.0161 - val_loss: 52.9770\n",
      "Epoch 3/14\n",
      "99/99 [==============================] - ETA: 0s - loss: 52.9894INFO:tensorflow:Assets written to: BestFits/hearty-sweep-32.ckpt/assets\n",
      "99/99 [==============================] - 23s 230ms/step - loss: 52.9894 - val_loss: 52.9732\n",
      "Epoch 4/14\n",
      "99/99 [==============================] - ETA: 0s - loss: 52.9881INFO:tensorflow:Assets written to: BestFits/hearty-sweep-32.ckpt/assets\n",
      "99/99 [==============================] - 22s 225ms/step - loss: 52.9881 - val_loss: 52.9724\n",
      "Epoch 5/14\n",
      "99/99 [==============================] - ETA: 0s - loss: 52.9878INFO:tensorflow:Assets written to: BestFits/hearty-sweep-32.ckpt/assets\n",
      "99/99 [==============================] - 23s 235ms/step - loss: 52.9878 - val_loss: 52.9724\n",
      "Epoch 6/14\n",
      "99/99 [==============================] - 7s 68ms/step - loss: 52.9878 - val_loss: 52.9724\n",
      "Epoch 7/14\n",
      "99/99 [==============================] - ETA: 0s - loss: 52.9876INFO:tensorflow:Assets written to: BestFits/hearty-sweep-32.ckpt/assets\n",
      "99/99 [==============================] - 23s 232ms/step - loss: 52.9876 - val_loss: 52.9722\n",
      "Epoch 8/14\n",
      "99/99 [==============================] - ETA: 0s - loss: 52.9877INFO:tensorflow:Assets written to: BestFits/hearty-sweep-32.ckpt/assets\n",
      "99/99 [==============================] - 23s 234ms/step - loss: 52.9877 - val_loss: 52.9722\n",
      "Epoch 9/14\n",
      "99/99 [==============================] - 7s 69ms/step - loss: 52.9879 - val_loss: 52.9723\n",
      "Epoch 10/14\n",
      "99/99 [==============================] - 7s 71ms/step - loss: 52.9876 - val_loss: 52.9725\n",
      "Epoch 11/14\n",
      "99/99 [==============================] - 7s 69ms/step - loss: 52.9878 - val_loss: 52.9723\n",
      "Epoch 12/14\n",
      "99/99 [==============================] - 7s 69ms/step - loss: 52.9878 - val_loss: 52.9723\n",
      "Epoch 13/14\n",
      "99/99 [==============================] - ETA: 0s - loss: 52.9878INFO:tensorflow:Assets written to: BestFits/hearty-sweep-32.ckpt/assets\n",
      "99/99 [==============================] - 23s 237ms/step - loss: 52.9878 - val_loss: 52.9722\n",
      "Epoch 14/14\n",
      "99/99 [==============================] - 7s 75ms/step - loss: 52.9877 - val_loss: 52.9723\n",
      "13/13 [==============================] - 1s 25ms/step - loss: 52.9722\n",
      "Epoch 1/14\n",
      "99/99 [==============================] - ETA: 0s - loss: 256.7983INFO:tensorflow:Assets written to: BestFits/hearty-sweep-33.ckpt/assets\n",
      "99/99 [==============================] - 34s 248ms/step - loss: 256.7983 - val_loss: 392747.2500\n",
      "Epoch 2/14\n",
      "99/99 [==============================] - ETA: 0s - loss: 55.4104INFO:tensorflow:Assets written to: BestFits/hearty-sweep-33.ckpt/assets\n",
      "99/99 [==============================] - 24s 239ms/step - loss: 55.4104 - val_loss: 54.8938\n",
      "Epoch 3/14\n",
      "99/99 [==============================] - ETA: 0s - loss: 54.3287INFO:tensorflow:Assets written to: BestFits/hearty-sweep-33.ckpt/assets\n",
      "99/99 [==============================] - 23s 238ms/step - loss: 54.3287 - val_loss: 54.1198\n",
      "Epoch 4/14\n",
      "99/99 [==============================] - ETA: 0s - loss: 53.7437INFO:tensorflow:Assets written to: BestFits/hearty-sweep-33.ckpt/assets\n",
      "99/99 [==============================] - 23s 239ms/step - loss: 53.7437 - val_loss: 53.6877\n",
      "Epoch 5/14\n",
      "99/99 [==============================] - ETA: 0s - loss: 53.4128INFO:tensorflow:Assets written to: BestFits/hearty-sweep-33.ckpt/assets\n",
      "99/99 [==============================] - 23s 238ms/step - loss: 53.4128 - val_loss: 53.4400\n",
      "Epoch 6/14\n",
      "99/99 [==============================] - ETA: 0s - loss: 53.2226INFO:tensorflow:Assets written to: BestFits/hearty-sweep-33.ckpt/assets\n",
      "99/99 [==============================] - 23s 236ms/step - loss: 53.2226 - val_loss: 53.2965\n",
      "Epoch 7/14\n",
      "99/99 [==============================] - ETA: 0s - loss: 53.1123INFO:tensorflow:Assets written to: BestFits/hearty-sweep-33.ckpt/assets\n",
      "99/99 [==============================] - 23s 233ms/step - loss: 53.1123 - val_loss: 53.2135\n",
      "Epoch 8/14\n",
      "99/99 [==============================] - ETA: 0s - loss: 53.0482INFO:tensorflow:Assets written to: BestFits/hearty-sweep-33.ckpt/assets\n",
      "99/99 [==============================] - 23s 230ms/step - loss: 53.0482 - val_loss: 53.1646\n",
      "Epoch 9/14\n",
      "99/99 [==============================] - ETA: 0s - loss: 53.0107INFO:tensorflow:Assets written to: BestFits/hearty-sweep-33.ckpt/assets\n",
      "99/99 [==============================] - 22s 225ms/step - loss: 53.0107 - val_loss: 53.1363\n",
      "Epoch 10/14\n",
      "99/99 [==============================] - ETA: 0s - loss: 52.9888INFO:tensorflow:Assets written to: BestFits/hearty-sweep-33.ckpt/assets\n",
      "99/99 [==============================] - 22s 226ms/step - loss: 52.9888 - val_loss: 53.1194\n",
      "Epoch 11/14\n",
      "99/99 [==============================] - ETA: 0s - loss: 52.9759INFO:tensorflow:Assets written to: BestFits/hearty-sweep-33.ckpt/assets\n",
      "99/99 [==============================] - 22s 224ms/step - loss: 52.9759 - val_loss: 53.1094\n",
      "Epoch 12/14\n",
      "99/99 [==============================] - ETA: 0s - loss: 52.9682INFO:tensorflow:Assets written to: BestFits/hearty-sweep-33.ckpt/assets\n",
      "99/99 [==============================] - 23s 230ms/step - loss: 52.9682 - val_loss: 53.1034\n",
      "Epoch 13/14\n",
      "99/99 [==============================] - ETA: 0s - loss: 52.9636INFO:tensorflow:Assets written to: BestFits/hearty-sweep-33.ckpt/assets\n",
      "99/99 [==============================] - 22s 225ms/step - loss: 52.9636 - val_loss: 53.0999\n",
      "Epoch 14/14\n",
      "99/99 [==============================] - ETA: 0s - loss: 52.9609INFO:tensorflow:Assets written to: BestFits/hearty-sweep-33.ckpt/assets\n",
      "99/99 [==============================] - 22s 227ms/step - loss: 52.9609 - val_loss: 53.0977\n",
      "13/13 [==============================] - 1s 23ms/step - loss: 53.0977\n",
      "Epoch 1/14\n",
      "99/99 [==============================] - ETA: 0s - loss: 541.2352INFO:tensorflow:Assets written to: BestFits/hearty-sweep-34.ckpt/assets\n",
      "99/99 [==============================] - 33s 249ms/step - loss: 541.2352 - val_loss: 56.6730\n",
      "Epoch 2/14\n",
      "99/99 [==============================] - ETA: 0s - loss: 56.1932INFO:tensorflow:Assets written to: BestFits/hearty-sweep-34.ckpt/assets\n",
      "99/99 [==============================] - 22s 225ms/step - loss: 56.1932 - val_loss: 55.3587\n",
      "Epoch 3/14\n",
      "99/99 [==============================] - ETA: 0s - loss: 55.1516INFO:tensorflow:Assets written to: BestFits/hearty-sweep-34.ckpt/assets\n",
      "99/99 [==============================] - 23s 230ms/step - loss: 55.1516 - val_loss: 54.5483\n",
      "Epoch 4/14\n",
      "99/99 [==============================] - ETA: 0s - loss: 54.4860INFO:tensorflow:Assets written to: BestFits/hearty-sweep-34.ckpt/assets\n",
      "99/99 [==============================] - 23s 230ms/step - loss: 54.4860 - val_loss: 54.0111\n",
      "Epoch 5/14\n",
      "99/99 [==============================] - ETA: 0s - loss: 54.0360INFO:tensorflow:Assets written to: BestFits/hearty-sweep-34.ckpt/assets\n",
      "99/99 [==============================] - 22s 227ms/step - loss: 54.0360 - val_loss: 53.6412\n",
      "Epoch 6/14\n",
      "99/99 [==============================] - ETA: 0s - loss: 53.7236INFO:tensorflow:Assets written to: BestFits/hearty-sweep-34.ckpt/assets\n",
      "99/99 [==============================] - 23s 230ms/step - loss: 53.7236 - val_loss: 53.3821\n",
      "Epoch 7/14\n",
      "99/99 [==============================] - ETA: 0s - loss: 53.5043INFO:tensorflow:Assets written to: BestFits/hearty-sweep-34.ckpt/assets\n",
      "99/99 [==============================] - 22s 228ms/step - loss: 53.5043 - val_loss: 53.2005\n",
      "Epoch 8/14\n",
      "99/99 [==============================] - ETA: 0s - loss: 53.3506INFO:tensorflow:Assets written to: BestFits/hearty-sweep-34.ckpt/assets\n",
      "99/99 [==============================] - 22s 227ms/step - loss: 53.3506 - val_loss: 53.0737\n",
      "Epoch 9/14\n",
      "99/99 [==============================] - ETA: 0s - loss: 53.2436INFO:tensorflow:Assets written to: BestFits/hearty-sweep-34.ckpt/assets\n",
      "99/99 [==============================] - 23s 230ms/step - loss: 53.2436 - val_loss: 52.9858\n",
      "Epoch 10/14\n",
      "99/99 [==============================] - ETA: 0s - loss: 53.1700INFO:tensorflow:Assets written to: BestFits/hearty-sweep-34.ckpt/assets\n",
      "99/99 [==============================] - 23s 237ms/step - loss: 53.1700 - val_loss: 52.9262\n",
      "Epoch 11/14\n",
      "99/99 [==============================] - ETA: 0s - loss: 53.1210INFO:tensorflow:Assets written to: BestFits/hearty-sweep-34.ckpt/assets\n",
      "99/99 [==============================] - 24s 241ms/step - loss: 53.1210 - val_loss: 52.8859\n",
      "Epoch 12/14\n",
      "99/99 [==============================] - ETA: 0s - loss: 53.0865INFO:tensorflow:Assets written to: BestFits/hearty-sweep-34.ckpt/assets\n",
      "99/99 [==============================] - 23s 238ms/step - loss: 53.0865 - val_loss: 52.8594\n",
      "Epoch 13/14\n",
      "99/99 [==============================] - ETA: 0s - loss: 53.0645INFO:tensorflow:Assets written to: BestFits/hearty-sweep-34.ckpt/assets\n",
      "99/99 [==============================] - 22s 228ms/step - loss: 53.0645 - val_loss: 52.8420\n",
      "Epoch 14/14\n",
      "99/99 [==============================] - ETA: 0s - loss: 53.0501INFO:tensorflow:Assets written to: BestFits/hearty-sweep-34.ckpt/assets\n",
      "99/99 [==============================] - 22s 229ms/step - loss: 53.0501 - val_loss: 52.8310\n",
      "13/13 [==============================] - 1s 25ms/step - loss: 52.8310\n",
      "Epoch 1/14\n",
      "99/99 [==============================] - ETA: 0s - loss: 295.0051INFO:tensorflow:Assets written to: BestFits/hearty-sweep-35.ckpt/assets\n",
      "99/99 [==============================] - 34s 249ms/step - loss: 295.0051 - val_loss: 55.3372\n",
      "Epoch 2/14\n",
      "99/99 [==============================] - ETA: 0s - loss: 54.2784INFO:tensorflow:Assets written to: BestFits/hearty-sweep-35.ckpt/assets\n",
      "99/99 [==============================] - 23s 233ms/step - loss: 54.2784 - val_loss: 54.3030\n",
      "Epoch 3/14\n",
      "99/99 [==============================] - ETA: 0s - loss: 53.5617INFO:tensorflow:Assets written to: BestFits/hearty-sweep-35.ckpt/assets\n",
      "99/99 [==============================] - 22s 225ms/step - loss: 53.5617 - val_loss: 53.8225\n",
      "Epoch 4/14\n",
      "99/99 [==============================] - ETA: 0s - loss: 53.2160INFO:tensorflow:Assets written to: BestFits/hearty-sweep-35.ckpt/assets\n",
      "99/99 [==============================] - 22s 229ms/step - loss: 53.2160 - val_loss: 53.5869\n",
      "Epoch 5/14\n",
      "99/99 [==============================] - ETA: 0s - loss: 53.0471INFO:tensorflow:Assets written to: BestFits/hearty-sweep-35.ckpt/assets\n",
      "99/99 [==============================] - 22s 226ms/step - loss: 53.0471 - val_loss: 53.4726\n",
      "Epoch 6/14\n",
      "99/99 [==============================] - ETA: 0s - loss: 52.9652INFO:tensorflow:Assets written to: BestFits/hearty-sweep-35.ckpt/assets\n",
      "99/99 [==============================] - 23s 230ms/step - loss: 52.9652 - val_loss: 53.4170\n",
      "Epoch 7/14\n",
      "99/99 [==============================] - ETA: 0s - loss: 52.9257INFO:tensorflow:Assets written to: BestFits/hearty-sweep-35.ckpt/assets\n",
      "99/99 [==============================] - 22s 228ms/step - loss: 52.9257 - val_loss: 53.3904\n",
      "Epoch 8/14\n",
      "99/99 [==============================] - ETA: 0s - loss: 52.9067INFO:tensorflow:Assets written to: BestFits/hearty-sweep-35.ckpt/assets\n",
      "99/99 [==============================] - 23s 231ms/step - loss: 52.9067 - val_loss: 53.3776\n",
      "Epoch 9/14\n",
      "99/99 [==============================] - ETA: 0s - loss: 52.8976INFO:tensorflow:Assets written to: BestFits/hearty-sweep-35.ckpt/assets\n",
      "99/99 [==============================] - 22s 226ms/step - loss: 52.8976 - val_loss: 53.3716\n",
      "Epoch 10/14\n",
      "99/99 [==============================] - ETA: 0s - loss: 52.8933INFO:tensorflow:Assets written to: BestFits/hearty-sweep-35.ckpt/assets\n",
      "99/99 [==============================] - 23s 231ms/step - loss: 52.8933 - val_loss: 53.3689\n",
      "Epoch 11/14\n",
      "99/99 [==============================] - ETA: 0s - loss: 52.8912INFO:tensorflow:Assets written to: BestFits/hearty-sweep-35.ckpt/assets\n",
      "99/99 [==============================] - 22s 228ms/step - loss: 52.8912 - val_loss: 53.3676\n",
      "Epoch 12/14\n",
      "99/99 [==============================] - ETA: 0s - loss: 52.8903INFO:tensorflow:Assets written to: BestFits/hearty-sweep-35.ckpt/assets\n",
      "99/99 [==============================] - 23s 232ms/step - loss: 52.8903 - val_loss: 53.3668\n",
      "Epoch 13/14\n",
      "99/99 [==============================] - ETA: 0s - loss: 52.8898INFO:tensorflow:Assets written to: BestFits/hearty-sweep-35.ckpt/assets\n",
      "99/99 [==============================] - 23s 231ms/step - loss: 52.8898 - val_loss: 53.3662\n",
      "Epoch 14/14\n",
      "99/99 [==============================] - 7s 67ms/step - loss: 52.8896 - val_loss: 53.3664\n",
      "13/13 [==============================] - 1s 23ms/step - loss: 53.3663\n"
     ]
    },
    {
     "data": {
      "text/html": [
       "Waiting for W&B process to finish... <strong style=\"color:green\">(success).</strong>"
      ],
      "text/plain": [
       "<IPython.core.display.HTML object>"
      ]
     },
     "metadata": {},
     "output_type": "display_data"
    },
    {
     "data": {
      "application/vnd.jupyter.widget-view+json": {
       "model_id": "d7e1084558e248c1a29550b8fd6594d2",
       "version_major": 2,
       "version_minor": 0
      },
      "text/plain": [
       "VBox(children=(Label(value='0.001 MB of 0.001 MB uploaded (0.000 MB deduped)\\r'), FloatProgress(value=1.0, max…"
      ]
     },
     "metadata": {},
     "output_type": "display_data"
    },
    {
     "data": {
      "text/html": [
       "<style>\n",
       "    table.wandb td:nth-child(1) { padding: 0 10px; text-align: left ; width: auto;} td:nth-child(2) {text-align: left ; width: 100%}\n",
       "    .wandb-row { display: flex; flex-direction: row; flex-wrap: wrap; justify-content: flex-start; width: 100% }\n",
       "    .wandb-col { display: flex; flex-direction: column; flex-basis: 100%; flex: 1; padding: 10px; }\n",
       "    </style>\n",
       "<div class=\"wandb-row\"><div class=\"wandb-col\"><h3>Run history:</h3><br/><table class=\"wandb\"><tr><td>best_val_loss</td><td>▁▃▄▆█</td></tr><tr><td>epoch</td><td>▁▂▃▄▅▅▆▇▁▂▃▄▅▆▆▇▁▂▃▄▅▆▆▇▁▂▃▄▅▆▇▇▁▂▃▄▅▆▇█</td></tr><tr><td>fold</td><td>▁▁▁▁▁▁▁▁▃▃▃▃▃▃▃▃▅▅▅▅▅▅▅▅▆▆▆▆▆▆▆▆████████</td></tr><tr><td>loss</td><td>▁▁▁▁▁▁▁▁▃▂▂▂▂▂▂▂▄▂▂▂▂▂▂▂█▂▂▂▂▂▂▂▅▂▂▂▂▂▂▂</td></tr><tr><td>mean_loss</td><td>▁</td></tr><tr><td>std</td><td>▁</td></tr><tr><td>val_loss</td><td>▁▁▁▁▁▁▁▁▁▁▁▁▁▁▁▁█▁▁▁▁▁▁▁▁▁▁▁▁▁▁▁▁▁▁▁▁▁▁▁</td></tr></table><br/></div><div class=\"wandb-col\"><h3>Run summary:</h3><br/><table class=\"wandb\"><tr><td>best_val_loss</td><td>42.61221</td></tr><tr><td>epoch</td><td>13</td></tr><tr><td>fold</td><td>5</td></tr><tr><td>loss</td><td>52.88957</td></tr><tr><td>mean_loss</td><td>42.61221</td></tr><tr><td>std</td><td>20.90989</td></tr><tr><td>val_loss</td><td>53.36643</td></tr></table><br/></div></div>"
      ],
      "text/plain": [
       "<IPython.core.display.HTML object>"
      ]
     },
     "metadata": {},
     "output_type": "display_data"
    },
    {
     "data": {
      "text/html": [
       "Synced <strong style=\"color:#cdcd00\">hearty-sweep-3</strong>: <a href=\"https://wandb.ai/avishai-elma/BioEx4_5/runs/40hakvsf\" target=\"_blank\">https://wandb.ai/avishai-elma/BioEx4_5/runs/40hakvsf</a><br/>Synced 5 W&B file(s), 0 media file(s), 0 artifact file(s) and 0 other file(s)"
      ],
      "text/plain": [
       "<IPython.core.display.HTML object>"
      ]
     },
     "metadata": {},
     "output_type": "display_data"
    },
    {
     "data": {
      "text/html": [
       "Find logs at: <code>./wandb/run-20220505_095537-40hakvsf/logs</code>"
      ],
      "text/plain": [
       "<IPython.core.display.HTML object>"
      ]
     },
     "metadata": {},
     "output_type": "display_data"
    },
    {
     "metadata": {
      "tags": null
     },
     "name": "stderr",
     "output_type": "stream",
     "text": [
      "\u001B[34m\u001B[1mwandb\u001B[0m: Agent Starting Run: cpm7ayqe with config:\n",
      "\u001B[34m\u001B[1mwandb\u001B[0m: \tBATCH: 16\n",
      "\u001B[34m\u001B[1mwandb\u001B[0m: \tDILATATION: [1, 2]\n",
      "\u001B[34m\u001B[1mwandb\u001B[0m: \tDROPOUT: 0.13354722075803893\n",
      "\u001B[34m\u001B[1mwandb\u001B[0m: \tEPOCHS: 13\n",
      "\u001B[34m\u001B[1mwandb\u001B[0m: \tLR: 0.014510114176055048\n",
      "\u001B[34m\u001B[1mwandb\u001B[0m: \tRESNET_1_BLOCKS: 5\n",
      "\u001B[34m\u001B[1mwandb\u001B[0m: \tRESNET_1_KERNEL_NUM: 53\n",
      "\u001B[34m\u001B[1mwandb\u001B[0m: \tRESNET_1_KERNEL_SIZE: 5\n",
      "\u001B[34m\u001B[1mwandb\u001B[0m: \tRESNET_2_BLOCKS: 4\n",
      "\u001B[34m\u001B[1mwandb\u001B[0m: \tRESNET_2_KERNEL_NUM: 21\n",
      "\u001B[34m\u001B[1mwandb\u001B[0m: \tRESNET_2_KERNEL_SIZE: 5\n"
     ]
    },
    {
     "data": {
      "text/html": [
       "Tracking run with wandb version 0.12.16"
      ],
      "text/plain": [
       "<IPython.core.display.HTML object>"
      ]
     },
     "metadata": {},
     "output_type": "display_data"
    },
    {
     "data": {
      "text/html": [
       "Run data is saved locally in <code>/content/drive/.shortcut-targets-by-id/13JKG3wgYlOO5t5AoOpkix7QiZamDhSEp/ColabNotebooks/wandb/run-20220505_102139-cpm7ayqe</code>"
      ],
      "text/plain": [
       "<IPython.core.display.HTML object>"
      ]
     },
     "metadata": {},
     "output_type": "display_data"
    },
    {
     "data": {
      "text/html": [
       "Syncing run <strong><a href=\"https://wandb.ai/avishai-elma/BioEx4_5/runs/cpm7ayqe\" target=\"_blank\">genial-sweep-4</a></strong> to <a href=\"https://wandb.ai/avishai-elma/BioEx4_5\" target=\"_blank\">Weights & Biases</a> (<a href=\"https://wandb.me/run\" target=\"_blank\">docs</a>)<br/>Sweep page:  <a href=\"https://wandb.ai/avishai-elma/BioEx4_5/sweeps/5pa1928v\" target=\"_blank\">https://wandb.ai/avishai-elma/BioEx4_5/sweeps/5pa1928v</a>"
      ],
      "text/plain": [
       "<IPython.core.display.HTML object>"
      ]
     },
     "metadata": {},
     "output_type": "display_data"
    },
    {
     "metadata": {
      "tags": null
     },
     "name": "stdout",
     "output_type": "stream",
     "text": [
      "Epoch 1/13\n",
      "99/99 [==============================] - ETA: 0s - loss: 41.9238INFO:tensorflow:Assets written to: BestFits/genial-sweep-41.ckpt/assets\n",
      "99/99 [==============================] - 32s 228ms/step - loss: 41.9238 - val_loss: 36.5063\n",
      "Epoch 2/13\n",
      "98/99 [============================>.] - ETA: 0s - loss: 22.5309INFO:tensorflow:Assets written to: BestFits/genial-sweep-41.ckpt/assets\n",
      "99/99 [==============================] - 20s 200ms/step - loss: 22.5136 - val_loss: 26.7126\n",
      "Epoch 3/13\n",
      "98/99 [============================>.] - ETA: 0s - loss: 20.5965INFO:tensorflow:Assets written to: BestFits/genial-sweep-41.ckpt/assets\n",
      "99/99 [==============================] - 21s 210ms/step - loss: 20.5939 - val_loss: 22.4975\n",
      "Epoch 4/13\n",
      "98/99 [============================>.] - ETA: 0s - loss: 14.7265INFO:tensorflow:Assets written to: BestFits/genial-sweep-41.ckpt/assets\n",
      "99/99 [==============================] - 21s 212ms/step - loss: 14.6993 - val_loss: 12.5103\n",
      "Epoch 5/13\n",
      "98/99 [============================>.] - ETA: 0s - loss: 9.5241INFO:tensorflow:Assets written to: BestFits/genial-sweep-41.ckpt/assets\n",
      "99/99 [==============================] - 21s 210ms/step - loss: 9.5209 - val_loss: 10.4291\n",
      "Epoch 6/13\n",
      "98/99 [============================>.] - ETA: 0s - loss: 8.4884INFO:tensorflow:Assets written to: BestFits/genial-sweep-41.ckpt/assets\n",
      "99/99 [==============================] - 21s 211ms/step - loss: 8.4787 - val_loss: 9.5500\n",
      "Epoch 7/13\n",
      "98/99 [============================>.] - ETA: 0s - loss: 6.1540INFO:tensorflow:Assets written to: BestFits/genial-sweep-41.ckpt/assets\n",
      "99/99 [==============================] - 21s 210ms/step - loss: 6.1520 - val_loss: 5.4397\n",
      "Epoch 8/13\n",
      "99/99 [==============================] - 6s 59ms/step - loss: 5.6043 - val_loss: 5.4444\n",
      "Epoch 9/13\n",
      "99/99 [==============================] - 6s 58ms/step - loss: 4.6742 - val_loss: 5.8243\n",
      "Epoch 10/13\n",
      "98/99 [============================>.] - ETA: 0s - loss: 3.2976INFO:tensorflow:Assets written to: BestFits/genial-sweep-41.ckpt/assets\n",
      "99/99 [==============================] - 21s 212ms/step - loss: 3.2975 - val_loss: 4.3519\n",
      "Epoch 11/13\n",
      "98/99 [============================>.] - ETA: 0s - loss: 3.1152INFO:tensorflow:Assets written to: BestFits/genial-sweep-41.ckpt/assets\n",
      "99/99 [==============================] - 20s 206ms/step - loss: 3.1155 - val_loss: 3.5610\n",
      "Epoch 12/13\n",
      "98/99 [============================>.] - ETA: 0s - loss: 2.9610INFO:tensorflow:Assets written to: BestFits/genial-sweep-41.ckpt/assets\n",
      "99/99 [==============================] - 20s 208ms/step - loss: 2.9623 - val_loss: 2.8550\n",
      "Epoch 13/13\n",
      "99/99 [==============================] - ETA: 0s - loss: 2.9153INFO:tensorflow:Assets written to: BestFits/genial-sweep-41.ckpt/assets\n",
      "99/99 [==============================] - 20s 208ms/step - loss: 2.9153 - val_loss: 2.6901\n",
      "13/13 [==============================] - 2s 15ms/step - loss: 2.6901\n",
      "Epoch 1/13\n",
      "98/99 [============================>.] - ETA: 0s - loss: 295.6770INFO:tensorflow:Assets written to: BestFits/genial-sweep-42.ckpt/assets\n",
      "99/99 [==============================] - 30s 214ms/step - loss: 294.0007 - val_loss: 12397.2080\n",
      "Epoch 2/13\n",
      "98/99 [============================>.] - ETA: 0s - loss: 53.1898INFO:tensorflow:Assets written to: BestFits/genial-sweep-42.ckpt/assets\n",
      "99/99 [==============================] - 21s 210ms/step - loss: 53.1849 - val_loss: 53.0422\n",
      "Epoch 3/13\n",
      "99/99 [==============================] - ETA: 0s - loss: 53.0237INFO:tensorflow:Assets written to: BestFits/genial-sweep-42.ckpt/assets\n",
      "99/99 [==============================] - 22s 220ms/step - loss: 53.0237 - val_loss: 52.9871\n",
      "Epoch 4/13\n",
      "99/99 [==============================] - ETA: 0s - loss: 52.9954INFO:tensorflow:Assets written to: BestFits/genial-sweep-42.ckpt/assets\n",
      "99/99 [==============================] - 22s 222ms/step - loss: 52.9954 - val_loss: 52.9755\n",
      "Epoch 5/13\n",
      "99/99 [==============================] - ETA: 0s - loss: 52.9893INFO:tensorflow:Assets written to: BestFits/genial-sweep-42.ckpt/assets\n",
      "99/99 [==============================] - 21s 213ms/step - loss: 52.9893 - val_loss: 52.9730\n",
      "Epoch 6/13\n",
      "98/99 [============================>.] - ETA: 0s - loss: 52.9880INFO:tensorflow:Assets written to: BestFits/genial-sweep-42.ckpt/assets\n",
      "99/99 [==============================] - 20s 208ms/step - loss: 52.9887 - val_loss: 52.9724\n",
      "Epoch 7/13\n",
      "99/99 [==============================] - ETA: 0s - loss: 53.0099INFO:tensorflow:Assets written to: BestFits/genial-sweep-42.ckpt/assets\n",
      "99/99 [==============================] - 20s 206ms/step - loss: 53.0099 - val_loss: 52.9723\n",
      "Epoch 8/13\n",
      "98/99 [============================>.] - ETA: 0s - loss: 53.0203INFO:tensorflow:Assets written to: BestFits/genial-sweep-42.ckpt/assets\n",
      "99/99 [==============================] - 20s 205ms/step - loss: 53.0159 - val_loss: 52.9722\n",
      "Epoch 9/13\n",
      "99/99 [==============================] - ETA: 0s - loss: 52.9876INFO:tensorflow:Assets written to: BestFits/genial-sweep-42.ckpt/assets\n",
      "99/99 [==============================] - 21s 212ms/step - loss: 52.9876 - val_loss: 52.9722\n",
      "Epoch 10/13\n",
      "99/99 [==============================] - 6s 58ms/step - loss: 52.9876 - val_loss: 52.9722\n",
      "Epoch 11/13\n",
      "99/99 [==============================] - 6s 58ms/step - loss: 52.9876 - val_loss: 52.9722\n",
      "Epoch 12/13\n",
      "99/99 [==============================] - 6s 60ms/step - loss: 52.9877 - val_loss: 52.9723\n",
      "Epoch 13/13\n",
      "99/99 [==============================] - ETA: 0s - loss: 52.9876INFO:tensorflow:Assets written to: BestFits/genial-sweep-42.ckpt/assets\n",
      "99/99 [==============================] - 21s 215ms/step - loss: 52.9876 - val_loss: 52.9722\n",
      "13/13 [==============================] - 1s 17ms/step - loss: 52.9722\n",
      "Epoch 1/13\n",
      "99/99 [==============================] - ETA: 0s - loss: 64.3402INFO:tensorflow:Assets written to: BestFits/genial-sweep-43.ckpt/assets\n",
      "99/99 [==============================] - 31s 224ms/step - loss: 64.3402 - val_loss: 53.0957\n",
      "Epoch 2/13\n",
      "99/99 [==============================] - ETA: 0s - loss: 52.9579INFO:tensorflow:Assets written to: BestFits/genial-sweep-43.ckpt/assets\n",
      "99/99 [==============================] - 21s 218ms/step - loss: 52.9579 - val_loss: 53.0947\n",
      "Epoch 3/13\n",
      "98/99 [============================>.] - ETA: 0s - loss: 52.9141INFO:tensorflow:Assets written to: BestFits/genial-sweep-43.ckpt/assets\n",
      "99/99 [==============================] - 21s 212ms/step - loss: 52.9592 - val_loss: 53.0947\n",
      "Epoch 4/13\n",
      "99/99 [==============================] - 6s 61ms/step - loss: 52.9575 - val_loss: 53.0957\n",
      "Epoch 5/13\n",
      "99/99 [==============================] - 6s 62ms/step - loss: 52.9584 - val_loss: 53.0954\n",
      "Epoch 6/13\n",
      "99/99 [==============================] - ETA: 0s - loss: 52.9580INFO:tensorflow:Assets written to: BestFits/genial-sweep-43.ckpt/assets\n",
      "99/99 [==============================] - 21s 209ms/step - loss: 52.9580 - val_loss: 53.0945\n",
      "Epoch 7/13\n",
      "99/99 [==============================] - 6s 59ms/step - loss: 52.9575 - val_loss: 53.0960\n",
      "Epoch 8/13\n",
      "99/99 [==============================] - 6s 60ms/step - loss: 52.9584 - val_loss: 53.0952\n",
      "Epoch 9/13\n",
      "99/99 [==============================] - 6s 59ms/step - loss: 52.9592 - val_loss: 53.0962\n",
      "Epoch 10/13\n",
      "99/99 [==============================] - 6s 60ms/step - loss: 52.9584 - val_loss: 53.0965\n",
      "Epoch 11/13\n",
      "99/99 [==============================] - 6s 61ms/step - loss: 52.9590 - val_loss: 53.0950\n",
      "Epoch 12/13\n",
      "99/99 [==============================] - 6s 60ms/step - loss: 52.9578 - val_loss: 53.0968\n",
      "Epoch 13/13\n",
      "99/99 [==============================] - 6s 60ms/step - loss: 52.9575 - val_loss: 53.0947\n",
      "13/13 [==============================] - 1s 17ms/step - loss: 53.0945\n",
      "Epoch 1/13\n",
      "98/99 [============================>.] - ETA: 0s - loss: 123.2240INFO:tensorflow:Assets written to: BestFits/genial-sweep-44.ckpt/assets\n",
      "99/99 [==============================] - 31s 227ms/step - loss: 122.7281 - val_loss: 52.8962\n",
      "Epoch 2/13\n",
      "99/99 [==============================] - ETA: 0s - loss: 53.0463INFO:tensorflow:Assets written to: BestFits/genial-sweep-44.ckpt/assets\n",
      "99/99 [==============================] - 21s 217ms/step - loss: 53.0463 - val_loss: 52.8158\n",
      "Epoch 3/13\n",
      "99/99 [==============================] - ETA: 0s - loss: 53.0277INFO:tensorflow:Assets written to: BestFits/genial-sweep-44.ckpt/assets\n",
      "99/99 [==============================] - 21s 212ms/step - loss: 53.0277 - val_loss: 52.8146\n",
      "Epoch 4/13\n",
      "99/99 [==============================] - ETA: 0s - loss: 53.0272INFO:tensorflow:Assets written to: BestFits/genial-sweep-44.ckpt/assets\n",
      "99/99 [==============================] - 21s 212ms/step - loss: 53.0272 - val_loss: 52.8142\n",
      "Epoch 5/13\n",
      "98/99 [============================>.] - ETA: 0s - loss: 53.0078INFO:tensorflow:Assets written to: BestFits/genial-sweep-44.ckpt/assets\n",
      "99/99 [==============================] - 21s 213ms/step - loss: 53.0272 - val_loss: 52.8142\n",
      "Epoch 6/13\n",
      "98/99 [============================>.] - ETA: 0s - loss: 53.0407INFO:tensorflow:Assets written to: BestFits/genial-sweep-44.ckpt/assets\n",
      "99/99 [==============================] - 21s 214ms/step - loss: 53.0273 - val_loss: 52.8141\n",
      "Epoch 7/13\n",
      "98/99 [============================>.] - ETA: 0s - loss: 53.0270INFO:tensorflow:Assets written to: BestFits/genial-sweep-44.ckpt/assets\n",
      "99/99 [==============================] - 22s 219ms/step - loss: 53.0273 - val_loss: 52.8138\n",
      "Epoch 8/13\n",
      "99/99 [==============================] - 6s 60ms/step - loss: 53.0272 - val_loss: 52.8144\n",
      "Epoch 9/13\n",
      "99/99 [==============================] - 6s 61ms/step - loss: 53.0273 - val_loss: 52.8142\n",
      "Epoch 10/13\n",
      "99/99 [==============================] - 6s 61ms/step - loss: 53.0272 - val_loss: 52.8149\n",
      "Epoch 11/13\n",
      "99/99 [==============================] - 6s 62ms/step - loss: 53.0274 - val_loss: 52.8142\n",
      "Epoch 12/13\n",
      "99/99 [==============================] - 6s 63ms/step - loss: 53.0273 - val_loss: 52.8140\n",
      "Epoch 13/13\n",
      "99/99 [==============================] - 6s 62ms/step - loss: 53.0274 - val_loss: 52.8144\n",
      "13/13 [==============================] - 1s 18ms/step - loss: 52.8138\n",
      "Epoch 1/13\n",
      "99/99 [==============================] - ETA: 0s - loss: 1247.5516INFO:tensorflow:Assets written to: BestFits/genial-sweep-45.ckpt/assets\n",
      "99/99 [==============================] - 33s 230ms/step - loss: 1247.5516 - val_loss: 54.7582\n",
      "Epoch 2/13\n",
      "99/99 [==============================] - ETA: 0s - loss: 53.7383INFO:tensorflow:Assets written to: BestFits/genial-sweep-45.ckpt/assets\n",
      "99/99 [==============================] - 21s 217ms/step - loss: 53.7383 - val_loss: 53.8423\n",
      "Epoch 3/13\n",
      "99/99 [==============================] - ETA: 0s - loss: 53.1823INFO:tensorflow:Assets written to: BestFits/genial-sweep-45.ckpt/assets\n",
      "99/99 [==============================] - 22s 223ms/step - loss: 53.1823 - val_loss: 53.5324\n",
      "Epoch 4/13\n",
      "99/99 [==============================] - ETA: 0s - loss: 52.9901INFO:tensorflow:Assets written to: BestFits/genial-sweep-45.ckpt/assets\n",
      "99/99 [==============================] - 22s 220ms/step - loss: 52.9901 - val_loss: 53.4231\n",
      "Epoch 5/13\n",
      "99/99 [==============================] - ETA: 0s - loss: 52.9229INFO:tensorflow:Assets written to: BestFits/genial-sweep-45.ckpt/assets\n",
      "99/99 [==============================] - 22s 219ms/step - loss: 52.9229 - val_loss: 53.3849\n",
      "Epoch 6/13\n",
      "99/99 [==============================] - ETA: 0s - loss: 52.9001INFO:tensorflow:Assets written to: BestFits/genial-sweep-45.ckpt/assets\n",
      "99/99 [==============================] - 21s 218ms/step - loss: 52.9001 - val_loss: 53.3721\n",
      "Epoch 7/13\n",
      "99/99 [==============================] - ETA: 0s - loss: 52.8926INFO:tensorflow:Assets written to: BestFits/genial-sweep-45.ckpt/assets\n",
      "99/99 [==============================] - 21s 218ms/step - loss: 52.8926 - val_loss: 53.3681\n",
      "Epoch 8/13\n",
      "99/99 [==============================] - ETA: 0s - loss: 52.8904INFO:tensorflow:Assets written to: BestFits/genial-sweep-45.ckpt/assets\n",
      "99/99 [==============================] - 21s 218ms/step - loss: 52.8904 - val_loss: 53.3665\n",
      "Epoch 9/13\n",
      "99/99 [==============================] - ETA: 0s - loss: 52.8897INFO:tensorflow:Assets written to: BestFits/genial-sweep-45.ckpt/assets\n",
      "99/99 [==============================] - 22s 224ms/step - loss: 52.8897 - val_loss: 53.3661\n",
      "Epoch 10/13\n",
      "99/99 [==============================] - ETA: 0s - loss: 52.8895INFO:tensorflow:Assets written to: BestFits/genial-sweep-45.ckpt/assets\n",
      "99/99 [==============================] - 21s 216ms/step - loss: 52.8895 - val_loss: 53.3660\n",
      "Epoch 11/13\n",
      "99/99 [==============================] - ETA: 0s - loss: 52.8895INFO:tensorflow:Assets written to: BestFits/genial-sweep-45.ckpt/assets\n",
      "99/99 [==============================] - 22s 223ms/step - loss: 52.8895 - val_loss: 53.3659\n",
      "Epoch 12/13\n",
      "99/99 [==============================] - 6s 62ms/step - loss: 52.8895 - val_loss: 53.3660\n",
      "Epoch 13/13\n",
      "99/99 [==============================] - 6s 61ms/step - loss: 52.8894 - val_loss: 53.3663\n",
      "13/13 [==============================] - 1s 19ms/step - loss: 53.3659\n"
     ]
    },
    {
     "data": {
      "text/html": [
       "Waiting for W&B process to finish... <strong style=\"color:green\">(success).</strong>"
      ],
      "text/plain": [
       "<IPython.core.display.HTML object>"
      ]
     },
     "metadata": {},
     "output_type": "display_data"
    },
    {
     "data": {
      "application/vnd.jupyter.widget-view+json": {
       "model_id": "49adf93101f9473b8894bf7e6537d8f1",
       "version_major": 2,
       "version_minor": 0
      },
      "text/plain": [
       "VBox(children=(Label(value='0.001 MB of 0.001 MB uploaded (0.000 MB deduped)\\r'), FloatProgress(value=1.0, max…"
      ]
     },
     "metadata": {},
     "output_type": "display_data"
    },
    {
     "data": {
      "text/html": [
       "<style>\n",
       "    table.wandb td:nth-child(1) { padding: 0 10px; text-align: left ; width: auto;} td:nth-child(2) {text-align: left ; width: 100%}\n",
       "    .wandb-row { display: flex; flex-direction: row; flex-wrap: wrap; justify-content: flex-start; width: 100% }\n",
       "    .wandb-col { display: flex; flex-direction: column; flex-basis: 100%; flex: 1; padding: 10px; }\n",
       "    </style>\n",
       "<div class=\"wandb-row\"><div class=\"wandb-col\"><h3>Run history:</h3><br/><table class=\"wandb\"><tr><td>best_val_loss</td><td>▁▃▄▆█</td></tr><tr><td>epoch</td><td>▁▂▃▃▅▆▆▇▁▂▃▄▅▆▆▇▁▂▃▄▅▆▇▇▁▂▃▄▅▆▇▇▁▂▃▄▅▆▇█</td></tr><tr><td>fold</td><td>▁▁▁▁▁▁▁▁▃▃▃▃▃▃▃▃▅▅▅▅▅▅▅▅▆▆▆▆▆▆▆▆████████</td></tr><tr><td>loss</td><td>▁▁▁▁▁▁▁▁▃▁▁▁▁▁▁▁▁▁▁▁▁▁▁▁▂▁▁▁▁▁▁▁█▁▁▁▁▁▁▁</td></tr><tr><td>mean_loss</td><td>▁</td></tr><tr><td>std</td><td>▁</td></tr><tr><td>val_loss</td><td>▁▁▁▁▁▁▁▁█▁▁▁▁▁▁▁▁▁▁▁▁▁▁▁▁▁▁▁▁▁▁▁▁▁▁▁▁▁▁▁</td></tr></table><br/></div><div class=\"wandb-col\"><h3>Run summary:</h3><br/><table class=\"wandb\"><tr><td>best_val_loss</td><td>42.98728</td></tr><tr><td>epoch</td><td>12</td></tr><tr><td>fold</td><td>5</td></tr><tr><td>loss</td><td>52.8894</td></tr><tr><td>mean_loss</td><td>42.98728</td></tr><tr><td>std</td><td>20.14942</td></tr><tr><td>val_loss</td><td>53.36628</td></tr></table><br/></div></div>"
      ],
      "text/plain": [
       "<IPython.core.display.HTML object>"
      ]
     },
     "metadata": {},
     "output_type": "display_data"
    },
    {
     "data": {
      "text/html": [
       "Synced <strong style=\"color:#cdcd00\">genial-sweep-4</strong>: <a href=\"https://wandb.ai/avishai-elma/BioEx4_5/runs/cpm7ayqe\" target=\"_blank\">https://wandb.ai/avishai-elma/BioEx4_5/runs/cpm7ayqe</a><br/>Synced 5 W&B file(s), 0 media file(s), 0 artifact file(s) and 0 other file(s)"
      ],
      "text/plain": [
       "<IPython.core.display.HTML object>"
      ]
     },
     "metadata": {},
     "output_type": "display_data"
    },
    {
     "data": {
      "text/html": [
       "Find logs at: <code>./wandb/run-20220505_102139-cpm7ayqe/logs</code>"
      ],
      "text/plain": [
       "<IPython.core.display.HTML object>"
      ]
     },
     "metadata": {},
     "output_type": "display_data"
    },
    {
     "metadata": {
      "tags": null
     },
     "name": "stderr",
     "output_type": "stream",
     "text": [
      "\u001B[34m\u001B[1mwandb\u001B[0m: Agent Starting Run: fgge9djl with config:\n",
      "\u001B[34m\u001B[1mwandb\u001B[0m: \tBATCH: 32\n",
      "\u001B[34m\u001B[1mwandb\u001B[0m: \tDILATATION: [1, 4]\n",
      "\u001B[34m\u001B[1mwandb\u001B[0m: \tDROPOUT: 0.07454805905678047\n",
      "\u001B[34m\u001B[1mwandb\u001B[0m: \tEPOCHS: 11\n",
      "\u001B[34m\u001B[1mwandb\u001B[0m: \tLR: 0.02124529066556041\n",
      "\u001B[34m\u001B[1mwandb\u001B[0m: \tRESNET_1_BLOCKS: 2\n",
      "\u001B[34m\u001B[1mwandb\u001B[0m: \tRESNET_1_KERNEL_NUM: 58\n",
      "\u001B[34m\u001B[1mwandb\u001B[0m: \tRESNET_1_KERNEL_SIZE: 9\n",
      "\u001B[34m\u001B[1mwandb\u001B[0m: \tRESNET_2_BLOCKS: 4\n",
      "\u001B[34m\u001B[1mwandb\u001B[0m: \tRESNET_2_KERNEL_NUM: 37\n",
      "\u001B[34m\u001B[1mwandb\u001B[0m: \tRESNET_2_KERNEL_SIZE: 7\n"
     ]
    },
    {
     "data": {
      "text/html": [
       "Tracking run with wandb version 0.12.16"
      ],
      "text/plain": [
       "<IPython.core.display.HTML object>"
      ]
     },
     "metadata": {},
     "output_type": "display_data"
    },
    {
     "data": {
      "text/html": [
       "Run data is saved locally in <code>/content/drive/.shortcut-targets-by-id/13JKG3wgYlOO5t5AoOpkix7QiZamDhSEp/ColabNotebooks/wandb/run-20220505_104119-fgge9djl</code>"
      ],
      "text/plain": [
       "<IPython.core.display.HTML object>"
      ]
     },
     "metadata": {},
     "output_type": "display_data"
    },
    {
     "data": {
      "text/html": [
       "Syncing run <strong><a href=\"https://wandb.ai/avishai-elma/BioEx4_5/runs/fgge9djl\" target=\"_blank\">winter-sweep-5</a></strong> to <a href=\"https://wandb.ai/avishai-elma/BioEx4_5\" target=\"_blank\">Weights & Biases</a> (<a href=\"https://wandb.me/run\" target=\"_blank\">docs</a>)<br/>Sweep page:  <a href=\"https://wandb.ai/avishai-elma/BioEx4_5/sweeps/5pa1928v\" target=\"_blank\">https://wandb.ai/avishai-elma/BioEx4_5/sweeps/5pa1928v</a>"
      ],
      "text/plain": [
       "<IPython.core.display.HTML object>"
      ]
     },
     "metadata": {},
     "output_type": "display_data"
    },
    {
     "metadata": {
      "tags": null
     },
     "name": "stdout",
     "output_type": "stream",
     "text": [
      "Epoch 1/11\n",
      "50/50 [==============================] - ETA: 0s - loss: 69.3353INFO:tensorflow:Assets written to: BestFits/winter-sweep-51.ckpt/assets\n",
      "50/50 [==============================] - 28s 348ms/step - loss: 69.3353 - val_loss: 52.6879\n",
      "Epoch 2/11\n",
      "49/50 [============================>.] - ETA: 0s - loss: 53.0827INFO:tensorflow:Assets written to: BestFits/winter-sweep-51.ckpt/assets\n",
      "50/50 [==============================] - 15s 305ms/step - loss: 53.0666 - val_loss: 52.6778\n",
      "Epoch 3/11\n",
      "49/50 [============================>.] - ETA: 0s - loss: 53.0534INFO:tensorflow:Assets written to: BestFits/winter-sweep-51.ckpt/assets\n",
      "50/50 [==============================] - 15s 295ms/step - loss: 53.0616 - val_loss: 52.6775\n",
      "Epoch 4/11\n",
      "50/50 [==============================] - 3s 57ms/step - loss: 53.0618 - val_loss: 52.6804\n",
      "Epoch 5/11\n",
      "50/50 [==============================] - 3s 54ms/step - loss: 53.0621 - val_loss: 52.6787\n",
      "Epoch 6/11\n",
      "49/50 [============================>.] - ETA: 0s - loss: 53.0737INFO:tensorflow:Assets written to: BestFits/winter-sweep-51.ckpt/assets\n",
      "50/50 [==============================] - 14s 294ms/step - loss: 53.0626 - val_loss: 52.6767\n",
      "Epoch 7/11\n",
      "50/50 [==============================] - 3s 57ms/step - loss: 53.0624 - val_loss: 52.6794\n",
      "Epoch 8/11\n",
      "50/50 [==============================] - 3s 53ms/step - loss: 53.0627 - val_loss: 52.6793\n",
      "Epoch 9/11\n",
      "50/50 [==============================] - 3s 53ms/step - loss: 53.0618 - val_loss: 52.6770\n",
      "Epoch 10/11\n",
      "50/50 [==============================] - 3s 54ms/step - loss: 53.0625 - val_loss: 52.6784\n",
      "Epoch 11/11\n",
      "50/50 [==============================] - 3s 57ms/step - loss: 53.0619 - val_loss: 52.6791\n",
      "13/13 [==============================] - 1s 16ms/step - loss: 52.6767\n",
      "Epoch 1/11\n",
      "49/50 [============================>.] - ETA: 0s - loss: 124.9422INFO:tensorflow:Assets written to: BestFits/winter-sweep-52.ckpt/assets\n",
      "50/50 [==============================] - 22s 306ms/step - loss: 124.4370 - val_loss: 18103.8086\n",
      "Epoch 2/11\n",
      "49/50 [============================>.] - ETA: 0s - loss: 53.0008INFO:tensorflow:Assets written to: BestFits/winter-sweep-52.ckpt/assets\n",
      "50/50 [==============================] - 15s 296ms/step - loss: 52.9926 - val_loss: 52.9726\n",
      "Epoch 3/11\n",
      "50/50 [==============================] - 3s 54ms/step - loss: 52.9883 - val_loss: 52.9733\n",
      "Epoch 4/11\n",
      "49/50 [============================>.] - ETA: 0s - loss: 52.9886INFO:tensorflow:Assets written to: BestFits/winter-sweep-52.ckpt/assets\n",
      "50/50 [==============================] - 15s 296ms/step - loss: 52.9882 - val_loss: 52.9724\n",
      "Epoch 5/11\n",
      "49/50 [============================>.] - ETA: 0s - loss: 52.9848INFO:tensorflow:Assets written to: BestFits/winter-sweep-52.ckpt/assets\n",
      "50/50 [==============================] - 14s 291ms/step - loss: 52.9883 - val_loss: 52.9723\n",
      "Epoch 6/11\n",
      "50/50 [==============================] - 3s 60ms/step - loss: 52.9877 - val_loss: 52.9751\n",
      "Epoch 7/11\n",
      "50/50 [==============================] - 3s 57ms/step - loss: 52.9883 - val_loss: 52.9728\n",
      "Epoch 8/11\n",
      "50/50 [==============================] - 3s 56ms/step - loss: 52.9880 - val_loss: 52.9725\n",
      "Epoch 9/11\n",
      "50/50 [==============================] - 3s 57ms/step - loss: 52.9875 - val_loss: 52.9760\n",
      "Epoch 10/11\n",
      "50/50 [==============================] - 3s 57ms/step - loss: 52.9883 - val_loss: 52.9743\n",
      "Epoch 11/11\n",
      "50/50 [==============================] - 3s 57ms/step - loss: 52.9884 - val_loss: 52.9725\n",
      "13/13 [==============================] - 1s 16ms/step - loss: 52.9723\n",
      "Epoch 1/11\n",
      "49/50 [============================>.] - ETA: 0s - loss: 246528.8750INFO:tensorflow:Assets written to: BestFits/winter-sweep-53.ckpt/assets\n",
      "50/50 [==============================] - 22s 317ms/step - loss: 244811.8594 - val_loss: 58.8996\n",
      "Epoch 2/11\n",
      "49/50 [============================>.] - ETA: 0s - loss: 63.9278INFO:tensorflow:Assets written to: BestFits/winter-sweep-53.ckpt/assets\n",
      "50/50 [==============================] - 16s 316ms/step - loss: 63.8746 - val_loss: 58.2851\n",
      "Epoch 3/11\n",
      "49/50 [============================>.] - ETA: 0s - loss: 59.0667INFO:tensorflow:Assets written to: BestFits/winter-sweep-53.ckpt/assets\n",
      "50/50 [==============================] - 15s 304ms/step - loss: 59.0582 - val_loss: 57.6137\n",
      "Epoch 4/11\n",
      "49/50 [============================>.] - ETA: 0s - loss: 63.0477INFO:tensorflow:Assets written to: BestFits/winter-sweep-53.ckpt/assets\n",
      "50/50 [==============================] - 15s 303ms/step - loss: 62.9920 - val_loss: 57.0165\n",
      "Epoch 5/11\n",
      "49/50 [============================>.] - ETA: 0s - loss: 56.6180INFO:tensorflow:Assets written to: BestFits/winter-sweep-53.ckpt/assets\n",
      "50/50 [==============================] - 14s 292ms/step - loss: 56.6177 - val_loss: 56.4864\n",
      "Epoch 6/11\n",
      "49/50 [============================>.] - ETA: 0s - loss: 56.1147INFO:tensorflow:Assets written to: BestFits/winter-sweep-53.ckpt/assets\n",
      "50/50 [==============================] - 16s 319ms/step - loss: 56.1185 - val_loss: 56.0194\n",
      "Epoch 7/11\n",
      "49/50 [============================>.] - ETA: 0s - loss: 55.6873INFO:tensorflow:Assets written to: BestFits/winter-sweep-53.ckpt/assets\n",
      "50/50 [==============================] - 15s 299ms/step - loss: 55.6794 - val_loss: 55.6087\n",
      "Epoch 8/11\n",
      "49/50 [============================>.] - ETA: 0s - loss: 55.2933INFO:tensorflow:Assets written to: BestFits/winter-sweep-53.ckpt/assets\n",
      "50/50 [==============================] - 15s 301ms/step - loss: 55.2943 - val_loss: 55.2495\n",
      "Epoch 9/11\n",
      "49/50 [============================>.] - ETA: 0s - loss: 54.9571INFO:tensorflow:Assets written to: BestFits/winter-sweep-53.ckpt/assets\n",
      "50/50 [==============================] - 14s 289ms/step - loss: 54.9579 - val_loss: 54.9360\n",
      "Epoch 10/11\n",
      "49/50 [============================>.] - ETA: 0s - loss: 54.6388INFO:tensorflow:Assets written to: BestFits/winter-sweep-53.ckpt/assets\n",
      "50/50 [==============================] - 15s 313ms/step - loss: 54.6653 - val_loss: 54.6639\n",
      "Epoch 11/11\n",
      "49/50 [============================>.] - ETA: 0s - loss: 60.3751INFO:tensorflow:Assets written to: BestFits/winter-sweep-53.ckpt/assets\n",
      "50/50 [==============================] - 14s 292ms/step - loss: 60.3314 - val_loss: 54.4300\n",
      "13/13 [==============================] - 1s 21ms/step - loss: 54.4300\n",
      "Epoch 1/11\n",
      "50/50 [==============================] - ETA: 0s - loss: 412.6803INFO:tensorflow:Assets written to: BestFits/winter-sweep-54.ckpt/assets\n",
      "50/50 [==============================] - 24s 364ms/step - loss: 412.6803 - val_loss: 53.1184\n",
      "Epoch 2/11\n",
      "49/50 [============================>.] - ETA: 0s - loss: 53.0999INFO:tensorflow:Assets written to: BestFits/winter-sweep-54.ckpt/assets\n",
      "50/50 [==============================] - 16s 320ms/step - loss: 53.0982 - val_loss: 52.8177\n",
      "Epoch 3/11\n",
      "50/50 [==============================] - ETA: 0s - loss: 53.0278INFO:tensorflow:Assets written to: BestFits/winter-sweep-54.ckpt/assets\n",
      "50/50 [==============================] - 16s 325ms/step - loss: 53.0278 - val_loss: 52.8143\n",
      "Epoch 4/11\n",
      "49/50 [============================>.] - ETA: 0s - loss: 53.0231INFO:tensorflow:Assets written to: BestFits/winter-sweep-54.ckpt/assets\n",
      "50/50 [==============================] - 15s 300ms/step - loss: 53.0274 - val_loss: 52.8141\n",
      "Epoch 5/11\n",
      "50/50 [==============================] - 3s 62ms/step - loss: 53.0272 - val_loss: 52.8145\n",
      "Epoch 6/11\n",
      "50/50 [==============================] - 3s 62ms/step - loss: 53.0274 - val_loss: 52.8142\n",
      "Epoch 7/11\n",
      "50/50 [==============================] - 3s 60ms/step - loss: 53.0273 - val_loss: 52.8141\n",
      "Epoch 8/11\n",
      "50/50 [==============================] - 3s 62ms/step - loss: 53.0272 - val_loss: 52.8143\n",
      "Epoch 9/11\n",
      "50/50 [==============================] - 3s 60ms/step - loss: 53.0273 - val_loss: 52.8142\n",
      "Epoch 10/11\n",
      "50/50 [==============================] - 3s 60ms/step - loss: 53.0272 - val_loss: 52.8143\n",
      "Epoch 11/11\n",
      "50/50 [==============================] - 3s 60ms/step - loss: 53.0273 - val_loss: 52.8141\n",
      "13/13 [==============================] - 1s 21ms/step - loss: 52.8141\n",
      "Epoch 1/11\n",
      "50/50 [==============================] - ETA: 0s - loss: 789746.3125INFO:tensorflow:Assets written to: BestFits/winter-sweep-55.ckpt/assets\n",
      "50/50 [==============================] - 24s 342ms/step - loss: 789746.3125 - val_loss: 82.3599\n",
      "Epoch 2/11\n",
      "50/50 [==============================] - 3s 63ms/step - loss: 82.1273 - val_loss: 82.4477\n",
      "Epoch 3/11\n",
      "49/50 [============================>.] - ETA: 0s - loss: 81.8181INFO:tensorflow:Assets written to: BestFits/winter-sweep-55.ckpt/assets\n",
      "50/50 [==============================] - 15s 307ms/step - loss: 81.8088 - val_loss: 82.0265\n",
      "Epoch 4/11\n",
      "49/50 [============================>.] - ETA: 0s - loss: 81.3997INFO:tensorflow:Assets written to: BestFits/winter-sweep-55.ckpt/assets\n",
      "50/50 [==============================] - 15s 312ms/step - loss: 81.3829 - val_loss: 81.5974\n",
      "Epoch 5/11\n",
      "49/50 [============================>.] - ETA: 0s - loss: 80.9476INFO:tensorflow:Assets written to: BestFits/winter-sweep-55.ckpt/assets\n",
      "50/50 [==============================] - 16s 320ms/step - loss: 80.9515 - val_loss: 81.1635\n",
      "Epoch 6/11\n",
      "49/50 [============================>.] - ETA: 0s - loss: 80.5126INFO:tensorflow:Assets written to: BestFits/winter-sweep-55.ckpt/assets\n",
      "50/50 [==============================] - 16s 318ms/step - loss: 80.5152 - val_loss: 80.7249\n",
      "Epoch 7/11\n",
      "49/50 [============================>.] - ETA: 0s - loss: 80.0798INFO:tensorflow:Assets written to: BestFits/winter-sweep-55.ckpt/assets\n",
      "50/50 [==============================] - 15s 305ms/step - loss: 80.0744 - val_loss: 80.2818\n",
      "Epoch 8/11\n",
      "50/50 [==============================] - ETA: 0s - loss: 79.6291INFO:tensorflow:Assets written to: BestFits/winter-sweep-55.ckpt/assets\n",
      "50/50 [==============================] - 15s 303ms/step - loss: 79.6291 - val_loss: 79.8344\n",
      "Epoch 9/11\n",
      "49/50 [============================>.] - ETA: 0s - loss: 79.1967INFO:tensorflow:Assets written to: BestFits/winter-sweep-55.ckpt/assets\n",
      "50/50 [==============================] - 14s 293ms/step - loss: 79.1797 - val_loss: 79.3830\n",
      "Epoch 10/11\n",
      "49/50 [============================>.] - ETA: 0s - loss: 78.7283INFO:tensorflow:Assets written to: BestFits/winter-sweep-55.ckpt/assets\n",
      "50/50 [==============================] - 15s 310ms/step - loss: 78.7264 - val_loss: 78.9277\n",
      "Epoch 11/11\n",
      "49/50 [============================>.] - ETA: 0s - loss: 78.2792INFO:tensorflow:Assets written to: BestFits/winter-sweep-55.ckpt/assets\n",
      "50/50 [==============================] - 15s 306ms/step - loss: 78.2694 - val_loss: 78.4689\n",
      "13/13 [==============================] - 1s 20ms/step - loss: 78.4689\n"
     ]
    },
    {
     "data": {
      "text/html": [
       "Waiting for W&B process to finish... <strong style=\"color:green\">(success).</strong>"
      ],
      "text/plain": [
       "<IPython.core.display.HTML object>"
      ]
     },
     "metadata": {},
     "output_type": "display_data"
    },
    {
     "data": {
      "application/vnd.jupyter.widget-view+json": {
       "model_id": "6ba37990e5ea4141b06c1f0ff87741f6",
       "version_major": 2,
       "version_minor": 0
      },
      "text/plain": [
       "VBox(children=(Label(value='0.001 MB of 0.001 MB uploaded (0.000 MB deduped)\\r'), FloatProgress(value=1.0, max…"
      ]
     },
     "metadata": {},
     "output_type": "display_data"
    },
    {
     "data": {
      "text/html": [
       "<style>\n",
       "    table.wandb td:nth-child(1) { padding: 0 10px; text-align: left ; width: auto;} td:nth-child(2) {text-align: left ; width: 100%}\n",
       "    .wandb-row { display: flex; flex-direction: row; flex-wrap: wrap; justify-content: flex-start; width: 100% }\n",
       "    .wandb-col { display: flex; flex-direction: column; flex-basis: 100%; flex: 1; padding: 10px; }\n",
       "    </style>\n",
       "<div class=\"wandb-row\"><div class=\"wandb-col\"><h3>Run history:</h3><br/><table class=\"wandb\"><tr><td>best_val_loss</td><td>▁▃▄▆█</td></tr><tr><td>epoch</td><td>▁▂▂▄▅▅▇▇▁▂▂▄▅▆▇▇▁▂▂▄▅▆▇▇▁▂▃▄▅▆▇▇▁▂▃▄▅▆▇█</td></tr><tr><td>fold</td><td>▁▁▁▁▁▁▁▁▃▃▃▃▃▃▃▃▅▅▅▅▅▅▅▅▆▆▆▆▆▆▆▆████████</td></tr><tr><td>loss</td><td>▁▁▁▁▁▁▁▁▁▁▁▁▁▁▁▁▃▁▁▁▁▁▁▁▁▁▁▁▁▁▁▁█▁▁▁▁▁▁▁</td></tr><tr><td>mean_loss</td><td>▁</td></tr><tr><td>std</td><td>▁</td></tr><tr><td>val_loss</td><td>▁▁▁▁▁▁▁▁█▁▁▁▁▁▁▁▁▁▁▁▁▁▁▁▁▁▁▁▁▁▁▁▁▁▁▁▁▁▁▁</td></tr></table><br/></div><div class=\"wandb-col\"><h3>Run summary:</h3><br/><table class=\"wandb\"><tr><td>best_val_loss</td><td>58.27239</td></tr><tr><td>epoch</td><td>10</td></tr><tr><td>fold</td><td>5</td></tr><tr><td>loss</td><td>78.26937</td></tr><tr><td>mean_loss</td><td>58.27239</td></tr><tr><td>std</td><td>10.1179</td></tr><tr><td>val_loss</td><td>78.46891</td></tr></table><br/></div></div>"
      ],
      "text/plain": [
       "<IPython.core.display.HTML object>"
      ]
     },
     "metadata": {},
     "output_type": "display_data"
    },
    {
     "data": {
      "text/html": [
       "Synced <strong style=\"color:#cdcd00\">winter-sweep-5</strong>: <a href=\"https://wandb.ai/avishai-elma/BioEx4_5/runs/fgge9djl\" target=\"_blank\">https://wandb.ai/avishai-elma/BioEx4_5/runs/fgge9djl</a><br/>Synced 5 W&B file(s), 0 media file(s), 0 artifact file(s) and 0 other file(s)"
      ],
      "text/plain": [
       "<IPython.core.display.HTML object>"
      ]
     },
     "metadata": {},
     "output_type": "display_data"
    },
    {
     "data": {
      "text/html": [
       "Find logs at: <code>./wandb/run-20220505_104119-fgge9djl/logs</code>"
      ],
      "text/plain": [
       "<IPython.core.display.HTML object>"
      ]
     },
     "metadata": {},
     "output_type": "display_data"
    },
    {
     "metadata": {
      "tags": null
     },
     "name": "stderr",
     "output_type": "stream",
     "text": [
      "\u001B[34m\u001B[1mwandb\u001B[0m: Agent Starting Run: qwmfrvs0 with config:\n",
      "\u001B[34m\u001B[1mwandb\u001B[0m: \tBATCH: 64\n",
      "\u001B[34m\u001B[1mwandb\u001B[0m: \tDILATATION: [1, 2, 4]\n",
      "\u001B[34m\u001B[1mwandb\u001B[0m: \tDROPOUT: 0.28209146391610096\n",
      "\u001B[34m\u001B[1mwandb\u001B[0m: \tEPOCHS: 5\n",
      "\u001B[34m\u001B[1mwandb\u001B[0m: \tLR: 0.019446509349496897\n",
      "\u001B[34m\u001B[1mwandb\u001B[0m: \tRESNET_1_BLOCKS: 4\n",
      "\u001B[34m\u001B[1mwandb\u001B[0m: \tRESNET_1_KERNEL_NUM: 22\n",
      "\u001B[34m\u001B[1mwandb\u001B[0m: \tRESNET_1_KERNEL_SIZE: 3\n",
      "\u001B[34m\u001B[1mwandb\u001B[0m: \tRESNET_2_BLOCKS: 1\n",
      "\u001B[34m\u001B[1mwandb\u001B[0m: \tRESNET_2_KERNEL_NUM: 62\n",
      "\u001B[34m\u001B[1mwandb\u001B[0m: \tRESNET_2_KERNEL_SIZE: 7\n"
     ]
    },
    {
     "data": {
      "text/html": [
       "Tracking run with wandb version 0.12.16"
      ],
      "text/plain": [
       "<IPython.core.display.HTML object>"
      ]
     },
     "metadata": {},
     "output_type": "display_data"
    },
    {
     "data": {
      "text/html": [
       "Run data is saved locally in <code>/content/drive/.shortcut-targets-by-id/13JKG3wgYlOO5t5AoOpkix7QiZamDhSEp/ColabNotebooks/wandb/run-20220505_105445-qwmfrvs0</code>"
      ],
      "text/plain": [
       "<IPython.core.display.HTML object>"
      ]
     },
     "metadata": {},
     "output_type": "display_data"
    },
    {
     "data": {
      "text/html": [
       "Syncing run <strong><a href=\"https://wandb.ai/avishai-elma/BioEx4_5/runs/qwmfrvs0\" target=\"_blank\">bumbling-sweep-6</a></strong> to <a href=\"https://wandb.ai/avishai-elma/BioEx4_5\" target=\"_blank\">Weights & Biases</a> (<a href=\"https://wandb.me/run\" target=\"_blank\">docs</a>)<br/>Sweep page:  <a href=\"https://wandb.ai/avishai-elma/BioEx4_5/sweeps/5pa1928v\" target=\"_blank\">https://wandb.ai/avishai-elma/BioEx4_5/sweeps/5pa1928v</a>"
      ],
      "text/plain": [
       "<IPython.core.display.HTML object>"
      ]
     },
     "metadata": {},
     "output_type": "display_data"
    },
    {
     "metadata": {
      "tags": null
     },
     "name": "stdout",
     "output_type": "stream",
     "text": [
      "Epoch 1/5\n",
      "25/25 [==============================] - ETA: 0s - loss: 109.9043INFO:tensorflow:Assets written to: BestFits/bumbling-sweep-61.ckpt/assets\n",
      "25/25 [==============================] - 20s 562ms/step - loss: 109.9043 - val_loss: 11013741.0000\n",
      "Epoch 2/5\n",
      "24/25 [===========================>..] - ETA: 0s - loss: 54.6020INFO:tensorflow:Assets written to: BestFits/bumbling-sweep-61.ckpt/assets\n",
      "25/25 [==============================] - 10s 408ms/step - loss: 54.5659 - val_loss: 251552.3594\n",
      "Epoch 3/5\n",
      "25/25 [==============================] - ETA: 0s - loss: 53.4539INFO:tensorflow:Assets written to: BestFits/bumbling-sweep-61.ckpt/assets\n",
      "25/25 [==============================] - 10s 398ms/step - loss: 53.4539 - val_loss: 12416.5547\n",
      "Epoch 4/5\n",
      "24/25 [===========================>..] - ETA: 0s - loss: 53.0935INFO:tensorflow:Assets written to: BestFits/bumbling-sweep-61.ckpt/assets\n",
      "25/25 [==============================] - 10s 398ms/step - loss: 53.1241 - val_loss: 716.0550\n",
      "Epoch 5/5\n",
      "24/25 [===========================>..] - ETA: 0s - loss: 53.0257INFO:tensorflow:Assets written to: BestFits/bumbling-sweep-61.ckpt/assets\n",
      "25/25 [==============================] - 10s 402ms/step - loss: 53.0709 - val_loss: 62.9283\n",
      "13/13 [==============================] - 1s 12ms/step - loss: 62.9283\n",
      "Epoch 1/5\n",
      "24/25 [===========================>..] - ETA: 0s - loss: 103.6247INFO:tensorflow:Assets written to: BestFits/bumbling-sweep-62.ckpt/assets\n",
      "25/25 [==============================] - 15s 424ms/step - loss: 102.2428 - val_loss: 16061461.0000\n",
      "Epoch 2/5\n",
      "25/25 [==============================] - ETA: 0s - loss: 53.0834INFO:tensorflow:Assets written to: BestFits/bumbling-sweep-62.ckpt/assets\n",
      "25/25 [==============================] - 9s 385ms/step - loss: 53.0834 - val_loss: 53.0025\n",
      "Epoch 3/5\n",
      "25/25 [==============================] - ETA: 0s - loss: 52.9972INFO:tensorflow:Assets written to: BestFits/bumbling-sweep-62.ckpt/assets\n",
      "25/25 [==============================] - 10s 419ms/step - loss: 52.9972 - val_loss: 52.9742\n",
      "Epoch 4/5\n",
      "25/25 [==============================] - ETA: 0s - loss: 52.9887INFO:tensorflow:Assets written to: BestFits/bumbling-sweep-62.ckpt/assets\n",
      "25/25 [==============================] - 10s 414ms/step - loss: 52.9887 - val_loss: 52.9724\n",
      "Epoch 5/5\n",
      "24/25 [===========================>..] - ETA: 0s - loss: 53.0186INFO:tensorflow:Assets written to: BestFits/bumbling-sweep-62.ckpt/assets\n",
      "25/25 [==============================] - 10s 417ms/step - loss: 52.9879 - val_loss: 52.9724\n",
      "13/13 [==============================] - 1s 12ms/step - loss: 52.9724\n",
      "Epoch 1/5\n",
      "25/25 [==============================] - ETA: 0s - loss: 100.7317INFO:tensorflow:Assets written to: BestFits/bumbling-sweep-63.ckpt/assets\n",
      "25/25 [==============================] - 15s 421ms/step - loss: 100.7317 - val_loss: 10804555776.0000\n",
      "Epoch 2/5\n",
      "25/25 [==============================] - ETA: 0s - loss: 53.0345INFO:tensorflow:Assets written to: BestFits/bumbling-sweep-63.ckpt/assets\n",
      "25/25 [==============================] - 10s 406ms/step - loss: 53.0345 - val_loss: 52042.9922\n",
      "Epoch 3/5\n",
      "24/25 [===========================>..] - ETA: 0s - loss: 52.9721INFO:tensorflow:Assets written to: BestFits/bumbling-sweep-63.ckpt/assets\n",
      "25/25 [==============================] - 10s 409ms/step - loss: 52.9624 - val_loss: 65.1001\n",
      "Epoch 4/5\n",
      "24/25 [===========================>..] - ETA: 0s - loss: 53.0334INFO:tensorflow:Assets written to: BestFits/bumbling-sweep-63.ckpt/assets\n",
      "25/25 [==============================] - 9s 391ms/step - loss: 52.9780 - val_loss: 53.0965\n",
      "Epoch 5/5\n",
      "25/25 [==============================] - ETA: 0s - loss: 52.9573INFO:tensorflow:Assets written to: BestFits/bumbling-sweep-63.ckpt/assets\n",
      "25/25 [==============================] - 10s 413ms/step - loss: 52.9573 - val_loss: 53.0944\n",
      "13/13 [==============================] - 1s 15ms/step - loss: 53.0944\n",
      "Epoch 1/5\n",
      "24/25 [===========================>..] - ETA: 0s - loss: 887.1106INFO:tensorflow:Assets written to: BestFits/bumbling-sweep-64.ckpt/assets\n",
      "25/25 [==============================] - 16s 457ms/step - loss: 864.4805 - val_loss: 267482464256.0000\n",
      "Epoch 2/5\n",
      "24/25 [===========================>..] - ETA: 0s - loss: 54.3804INFO:tensorflow:Assets written to: BestFits/bumbling-sweep-64.ckpt/assets\n",
      "25/25 [==============================] - 10s 426ms/step - loss: 54.3787 - val_loss: 591975552.0000\n",
      "Epoch 3/5\n",
      "24/25 [===========================>..] - ETA: 0s - loss: 57.0101INFO:tensorflow:Assets written to: BestFits/bumbling-sweep-64.ckpt/assets\n",
      "25/25 [==============================] - 10s 419ms/step - loss: 56.8627 - val_loss: 11637131.0000\n",
      "Epoch 4/5\n",
      "25/25 [==============================] - ETA: 0s - loss: 53.0407INFO:tensorflow:Assets written to: BestFits/bumbling-sweep-64.ckpt/assets\n",
      "25/25 [==============================] - 10s 411ms/step - loss: 53.0407 - val_loss: 547083.2500\n",
      "Epoch 5/5\n",
      "25/25 [==============================] - ETA: 0s - loss: 53.0289INFO:tensorflow:Assets written to: BestFits/bumbling-sweep-64.ckpt/assets\n",
      "25/25 [==============================] - 10s 400ms/step - loss: 53.0289 - val_loss: 4996.1392\n",
      "13/13 [==============================] - 1s 13ms/step - loss: 4996.1479\n",
      "Epoch 1/5\n",
      "25/25 [==============================] - ETA: 0s - loss: 687.9271INFO:tensorflow:Assets written to: BestFits/bumbling-sweep-65.ckpt/assets\n",
      "25/25 [==============================] - 17s 522ms/step - loss: 687.9271 - val_loss: 94590296064.0000\n",
      "Epoch 2/5\n",
      "24/25 [===========================>..] - ETA: 0s - loss: 62.4100INFO:tensorflow:Assets written to: BestFits/bumbling-sweep-65.ckpt/assets\n",
      "25/25 [==============================] - 10s 400ms/step - loss: 62.3118 - val_loss: 417297664.0000\n",
      "Epoch 3/5\n",
      "24/25 [===========================>..] - ETA: 0s - loss: 55.9338INFO:tensorflow:Assets written to: BestFits/bumbling-sweep-65.ckpt/assets\n",
      "25/25 [==============================] - 10s 404ms/step - loss: 55.8870 - val_loss: 55340.9648\n",
      "Epoch 4/5\n",
      "24/25 [===========================>..] - ETA: 0s - loss: 53.6199INFO:tensorflow:Assets written to: BestFits/bumbling-sweep-65.ckpt/assets\n",
      "25/25 [==============================] - 10s 407ms/step - loss: 53.6102 - val_loss: 309.2268\n",
      "Epoch 5/5\n",
      "25/25 [==============================] - ETA: 0s - loss: 53.0737INFO:tensorflow:Assets written to: BestFits/bumbling-sweep-65.ckpt/assets\n",
      "25/25 [==============================] - 10s 406ms/step - loss: 53.0737 - val_loss: 73.2775\n",
      "13/13 [==============================] - 1s 12ms/step - loss: 73.2776\n"
     ]
    },
    {
     "data": {
      "text/html": [
       "Waiting for W&B process to finish... <strong style=\"color:green\">(success).</strong>"
      ],
      "text/plain": [
       "<IPython.core.display.HTML object>"
      ]
     },
     "metadata": {},
     "output_type": "display_data"
    },
    {
     "data": {
      "application/vnd.jupyter.widget-view+json": {
       "model_id": "4a3c9b102ea447f588bcaf15a01bcdce",
       "version_major": 2,
       "version_minor": 0
      },
      "text/plain": [
       "VBox(children=(Label(value='0.001 MB of 0.001 MB uploaded (0.000 MB deduped)\\r'), FloatProgress(value=1.0, max…"
      ]
     },
     "metadata": {},
     "output_type": "display_data"
    },
    {
     "data": {
      "text/html": [
       "<style>\n",
       "    table.wandb td:nth-child(1) { padding: 0 10px; text-align: left ; width: auto;} td:nth-child(2) {text-align: left ; width: 100%}\n",
       "    .wandb-row { display: flex; flex-direction: row; flex-wrap: wrap; justify-content: flex-start; width: 100% }\n",
       "    .wandb-col { display: flex; flex-direction: column; flex-basis: 100%; flex: 1; padding: 10px; }\n",
       "    </style>\n",
       "<div class=\"wandb-row\"><div class=\"wandb-col\"><h3>Run history:</h3><br/><table class=\"wandb\"><tr><td>best_val_loss</td><td>▁▁▁██</td></tr><tr><td>epoch</td><td>▁▃▅▆█▁▃▅▆█▁▃▅▆█▁▃▅▆█▁▃▅▆█</td></tr><tr><td>fold</td><td>▁▁▁▁▁▃▃▃▃▃▅▅▅▅▅▆▆▆▆▆█████</td></tr><tr><td>loss</td><td>▁▁▁▁▁▁▁▁▁▁▁▁▁▁▁█▁▁▁▁▆▁▁▁▁</td></tr><tr><td>mean_loss</td><td>▁</td></tr><tr><td>std</td><td>▁</td></tr><tr><td>val_loss</td><td>▁▁▁▁▁▁▁▁▁▁▁▁▁▁▁█▁▁▁▁▃▁▁▁▁</td></tr></table><br/></div><div class=\"wandb-col\"><h3>Run summary:</h3><br/><table class=\"wandb\"><tr><td>best_val_loss</td><td>1047.68412</td></tr><tr><td>epoch</td><td>4</td></tr><tr><td>fold</td><td>5</td></tr><tr><td>loss</td><td>53.07367</td></tr><tr><td>mean_loss</td><td>1047.68412</td></tr><tr><td>std</td><td>1974.24613</td></tr><tr><td>val_loss</td><td>73.2775</td></tr></table><br/></div></div>"
      ],
      "text/plain": [
       "<IPython.core.display.HTML object>"
      ]
     },
     "metadata": {},
     "output_type": "display_data"
    },
    {
     "data": {
      "text/html": [
       "Synced <strong style=\"color:#cdcd00\">bumbling-sweep-6</strong>: <a href=\"https://wandb.ai/avishai-elma/BioEx4_5/runs/qwmfrvs0\" target=\"_blank\">https://wandb.ai/avishai-elma/BioEx4_5/runs/qwmfrvs0</a><br/>Synced 5 W&B file(s), 0 media file(s), 0 artifact file(s) and 0 other file(s)"
      ],
      "text/plain": [
       "<IPython.core.display.HTML object>"
      ]
     },
     "metadata": {},
     "output_type": "display_data"
    },
    {
     "data": {
      "text/html": [
       "Find logs at: <code>./wandb/run-20220505_105445-qwmfrvs0/logs</code>"
      ],
      "text/plain": [
       "<IPython.core.display.HTML object>"
      ]
     },
     "metadata": {},
     "output_type": "display_data"
    },
    {
     "metadata": {
      "tags": null
     },
     "name": "stderr",
     "output_type": "stream",
     "text": [
      "\u001B[34m\u001B[1mwandb\u001B[0m: Agent Starting Run: yfrg767q with config:\n",
      "\u001B[34m\u001B[1mwandb\u001B[0m: \tBATCH: 16\n",
      "\u001B[34m\u001B[1mwandb\u001B[0m: \tDILATATION: [1, 2, 4, 8]\n",
      "\u001B[34m\u001B[1mwandb\u001B[0m: \tDROPOUT: 0.08692331584362917\n",
      "\u001B[34m\u001B[1mwandb\u001B[0m: \tEPOCHS: 12\n",
      "\u001B[34m\u001B[1mwandb\u001B[0m: \tLR: 0.0037551188807838777\n",
      "\u001B[34m\u001B[1mwandb\u001B[0m: \tRESNET_1_BLOCKS: 1\n",
      "\u001B[34m\u001B[1mwandb\u001B[0m: \tRESNET_1_KERNEL_NUM: 57\n",
      "\u001B[34m\u001B[1mwandb\u001B[0m: \tRESNET_1_KERNEL_SIZE: 9\n",
      "\u001B[34m\u001B[1mwandb\u001B[0m: \tRESNET_2_BLOCKS: 5\n",
      "\u001B[34m\u001B[1mwandb\u001B[0m: \tRESNET_2_KERNEL_NUM: 12\n",
      "\u001B[34m\u001B[1mwandb\u001B[0m: \tRESNET_2_KERNEL_SIZE: 5\n"
     ]
    },
    {
     "data": {
      "text/html": [
       "Tracking run with wandb version 0.12.16"
      ],
      "text/plain": [
       "<IPython.core.display.HTML object>"
      ]
     },
     "metadata": {},
     "output_type": "display_data"
    },
    {
     "data": {
      "text/html": [
       "Run data is saved locally in <code>/content/drive/.shortcut-targets-by-id/13JKG3wgYlOO5t5AoOpkix7QiZamDhSEp/ColabNotebooks/wandb/run-20220505_110122-yfrg767q</code>"
      ],
      "text/plain": [
       "<IPython.core.display.HTML object>"
      ]
     },
     "metadata": {},
     "output_type": "display_data"
    },
    {
     "data": {
      "text/html": [
       "Syncing run <strong><a href=\"https://wandb.ai/avishai-elma/BioEx4_5/runs/yfrg767q\" target=\"_blank\">proud-sweep-7</a></strong> to <a href=\"https://wandb.ai/avishai-elma/BioEx4_5\" target=\"_blank\">Weights & Biases</a> (<a href=\"https://wandb.me/run\" target=\"_blank\">docs</a>)<br/>Sweep page:  <a href=\"https://wandb.ai/avishai-elma/BioEx4_5/sweeps/5pa1928v\" target=\"_blank\">https://wandb.ai/avishai-elma/BioEx4_5/sweeps/5pa1928v</a>"
      ],
      "text/plain": [
       "<IPython.core.display.HTML object>"
      ]
     },
     "metadata": {},
     "output_type": "display_data"
    },
    {
     "metadata": {
      "tags": null
     },
     "name": "stdout",
     "output_type": "stream",
     "text": [
      "Epoch 1/12\n",
      "99/99 [==============================] - ETA: 0s - loss: 23.8593INFO:tensorflow:Assets written to: BestFits/proud-sweep-71.ckpt/assets\n",
      "99/99 [==============================] - 51s 352ms/step - loss: 23.8593 - val_loss: 22.1817\n",
      "Epoch 2/12\n",
      "99/99 [==============================] - ETA: 0s - loss: 3.9855INFO:tensorflow:Assets written to: BestFits/proud-sweep-71.ckpt/assets\n",
      "99/99 [==============================] - 32s 328ms/step - loss: 3.9855 - val_loss: 8.7417\n",
      "Epoch 3/12\n",
      "99/99 [==============================] - ETA: 0s - loss: 2.9432INFO:tensorflow:Assets written to: BestFits/proud-sweep-71.ckpt/assets\n",
      "99/99 [==============================] - 32s 328ms/step - loss: 2.9432 - val_loss: 3.1333\n",
      "Epoch 4/12\n",
      "99/99 [==============================] - ETA: 0s - loss: 2.6442INFO:tensorflow:Assets written to: BestFits/proud-sweep-71.ckpt/assets\n",
      "99/99 [==============================] - 33s 332ms/step - loss: 2.6442 - val_loss: 2.2542\n",
      "Epoch 5/12\n",
      "99/99 [==============================] - ETA: 0s - loss: 2.4702INFO:tensorflow:Assets written to: BestFits/proud-sweep-71.ckpt/assets\n",
      "99/99 [==============================] - 33s 339ms/step - loss: 2.4702 - val_loss: 1.9488\n",
      "Epoch 6/12\n",
      "99/99 [==============================] - 8s 84ms/step - loss: 2.3300 - val_loss: 1.9673\n",
      "Epoch 7/12\n",
      "99/99 [==============================] - ETA: 0s - loss: 2.2239INFO:tensorflow:Assets written to: BestFits/proud-sweep-71.ckpt/assets\n",
      "99/99 [==============================] - 32s 328ms/step - loss: 2.2239 - val_loss: 1.8652\n",
      "Epoch 8/12\n",
      "99/99 [==============================] - ETA: 0s - loss: 2.1235INFO:tensorflow:Assets written to: BestFits/proud-sweep-71.ckpt/assets\n",
      "99/99 [==============================] - 32s 328ms/step - loss: 2.1235 - val_loss: 1.7729\n",
      "Epoch 9/12\n",
      "99/99 [==============================] - ETA: 0s - loss: 2.0831INFO:tensorflow:Assets written to: BestFits/proud-sweep-71.ckpt/assets\n",
      "99/99 [==============================] - 32s 326ms/step - loss: 2.0831 - val_loss: 1.7555\n",
      "Epoch 10/12\n",
      "99/99 [==============================] - ETA: 0s - loss: 2.0151INFO:tensorflow:Assets written to: BestFits/proud-sweep-71.ckpt/assets\n",
      "99/99 [==============================] - 32s 324ms/step - loss: 2.0151 - val_loss: 1.7134\n",
      "Epoch 11/12\n",
      "99/99 [==============================] - 8s 84ms/step - loss: 1.9566 - val_loss: 1.7155\n",
      "Epoch 12/12\n",
      "99/99 [==============================] - ETA: 0s - loss: 1.9251INFO:tensorflow:Assets written to: BestFits/proud-sweep-71.ckpt/assets\n",
      "99/99 [==============================] - 32s 329ms/step - loss: 1.9251 - val_loss: 1.7078\n",
      "13/13 [==============================] - 2s 22ms/step - loss: 1.7078\n",
      "Epoch 1/12\n",
      "99/99 [==============================] - ETA: 0s - loss: 42.5987INFO:tensorflow:Assets written to: BestFits/proud-sweep-72.ckpt/assets\n",
      "99/99 [==============================] - 47s 335ms/step - loss: 42.5987 - val_loss: 26.4404\n",
      "Epoch 2/12\n",
      "99/99 [==============================] - ETA: 0s - loss: 14.2720INFO:tensorflow:Assets written to: BestFits/proud-sweep-72.ckpt/assets\n",
      "99/99 [==============================] - 33s 331ms/step - loss: 14.2720 - val_loss: 15.2428\n",
      "Epoch 3/12\n",
      "99/99 [==============================] - ETA: 0s - loss: 7.5838INFO:tensorflow:Assets written to: BestFits/proud-sweep-72.ckpt/assets\n",
      "99/99 [==============================] - 33s 332ms/step - loss: 7.5838 - val_loss: 9.1052\n",
      "Epoch 4/12\n",
      "99/99 [==============================] - 9s 87ms/step - loss: 6.0018 - val_loss: 12.6787\n",
      "Epoch 5/12\n",
      "99/99 [==============================] - ETA: 0s - loss: 4.7033INFO:tensorflow:Assets written to: BestFits/proud-sweep-72.ckpt/assets\n",
      "99/99 [==============================] - 32s 330ms/step - loss: 4.7033 - val_loss: 8.0405\n",
      "Epoch 6/12\n",
      "99/99 [==============================] - ETA: 0s - loss: 4.0253INFO:tensorflow:Assets written to: BestFits/proud-sweep-72.ckpt/assets\n",
      "99/99 [==============================] - 31s 320ms/step - loss: 4.0253 - val_loss: 6.5716\n",
      "Epoch 7/12\n",
      "99/99 [==============================] - ETA: 0s - loss: 3.5169INFO:tensorflow:Assets written to: BestFits/proud-sweep-72.ckpt/assets\n",
      "99/99 [==============================] - 32s 329ms/step - loss: 3.5169 - val_loss: 3.6548\n",
      "Epoch 8/12\n",
      "99/99 [==============================] - ETA: 0s - loss: 3.3020INFO:tensorflow:Assets written to: BestFits/proud-sweep-72.ckpt/assets\n",
      "99/99 [==============================] - 32s 323ms/step - loss: 3.3020 - val_loss: 3.2105\n",
      "Epoch 9/12\n",
      "99/99 [==============================] - ETA: 0s - loss: 3.1999INFO:tensorflow:Assets written to: BestFits/proud-sweep-72.ckpt/assets\n",
      "99/99 [==============================] - 32s 328ms/step - loss: 3.1999 - val_loss: 2.9792\n",
      "Epoch 10/12\n",
      "99/99 [==============================] - ETA: 0s - loss: 3.1404INFO:tensorflow:Assets written to: BestFits/proud-sweep-72.ckpt/assets\n",
      "99/99 [==============================] - 32s 328ms/step - loss: 3.1404 - val_loss: 2.7454\n",
      "Epoch 11/12\n",
      "99/99 [==============================] - 8s 85ms/step - loss: 3.0346 - val_loss: 2.7454\n",
      "Epoch 12/12\n",
      "99/99 [==============================] - 9s 86ms/step - loss: 2.9660 - val_loss: 2.8052\n",
      "13/13 [==============================] - 2s 26ms/step - loss: 2.7454\n",
      "Epoch 1/12\n",
      "99/99 [==============================] - ETA: 0s - loss: 53.2717INFO:tensorflow:Assets written to: BestFits/proud-sweep-73.ckpt/assets\n",
      "99/99 [==============================] - 50s 364ms/step - loss: 53.2717 - val_loss: 53.0962\n",
      "Epoch 2/12\n",
      "99/99 [==============================] - ETA: 0s - loss: 52.9578INFO:tensorflow:Assets written to: BestFits/proud-sweep-73.ckpt/assets\n",
      "99/99 [==============================] - 34s 344ms/step - loss: 52.9578 - val_loss: 53.0954\n",
      "Epoch 3/12\n",
      "99/99 [==============================] - ETA: 0s - loss: 52.9580INFO:tensorflow:Assets written to: BestFits/proud-sweep-73.ckpt/assets\n",
      "99/99 [==============================] - 33s 340ms/step - loss: 52.9580 - val_loss: 53.0950\n",
      "Epoch 4/12\n",
      "99/99 [==============================] - 9s 87ms/step - loss: 52.9576 - val_loss: 53.0966\n",
      "Epoch 5/12\n",
      "99/99 [==============================] - ETA: 0s - loss: 52.9577INFO:tensorflow:Assets written to: BestFits/proud-sweep-73.ckpt/assets\n",
      "99/99 [==============================] - 34s 341ms/step - loss: 52.9577 - val_loss: 53.0948\n",
      "Epoch 6/12\n",
      "99/99 [==============================] - ETA: 0s - loss: 52.9580INFO:tensorflow:Assets written to: BestFits/proud-sweep-73.ckpt/assets\n",
      "99/99 [==============================] - 35s 354ms/step - loss: 52.9580 - val_loss: 53.0948\n",
      "Epoch 7/12\n",
      "99/99 [==============================] - 8s 85ms/step - loss: 52.9573 - val_loss: 53.0965\n",
      "Epoch 8/12\n",
      "99/99 [==============================] - ETA: 0s - loss: 52.9581INFO:tensorflow:Assets written to: BestFits/proud-sweep-73.ckpt/assets\n",
      "99/99 [==============================] - 33s 340ms/step - loss: 52.9581 - val_loss: 53.0944\n",
      "Epoch 9/12\n",
      "99/99 [==============================] - 8s 86ms/step - loss: 52.9576 - val_loss: 53.0946\n",
      "Epoch 10/12\n",
      "99/99 [==============================] - 9s 89ms/step - loss: 52.9576 - val_loss: 53.0946\n",
      "Epoch 11/12\n",
      "99/99 [==============================] - ETA: 0s - loss: 52.9577INFO:tensorflow:Assets written to: BestFits/proud-sweep-73.ckpt/assets\n",
      "99/99 [==============================] - 36s 361ms/step - loss: 52.9577 - val_loss: 53.0944\n",
      "Epoch 12/12\n",
      "99/99 [==============================] - 9s 90ms/step - loss: 52.9574 - val_loss: 53.0949\n",
      "13/13 [==============================] - 4s 26ms/step - loss: 53.0944\n",
      "Epoch 1/12\n",
      "99/99 [==============================] - ETA: 0s - loss: 53.3635INFO:tensorflow:Assets written to: BestFits/proud-sweep-74.ckpt/assets\n",
      "99/99 [==============================] - 50s 361ms/step - loss: 53.3635 - val_loss: 52.8143\n",
      "Epoch 2/12\n",
      "99/99 [==============================] - ETA: 0s - loss: 53.0277INFO:tensorflow:Assets written to: BestFits/proud-sweep-74.ckpt/assets\n",
      "99/99 [==============================] - 33s 340ms/step - loss: 53.0277 - val_loss: 52.8140\n",
      "Epoch 3/12\n",
      "99/99 [==============================] - 9s 87ms/step - loss: 53.0276 - val_loss: 52.8147\n",
      "Epoch 4/12\n",
      "99/99 [==============================] - 9s 89ms/step - loss: 53.0276 - val_loss: 52.8141\n",
      "Epoch 5/12\n",
      "99/99 [==============================] - 8s 84ms/step - loss: 53.0280 - val_loss: 52.8153\n",
      "Epoch 6/12\n",
      "99/99 [==============================] - 8s 84ms/step - loss: 53.0283 - val_loss: 52.8143\n",
      "Epoch 7/12\n",
      "99/99 [==============================] - 8s 85ms/step - loss: 53.0280 - val_loss: 52.8147\n",
      "Epoch 8/12\n",
      "99/99 [==============================] - 8s 86ms/step - loss: 53.0280 - val_loss: 52.8155\n",
      "Epoch 9/12\n",
      "99/99 [==============================] - 9s 88ms/step - loss: 53.0278 - val_loss: 52.8154\n",
      "Epoch 10/12\n",
      "99/99 [==============================] - 8s 86ms/step - loss: 53.0280 - val_loss: 52.8168\n",
      "Epoch 11/12\n",
      "99/99 [==============================] - 9s 87ms/step - loss: 53.0284 - val_loss: 52.8148\n",
      "Epoch 12/12\n",
      "99/99 [==============================] - 9s 87ms/step - loss: 53.0276 - val_loss: 52.8147\n",
      "13/13 [==============================] - 2s 27ms/step - loss: 52.8140\n",
      "Epoch 1/12\n",
      "99/99 [==============================] - ETA: 0s - loss: 41.4416INFO:tensorflow:Assets written to: BestFits/proud-sweep-75.ckpt/assets\n",
      "99/99 [==============================] - 51s 372ms/step - loss: 41.4416 - val_loss: 30.3397\n",
      "Epoch 2/12\n",
      "99/99 [==============================] - ETA: 0s - loss: 15.7749INFO:tensorflow:Assets written to: BestFits/proud-sweep-75.ckpt/assets\n",
      "99/99 [==============================] - 34s 344ms/step - loss: 15.7749 - val_loss: 13.0123\n",
      "Epoch 3/12\n",
      "99/99 [==============================] - ETA: 0s - loss: 5.2071INFO:tensorflow:Assets written to: BestFits/proud-sweep-75.ckpt/assets\n",
      "99/99 [==============================] - 34s 348ms/step - loss: 5.2071 - val_loss: 4.8860\n",
      "Epoch 4/12\n",
      "99/99 [==============================] - ETA: 0s - loss: 3.7591INFO:tensorflow:Assets written to: BestFits/proud-sweep-75.ckpt/assets\n",
      "99/99 [==============================] - 34s 346ms/step - loss: 3.7591 - val_loss: 3.4797\n",
      "Epoch 5/12\n",
      "99/99 [==============================] - ETA: 0s - loss: 3.3325INFO:tensorflow:Assets written to: BestFits/proud-sweep-75.ckpt/assets\n",
      "99/99 [==============================] - 35s 360ms/step - loss: 3.3325 - val_loss: 2.9139\n",
      "Epoch 6/12\n",
      "99/99 [==============================] - ETA: 0s - loss: 3.1453INFO:tensorflow:Assets written to: BestFits/proud-sweep-75.ckpt/assets\n",
      "99/99 [==============================] - 33s 335ms/step - loss: 3.1453 - val_loss: 2.7399\n",
      "Epoch 7/12\n",
      "99/99 [==============================] - ETA: 0s - loss: 3.0299INFO:tensorflow:Assets written to: BestFits/proud-sweep-75.ckpt/assets\n",
      "99/99 [==============================] - 33s 331ms/step - loss: 3.0299 - val_loss: 2.6610\n",
      "Epoch 8/12\n",
      "99/99 [==============================] - ETA: 0s - loss: 2.9267INFO:tensorflow:Assets written to: BestFits/proud-sweep-75.ckpt/assets\n",
      "99/99 [==============================] - 33s 337ms/step - loss: 2.9267 - val_loss: 2.6337\n",
      "Epoch 9/12\n",
      "99/99 [==============================] - ETA: 0s - loss: 2.8581INFO:tensorflow:Assets written to: BestFits/proud-sweep-75.ckpt/assets\n",
      "99/99 [==============================] - 33s 331ms/step - loss: 2.8581 - val_loss: 2.5858\n",
      "Epoch 10/12\n",
      "99/99 [==============================] - ETA: 0s - loss: 2.7383INFO:tensorflow:Assets written to: BestFits/proud-sweep-75.ckpt/assets\n",
      "99/99 [==============================] - 33s 338ms/step - loss: 2.7383 - val_loss: 2.3959\n",
      "Epoch 11/12\n",
      "99/99 [==============================] - ETA: 0s - loss: 2.5428INFO:tensorflow:Assets written to: BestFits/proud-sweep-75.ckpt/assets\n",
      "99/99 [==============================] - 33s 333ms/step - loss: 2.5428 - val_loss: 2.2385\n",
      "Epoch 12/12\n",
      "99/99 [==============================] - 9s 86ms/step - loss: 2.3959 - val_loss: 2.2448\n",
      "13/13 [==============================] - 2s 25ms/step - loss: 2.2385\n"
     ]
    },
    {
     "data": {
      "text/html": [
       "Waiting for W&B process to finish... <strong style=\"color:green\">(success).</strong>"
      ],
      "text/plain": [
       "<IPython.core.display.HTML object>"
      ]
     },
     "metadata": {},
     "output_type": "display_data"
    },
    {
     "data": {
      "application/vnd.jupyter.widget-view+json": {
       "model_id": "b6a6c47e887d41639669ad2b80499e16",
       "version_major": 2,
       "version_minor": 0
      },
      "text/plain": [
       "VBox(children=(Label(value='0.001 MB of 0.001 MB uploaded (0.000 MB deduped)\\r'), FloatProgress(value=1.0, max…"
      ]
     },
     "metadata": {},
     "output_type": "display_data"
    },
    {
     "data": {
      "text/html": [
       "<style>\n",
       "    table.wandb td:nth-child(1) { padding: 0 10px; text-align: left ; width: auto;} td:nth-child(2) {text-align: left ; width: 100%}\n",
       "    .wandb-row { display: flex; flex-direction: row; flex-wrap: wrap; justify-content: flex-start; width: 100% }\n",
       "    .wandb-col { display: flex; flex-direction: column; flex-basis: 100%; flex: 1; padding: 10px; }\n",
       "    </style>\n",
       "<div class=\"wandb-row\"><div class=\"wandb-col\"><h3>Run history:</h3><br/><table class=\"wandb\"><tr><td>best_val_loss</td><td>▁▁▅██</td></tr><tr><td>epoch</td><td>▁▂▃▄▅▅▇▇▁▂▃▄▅▅▇▇▁▂▃▄▅▅▇▇▁▂▃▄▅▅▇▇▁▂▃▄▅▅▇█</td></tr><tr><td>fold</td><td>▁▁▁▁▁▁▁▁▃▃▃▃▃▃▃▃▅▅▅▅▅▅▅▅▆▆▆▆▆▆▆▆████████</td></tr><tr><td>loss</td><td>▄▁▁▁▁▁▁▁▇▃▂▁▁▁▁▁████████████████▆▃▁▁▁▁▁▁</td></tr><tr><td>mean_loss</td><td>▁</td></tr><tr><td>std</td><td>▁</td></tr><tr><td>val_loss</td><td>▄▂▁▁▁▁▁▁▄▃▂▂▁▁▁▁████████████████▅▃▁▁▁▁▁▁</td></tr></table><br/></div><div class=\"wandb-col\"><h3>Run summary:</h3><br/><table class=\"wandb\"><tr><td>best_val_loss</td><td>22.52</td></tr><tr><td>epoch</td><td>11</td></tr><tr><td>fold</td><td>5</td></tr><tr><td>loss</td><td>2.3959</td></tr><tr><td>mean_loss</td><td>22.52</td></tr><tr><td>std</td><td>24.85172</td></tr><tr><td>val_loss</td><td>2.24475</td></tr></table><br/></div></div>"
      ],
      "text/plain": [
       "<IPython.core.display.HTML object>"
      ]
     },
     "metadata": {},
     "output_type": "display_data"
    },
    {
     "data": {
      "text/html": [
       "Synced <strong style=\"color:#cdcd00\">proud-sweep-7</strong>: <a href=\"https://wandb.ai/avishai-elma/BioEx4_5/runs/yfrg767q\" target=\"_blank\">https://wandb.ai/avishai-elma/BioEx4_5/runs/yfrg767q</a><br/>Synced 5 W&B file(s), 0 media file(s), 0 artifact file(s) and 0 other file(s)"
      ],
      "text/plain": [
       "<IPython.core.display.HTML object>"
      ]
     },
     "metadata": {},
     "output_type": "display_data"
    },
    {
     "data": {
      "text/html": [
       "Find logs at: <code>./wandb/run-20220505_110122-yfrg767q/logs</code>"
      ],
      "text/plain": [
       "<IPython.core.display.HTML object>"
      ]
     },
     "metadata": {},
     "output_type": "display_data"
    },
    {
     "metadata": {
      "tags": null
     },
     "name": "stderr",
     "output_type": "stream",
     "text": [
      "\u001B[34m\u001B[1mwandb\u001B[0m: Agent Starting Run: uwsye0v8 with config:\n",
      "\u001B[34m\u001B[1mwandb\u001B[0m: \tBATCH: 32\n",
      "\u001B[34m\u001B[1mwandb\u001B[0m: \tDILATATION: [1, 4]\n",
      "\u001B[34m\u001B[1mwandb\u001B[0m: \tDROPOUT: 0.04338578088400152\n",
      "\u001B[34m\u001B[1mwandb\u001B[0m: \tEPOCHS: 12\n",
      "\u001B[34m\u001B[1mwandb\u001B[0m: \tLR: 0.01950266255495516\n",
      "\u001B[34m\u001B[1mwandb\u001B[0m: \tRESNET_1_BLOCKS: 4\n",
      "\u001B[34m\u001B[1mwandb\u001B[0m: \tRESNET_1_KERNEL_NUM: 51\n",
      "\u001B[34m\u001B[1mwandb\u001B[0m: \tRESNET_1_KERNEL_SIZE: 9\n",
      "\u001B[34m\u001B[1mwandb\u001B[0m: \tRESNET_2_BLOCKS: 5\n",
      "\u001B[34m\u001B[1mwandb\u001B[0m: \tRESNET_2_KERNEL_NUM: 12\n",
      "\u001B[34m\u001B[1mwandb\u001B[0m: \tRESNET_2_KERNEL_SIZE: 3\n"
     ]
    },
    {
     "data": {
      "text/html": [
       "Tracking run with wandb version 0.12.16"
      ],
      "text/plain": [
       "<IPython.core.display.HTML object>"
      ]
     },
     "metadata": {},
     "output_type": "display_data"
    },
    {
     "data": {
      "text/html": [
       "Run data is saved locally in <code>/content/drive/.shortcut-targets-by-id/13JKG3wgYlOO5t5AoOpkix7QiZamDhSEp/ColabNotebooks/wandb/run-20220505_113024-uwsye0v8</code>"
      ],
      "text/plain": [
       "<IPython.core.display.HTML object>"
      ]
     },
     "metadata": {},
     "output_type": "display_data"
    },
    {
     "data": {
      "text/html": [
       "Syncing run <strong><a href=\"https://wandb.ai/avishai-elma/BioEx4_5/runs/uwsye0v8\" target=\"_blank\">jolly-sweep-8</a></strong> to <a href=\"https://wandb.ai/avishai-elma/BioEx4_5\" target=\"_blank\">Weights & Biases</a> (<a href=\"https://wandb.me/run\" target=\"_blank\">docs</a>)<br/>Sweep page:  <a href=\"https://wandb.ai/avishai-elma/BioEx4_5/sweeps/5pa1928v\" target=\"_blank\">https://wandb.ai/avishai-elma/BioEx4_5/sweeps/5pa1928v</a>"
      ],
      "text/plain": [
       "<IPython.core.display.HTML object>"
      ]
     },
     "metadata": {},
     "output_type": "display_data"
    },
    {
     "metadata": {
      "tags": null
     },
     "name": "stdout",
     "output_type": "stream",
     "text": [
      "Epoch 1/12\n",
      "50/50 [==============================] - ETA: 0s - loss: 40.6615INFO:tensorflow:Assets written to: BestFits/jolly-sweep-81.ckpt/assets\n",
      "50/50 [==============================] - 32s 456ms/step - loss: 40.6615 - val_loss: 48.3600\n",
      "Epoch 2/12\n",
      "50/50 [==============================] - ETA: 0s - loss: 23.7000INFO:tensorflow:Assets written to: BestFits/jolly-sweep-81.ckpt/assets\n",
      "50/50 [==============================] - 18s 375ms/step - loss: 23.7000 - val_loss: 31.8192\n",
      "Epoch 3/12\n",
      "49/50 [============================>.] - ETA: 0s - loss: 17.8549INFO:tensorflow:Assets written to: BestFits/jolly-sweep-81.ckpt/assets\n",
      "50/50 [==============================] - 19s 383ms/step - loss: 17.8249 - val_loss: 28.1425\n",
      "Epoch 4/12\n",
      "50/50 [==============================] - ETA: 0s - loss: 11.4927INFO:tensorflow:Assets written to: BestFits/jolly-sweep-81.ckpt/assets\n",
      "50/50 [==============================] - 20s 399ms/step - loss: 11.4927 - val_loss: 17.1804\n",
      "Epoch 5/12\n",
      "50/50 [==============================] - ETA: 0s - loss: 8.4597INFO:tensorflow:Assets written to: BestFits/jolly-sweep-81.ckpt/assets\n",
      "50/50 [==============================] - 19s 394ms/step - loss: 8.4597 - val_loss: 11.5745\n",
      "Epoch 6/12\n",
      "50/50 [==============================] - ETA: 0s - loss: 6.8396INFO:tensorflow:Assets written to: BestFits/jolly-sweep-81.ckpt/assets\n",
      "50/50 [==============================] - 20s 398ms/step - loss: 6.8396 - val_loss: 7.7568\n",
      "Epoch 7/12\n",
      "50/50 [==============================] - ETA: 0s - loss: 6.0908INFO:tensorflow:Assets written to: BestFits/jolly-sweep-81.ckpt/assets\n",
      "50/50 [==============================] - 19s 394ms/step - loss: 6.0908 - val_loss: 6.7195\n",
      "Epoch 8/12\n",
      "50/50 [==============================] - ETA: 0s - loss: 5.8097INFO:tensorflow:Assets written to: BestFits/jolly-sweep-81.ckpt/assets\n",
      "50/50 [==============================] - 19s 390ms/step - loss: 5.8097 - val_loss: 6.1576\n",
      "Epoch 9/12\n",
      "50/50 [==============================] - 4s 72ms/step - loss: 5.8223 - val_loss: 13.7626\n",
      "Epoch 10/12\n",
      "50/50 [==============================] - ETA: 0s - loss: 5.6509INFO:tensorflow:Assets written to: BestFits/jolly-sweep-81.ckpt/assets\n",
      "50/50 [==============================] - 19s 395ms/step - loss: 5.6509 - val_loss: 5.7685\n",
      "Epoch 11/12\n",
      "50/50 [==============================] - ETA: 0s - loss: 5.2586INFO:tensorflow:Assets written to: BestFits/jolly-sweep-81.ckpt/assets\n",
      "50/50 [==============================] - 19s 390ms/step - loss: 5.2586 - val_loss: 5.7261\n",
      "Epoch 12/12\n",
      "50/50 [==============================] - ETA: 0s - loss: 5.1053INFO:tensorflow:Assets written to: BestFits/jolly-sweep-81.ckpt/assets\n",
      "50/50 [==============================] - 20s 397ms/step - loss: 5.1053 - val_loss: 5.1449\n",
      "13/13 [==============================] - 1s 19ms/step - loss: 5.1449\n",
      "Epoch 1/12\n",
      "50/50 [==============================] - ETA: 0s - loss: 54.2642INFO:tensorflow:Assets written to: BestFits/jolly-sweep-82.ckpt/assets\n",
      "50/50 [==============================] - 29s 407ms/step - loss: 54.2642 - val_loss: 52.9797\n",
      "Epoch 2/12\n",
      "50/50 [==============================] - ETA: 0s - loss: 52.9891INFO:tensorflow:Assets written to: BestFits/jolly-sweep-82.ckpt/assets\n",
      "50/50 [==============================] - 19s 385ms/step - loss: 52.9891 - val_loss: 52.9725\n",
      "Epoch 3/12\n",
      "50/50 [==============================] - ETA: 0s - loss: 52.9883INFO:tensorflow:Assets written to: BestFits/jolly-sweep-82.ckpt/assets\n",
      "50/50 [==============================] - 19s 381ms/step - loss: 52.9883 - val_loss: 52.9723\n",
      "Epoch 4/12\n",
      "50/50 [==============================] - 4s 72ms/step - loss: 52.9881 - val_loss: 52.9725\n",
      "Epoch 5/12\n",
      "50/50 [==============================] - 4s 73ms/step - loss: 52.9880 - val_loss: 52.9760\n",
      "Epoch 6/12\n",
      "50/50 [==============================] - 4s 73ms/step - loss: 52.9894 - val_loss: 52.9723\n",
      "Epoch 7/12\n",
      "50/50 [==============================] - 4s 74ms/step - loss: 52.9886 - val_loss: 52.9733\n",
      "Epoch 8/12\n",
      "50/50 [==============================] - 4s 73ms/step - loss: 52.9884 - val_loss: 52.9725\n",
      "Epoch 9/12\n",
      "50/50 [==============================] - 4s 70ms/step - loss: 52.9890 - val_loss: 52.9735\n",
      "Epoch 10/12\n",
      "50/50 [==============================] - 3s 66ms/step - loss: 52.9885 - val_loss: 52.9727\n",
      "Epoch 11/12\n",
      "50/50 [==============================] - 3s 66ms/step - loss: 52.9885 - val_loss: 52.9726\n",
      "Epoch 12/12\n",
      "50/50 [==============================] - 3s 65ms/step - loss: 52.9893 - val_loss: 52.9731\n",
      "13/13 [==============================] - 1s 19ms/step - loss: 52.9723\n",
      "Epoch 1/12\n",
      "50/50 [==============================] - ETA: 0s - loss: 62.1199INFO:tensorflow:Assets written to: BestFits/jolly-sweep-83.ckpt/assets\n",
      "50/50 [==============================] - 29s 420ms/step - loss: 62.1199 - val_loss: 53.1186\n",
      "Epoch 2/12\n",
      "50/50 [==============================] - ETA: 0s - loss: 52.9621INFO:tensorflow:Assets written to: BestFits/jolly-sweep-83.ckpt/assets\n",
      "50/50 [==============================] - 20s 405ms/step - loss: 52.9621 - val_loss: 53.0971\n",
      "Epoch 3/12\n",
      "50/50 [==============================] - ETA: 0s - loss: 52.9581INFO:tensorflow:Assets written to: BestFits/jolly-sweep-83.ckpt/assets\n",
      "50/50 [==============================] - 20s 405ms/step - loss: 52.9581 - val_loss: 53.0950\n",
      "Epoch 4/12\n",
      "50/50 [==============================] - ETA: 0s - loss: 52.9574INFO:tensorflow:Assets written to: BestFits/jolly-sweep-83.ckpt/assets\n",
      "50/50 [==============================] - 20s 397ms/step - loss: 52.9574 - val_loss: 53.0944\n",
      "Epoch 5/12\n",
      "50/50 [==============================] - 4s 73ms/step - loss: 52.9582 - val_loss: 53.0945\n",
      "Epoch 6/12\n",
      "50/50 [==============================] - 4s 73ms/step - loss: 52.9578 - val_loss: 53.0946\n",
      "Epoch 7/12\n",
      "50/50 [==============================] - 4s 76ms/step - loss: 52.9578 - val_loss: 53.0945\n",
      "Epoch 8/12\n",
      "50/50 [==============================] - 4s 73ms/step - loss: 52.9574 - val_loss: 53.0946\n",
      "Epoch 9/12\n",
      "50/50 [==============================] - 3s 67ms/step - loss: 52.9574 - val_loss: 53.0954\n",
      "Epoch 10/12\n",
      "50/50 [==============================] - 3s 67ms/step - loss: 52.9579 - val_loss: 53.0959\n",
      "Epoch 11/12\n",
      "50/50 [==============================] - 3s 67ms/step - loss: 52.9580 - val_loss: 53.0948\n",
      "Epoch 12/12\n",
      "50/50 [==============================] - 3s 66ms/step - loss: 52.9576 - val_loss: 53.0947\n",
      "13/13 [==============================] - 1s 18ms/step - loss: 53.0944\n",
      "Epoch 1/12\n",
      "50/50 [==============================] - ETA: 0s - loss: 59.6751INFO:tensorflow:Assets written to: BestFits/jolly-sweep-84.ckpt/assets\n",
      "50/50 [==============================] - 30s 429ms/step - loss: 59.6751 - val_loss: 52.8204\n",
      "Epoch 2/12\n",
      "50/50 [==============================] - ETA: 0s - loss: 53.0290INFO:tensorflow:Assets written to: BestFits/jolly-sweep-84.ckpt/assets\n",
      "50/50 [==============================] - 20s 406ms/step - loss: 53.0290 - val_loss: 52.8165\n",
      "Epoch 3/12\n",
      "50/50 [==============================] - ETA: 0s - loss: 53.0283INFO:tensorflow:Assets written to: BestFits/jolly-sweep-84.ckpt/assets\n",
      "50/50 [==============================] - 20s 402ms/step - loss: 53.0283 - val_loss: 52.8155\n",
      "Epoch 4/12\n",
      "50/50 [==============================] - ETA: 0s - loss: 53.0278INFO:tensorflow:Assets written to: BestFits/jolly-sweep-84.ckpt/assets\n",
      "50/50 [==============================] - 20s 409ms/step - loss: 53.0278 - val_loss: 52.8144\n",
      "Epoch 5/12\n",
      "50/50 [==============================] - 4s 75ms/step - loss: 53.0280 - val_loss: 52.8154\n",
      "Epoch 6/12\n",
      "50/50 [==============================] - 4s 75ms/step - loss: 53.0280 - val_loss: 52.8149\n",
      "Epoch 7/12\n",
      "50/50 [==============================] - 4s 74ms/step - loss: 53.0279 - val_loss: 52.8167\n",
      "Epoch 8/12\n",
      "50/50 [==============================] - ETA: 0s - loss: 53.0283INFO:tensorflow:Assets written to: BestFits/jolly-sweep-84.ckpt/assets\n",
      "50/50 [==============================] - 20s 417ms/step - loss: 53.0283 - val_loss: 52.8143\n",
      "Epoch 9/12\n",
      "50/50 [==============================] - 4s 77ms/step - loss: 53.0276 - val_loss: 52.8159\n",
      "Epoch 10/12\n",
      "50/50 [==============================] - ETA: 0s - loss: 53.0283INFO:tensorflow:Assets written to: BestFits/jolly-sweep-84.ckpt/assets\n",
      "50/50 [==============================] - 20s 400ms/step - loss: 53.0283 - val_loss: 52.8142\n",
      "Epoch 11/12\n",
      "50/50 [==============================] - ETA: 0s - loss: 53.0275INFO:tensorflow:Assets written to: BestFits/jolly-sweep-84.ckpt/assets\n",
      "50/50 [==============================] - 20s 412ms/step - loss: 53.0275 - val_loss: 52.8141\n",
      "Epoch 12/12\n",
      "50/50 [==============================] - 4s 75ms/step - loss: 53.0293 - val_loss: 52.8149\n",
      "13/13 [==============================] - 1s 19ms/step - loss: 52.8141\n",
      "Epoch 1/12\n",
      "50/50 [==============================] - ETA: 0s - loss: 103.8674INFO:tensorflow:Assets written to: BestFits/jolly-sweep-85.ckpt/assets\n",
      "50/50 [==============================] - 32s 435ms/step - loss: 103.8674 - val_loss: 1532.3574\n",
      "Epoch 2/12\n",
      "50/50 [==============================] - ETA: 0s - loss: 52.9940INFO:tensorflow:Assets written to: BestFits/jolly-sweep-85.ckpt/assets\n",
      "50/50 [==============================] - 20s 405ms/step - loss: 52.9940 - val_loss: 53.3738\n",
      "Epoch 3/12\n",
      "50/50 [==============================] - ETA: 0s - loss: 52.8921INFO:tensorflow:Assets written to: BestFits/jolly-sweep-85.ckpt/assets\n",
      "50/50 [==============================] - 20s 414ms/step - loss: 52.8921 - val_loss: 53.3659\n",
      "Epoch 4/12\n",
      "50/50 [==============================] - 4s 77ms/step - loss: 52.8896 - val_loss: 53.3659\n",
      "Epoch 5/12\n",
      "50/50 [==============================] - 4s 73ms/step - loss: 52.8976 - val_loss: 53.3661\n",
      "Epoch 6/12\n",
      "50/50 [==============================] - 4s 73ms/step - loss: 52.8894 - val_loss: 53.3659\n",
      "Epoch 7/12\n",
      "50/50 [==============================] - 4s 73ms/step - loss: 52.8895 - val_loss: 53.3662\n",
      "Epoch 8/12\n",
      "50/50 [==============================] - 4s 72ms/step - loss: 52.8895 - val_loss: 53.3666\n",
      "Epoch 9/12\n",
      "50/50 [==============================] - 4s 70ms/step - loss: 52.8896 - val_loss: 53.3663\n",
      "Epoch 10/12\n",
      "50/50 [==============================] - 4s 73ms/step - loss: 52.8895 - val_loss: 53.3662\n",
      "Epoch 11/12\n",
      "50/50 [==============================] - ETA: 0s - loss: 52.8895INFO:tensorflow:Assets written to: BestFits/jolly-sweep-85.ckpt/assets\n",
      "50/50 [==============================] - 20s 406ms/step - loss: 52.8895 - val_loss: 53.3659\n",
      "Epoch 12/12\n",
      "50/50 [==============================] - 4s 75ms/step - loss: 52.8930 - val_loss: 53.3663\n",
      "13/13 [==============================] - 1s 19ms/step - loss: 53.3659\n"
     ]
    },
    {
     "data": {
      "text/html": [
       "Waiting for W&B process to finish... <strong style=\"color:green\">(success).</strong>"
      ],
      "text/plain": [
       "<IPython.core.display.HTML object>"
      ]
     },
     "metadata": {},
     "output_type": "display_data"
    },
    {
     "data": {
      "application/vnd.jupyter.widget-view+json": {
       "model_id": "217df801867b4fc7bd014f35fb1e84a4",
       "version_major": 2,
       "version_minor": 0
      },
      "text/plain": [
       "VBox(children=(Label(value='0.001 MB of 0.001 MB uploaded (0.000 MB deduped)\\r'), FloatProgress(value=1.0, max…"
      ]
     },
     "metadata": {},
     "output_type": "display_data"
    },
    {
     "data": {
      "text/html": [
       "<style>\n",
       "    table.wandb td:nth-child(1) { padding: 0 10px; text-align: left ; width: auto;} td:nth-child(2) {text-align: left ; width: 100%}\n",
       "    .wandb-row { display: flex; flex-direction: row; flex-wrap: wrap; justify-content: flex-start; width: 100% }\n",
       "    .wandb-col { display: flex; flex-direction: column; flex-basis: 100%; flex: 1; padding: 10px; }\n",
       "    </style>\n",
       "<div class=\"wandb-row\"><div class=\"wandb-col\"><h3>Run history:</h3><br/><table class=\"wandb\"><tr><td>best_val_loss</td><td>▁▃▄▆█</td></tr><tr><td>epoch</td><td>▁▂▃▄▅▅▇▇▁▂▃▄▅▅▇▇▁▂▃▄▅▅▇▇▁▂▃▄▅▅▇▇▁▂▃▄▅▅▇█</td></tr><tr><td>fold</td><td>▁▁▁▁▁▁▁▁▃▃▃▃▃▃▃▃▅▅▅▅▅▅▅▅▆▆▆▆▆▆▆▆████████</td></tr><tr><td>loss</td><td>▄▂▁▁▁▁▁▁▄▄▄▄▄▄▄▄▅▄▄▄▄▄▄▄▅▄▄▄▄▄▄▄█▄▄▄▄▄▄▄</td></tr><tr><td>mean_loss</td><td>▁</td></tr><tr><td>std</td><td>▁</td></tr><tr><td>val_loss</td><td>▁▁▁▁▁▁▁▁▁▁▁▁▁▁▁▁▁▁▁▁▁▁▁▁▁▁▁▁▁▁▁▁█▁▁▁▁▁▁▁</td></tr></table><br/></div><div class=\"wandb-col\"><h3>Run summary:</h3><br/><table class=\"wandb\"><tr><td>best_val_loss</td><td>43.47831</td></tr><tr><td>epoch</td><td>11</td></tr><tr><td>fold</td><td>5</td></tr><tr><td>loss</td><td>52.89296</td></tr><tr><td>mean_loss</td><td>43.47831</td></tr><tr><td>std</td><td>19.16755</td></tr><tr><td>val_loss</td><td>53.36631</td></tr></table><br/></div></div>"
      ],
      "text/plain": [
       "<IPython.core.display.HTML object>"
      ]
     },
     "metadata": {},
     "output_type": "display_data"
    },
    {
     "data": {
      "text/html": [
       "Synced <strong style=\"color:#cdcd00\">jolly-sweep-8</strong>: <a href=\"https://wandb.ai/avishai-elma/BioEx4_5/runs/uwsye0v8\" target=\"_blank\">https://wandb.ai/avishai-elma/BioEx4_5/runs/uwsye0v8</a><br/>Synced 5 W&B file(s), 0 media file(s), 0 artifact file(s) and 0 other file(s)"
      ],
      "text/plain": [
       "<IPython.core.display.HTML object>"
      ]
     },
     "metadata": {},
     "output_type": "display_data"
    },
    {
     "data": {
      "text/html": [
       "Find logs at: <code>./wandb/run-20220505_113024-uwsye0v8/logs</code>"
      ],
      "text/plain": [
       "<IPython.core.display.HTML object>"
      ]
     },
     "metadata": {},
     "output_type": "display_data"
    },
    {
     "metadata": {
      "tags": null
     },
     "name": "stderr",
     "output_type": "stream",
     "text": [
      "\u001B[34m\u001B[1mwandb\u001B[0m: Agent Starting Run: kcvnenxd with config:\n",
      "\u001B[34m\u001B[1mwandb\u001B[0m: \tBATCH: 16\n",
      "\u001B[34m\u001B[1mwandb\u001B[0m: \tDILATATION: [1]\n",
      "\u001B[34m\u001B[1mwandb\u001B[0m: \tDROPOUT: 0.015644548930437922\n",
      "\u001B[34m\u001B[1mwandb\u001B[0m: \tEPOCHS: 15\n",
      "\u001B[34m\u001B[1mwandb\u001B[0m: \tLR: 0.017560299049803905\n",
      "\u001B[34m\u001B[1mwandb\u001B[0m: \tRESNET_1_BLOCKS: 2\n",
      "\u001B[34m\u001B[1mwandb\u001B[0m: \tRESNET_1_KERNEL_NUM: 58\n",
      "\u001B[34m\u001B[1mwandb\u001B[0m: \tRESNET_1_KERNEL_SIZE: 9\n",
      "\u001B[34m\u001B[1mwandb\u001B[0m: \tRESNET_2_BLOCKS: 5\n",
      "\u001B[34m\u001B[1mwandb\u001B[0m: \tRESNET_2_KERNEL_NUM: 30\n",
      "\u001B[34m\u001B[1mwandb\u001B[0m: \tRESNET_2_KERNEL_SIZE: 5\n"
     ]
    },
    {
     "data": {
      "text/html": [
       "Tracking run with wandb version 0.12.16"
      ],
      "text/plain": [
       "<IPython.core.display.HTML object>"
      ]
     },
     "metadata": {},
     "output_type": "display_data"
    },
    {
     "data": {
      "text/html": [
       "Run data is saved locally in <code>/content/drive/.shortcut-targets-by-id/13JKG3wgYlOO5t5AoOpkix7QiZamDhSEp/ColabNotebooks/wandb/run-20220505_114529-kcvnenxd</code>"
      ],
      "text/plain": [
       "<IPython.core.display.HTML object>"
      ]
     },
     "metadata": {},
     "output_type": "display_data"
    },
    {
     "data": {
      "text/html": [
       "Syncing run <strong><a href=\"https://wandb.ai/avishai-elma/BioEx4_5/runs/kcvnenxd\" target=\"_blank\">eager-sweep-9</a></strong> to <a href=\"https://wandb.ai/avishai-elma/BioEx4_5\" target=\"_blank\">Weights & Biases</a> (<a href=\"https://wandb.me/run\" target=\"_blank\">docs</a>)<br/>Sweep page:  <a href=\"https://wandb.ai/avishai-elma/BioEx4_5/sweeps/5pa1928v\" target=\"_blank\">https://wandb.ai/avishai-elma/BioEx4_5/sweeps/5pa1928v</a>"
      ],
      "text/plain": [
       "<IPython.core.display.HTML object>"
      ]
     },
     "metadata": {},
     "output_type": "display_data"
    },
    {
     "metadata": {
      "tags": null
     },
     "name": "stdout",
     "output_type": "stream",
     "text": [
      "Epoch 1/15\n",
      "99/99 [==============================] - ETA: 0s - loss: 53.7168INFO:tensorflow:Assets written to: BestFits/eager-sweep-91.ckpt/assets\n",
      "99/99 [==============================] - 20s 140ms/step - loss: 53.7168 - val_loss: 52.6768\n",
      "Epoch 2/15\n",
      "99/99 [==============================] - 3s 33ms/step - loss: 53.0618 - val_loss: 52.6780\n",
      "Epoch 3/15\n",
      "99/99 [==============================] - 3s 33ms/step - loss: 53.0632 - val_loss: 52.6788\n",
      "Epoch 4/15\n",
      "99/99 [==============================] - 3s 34ms/step - loss: 53.0640 - val_loss: 52.6781\n",
      "Epoch 5/15\n",
      "99/99 [==============================] - 3s 34ms/step - loss: 53.0635 - val_loss: 52.6771\n",
      "Epoch 6/15\n",
      "99/99 [==============================] - 3s 33ms/step - loss: 53.0646 - val_loss: 52.6785\n",
      "Epoch 7/15\n",
      "99/99 [==============================] - 3s 33ms/step - loss: 53.0638 - val_loss: 52.6801\n",
      "Epoch 8/15\n",
      "99/99 [==============================] - 3s 34ms/step - loss: 53.0663 - val_loss: 52.6797\n",
      "Epoch 9/15\n",
      "99/99 [==============================] - 3s 34ms/step - loss: 53.0638 - val_loss: 52.6777\n",
      "Epoch 10/15\n",
      "99/99 [==============================] - 3s 34ms/step - loss: 53.0656 - val_loss: 52.6769\n",
      "Epoch 11/15\n",
      "99/99 [==============================] - 3s 33ms/step - loss: 53.0666 - val_loss: 52.6856\n",
      "Epoch 12/15\n",
      "99/99 [==============================] - 3s 35ms/step - loss: 53.0681 - val_loss: 52.6820\n",
      "Epoch 13/15\n",
      "99/99 [==============================] - 4s 36ms/step - loss: 53.0653 - val_loss: 52.6863\n",
      "Epoch 14/15\n",
      "99/99 [==============================] - 3s 34ms/step - loss: 53.0678 - val_loss: 52.6795\n",
      "Epoch 15/15\n",
      "99/99 [==============================] - 4s 36ms/step - loss: 53.0655 - val_loss: 52.6791\n",
      "13/13 [==============================] - 1s 13ms/step - loss: 52.6768\n",
      "Epoch 1/15\n",
      "99/99 [==============================] - ETA: 0s - loss: 237.5719INFO:tensorflow:Assets written to: BestFits/eager-sweep-92.ckpt/assets\n",
      "99/99 [==============================] - 17s 122ms/step - loss: 237.5719 - val_loss: 53.0074\n",
      "Epoch 2/15\n",
      "99/99 [==============================] - ETA: 0s - loss: 52.9932INFO:tensorflow:Assets written to: BestFits/eager-sweep-92.ckpt/assets\n",
      "99/99 [==============================] - 12s 119ms/step - loss: 52.9932 - val_loss: 52.9723\n",
      "Epoch 3/15\n",
      "99/99 [==============================] - 4s 36ms/step - loss: 52.9878 - val_loss: 52.9724\n",
      "Epoch 4/15\n",
      "99/99 [==============================] - 4s 36ms/step - loss: 52.9877 - val_loss: 52.9731\n",
      "Epoch 5/15\n",
      "99/99 [==============================] - 4s 37ms/step - loss: 52.9882 - val_loss: 52.9723\n",
      "Epoch 6/15\n",
      "99/99 [==============================] - 4s 36ms/step - loss: 52.9879 - val_loss: 52.9723\n",
      "Epoch 7/15\n",
      "98/99 [============================>.] - ETA: 0s - loss: 52.9664INFO:tensorflow:Assets written to: BestFits/eager-sweep-92.ckpt/assets\n",
      "99/99 [==============================] - 11s 115ms/step - loss: 52.9878 - val_loss: 52.9723\n",
      "Epoch 8/15\n",
      "99/99 [==============================] - 3s 35ms/step - loss: 52.9880 - val_loss: 52.9723\n",
      "Epoch 9/15\n",
      "99/99 [==============================] - 4s 36ms/step - loss: 52.9878 - val_loss: 52.9724\n",
      "Epoch 10/15\n",
      "99/99 [==============================] - 4s 36ms/step - loss: 52.9881 - val_loss: 52.9726\n",
      "Epoch 11/15\n",
      "99/99 [==============================] - 4s 38ms/step - loss: 52.9880 - val_loss: 52.9723\n",
      "Epoch 12/15\n",
      "99/99 [==============================] - 4s 36ms/step - loss: 52.9885 - val_loss: 52.9728\n",
      "Epoch 13/15\n",
      "99/99 [==============================] - ETA: 0s - loss: 52.9878INFO:tensorflow:Assets written to: BestFits/eager-sweep-92.ckpt/assets\n",
      "99/99 [==============================] - 12s 126ms/step - loss: 52.9878 - val_loss: 52.9722\n",
      "Epoch 14/15\n",
      "99/99 [==============================] - 4s 37ms/step - loss: 52.9884 - val_loss: 52.9724\n",
      "Epoch 15/15\n",
      "99/99 [==============================] - 4s 37ms/step - loss: 52.9878 - val_loss: 52.9726\n",
      "13/13 [==============================] - 1s 13ms/step - loss: 52.9722\n",
      "Epoch 1/15\n",
      "98/99 [============================>.] - ETA: 0s - loss: 22966.2500INFO:tensorflow:Assets written to: BestFits/eager-sweep-93.ckpt/assets\n",
      "99/99 [==============================] - 18s 130ms/step - loss: 22806.6797 - val_loss: 59.3595\n",
      "Epoch 2/15\n",
      "99/99 [==============================] - ETA: 0s - loss: 58.5792INFO:tensorflow:Assets written to: BestFits/eager-sweep-93.ckpt/assets\n",
      "99/99 [==============================] - 12s 126ms/step - loss: 58.5792 - val_loss: 57.8925\n",
      "Epoch 3/15\n",
      "98/99 [============================>.] - ETA: 0s - loss: 57.1681INFO:tensorflow:Assets written to: BestFits/eager-sweep-93.ckpt/assets\n",
      "99/99 [==============================] - 12s 124ms/step - loss: 57.1677 - val_loss: 56.7517\n",
      "Epoch 4/15\n",
      "99/99 [==============================] - ETA: 0s - loss: 56.1591INFO:tensorflow:Assets written to: BestFits/eager-sweep-93.ckpt/assets\n",
      "99/99 [==============================] - 11s 115ms/step - loss: 56.1591 - val_loss: 55.8672\n",
      "Epoch 5/15\n",
      "99/99 [==============================] - ETA: 0s - loss: 55.3784INFO:tensorflow:Assets written to: BestFits/eager-sweep-93.ckpt/assets\n",
      "99/99 [==============================] - 12s 120ms/step - loss: 55.3784 - val_loss: 55.1840\n",
      "Epoch 6/15\n",
      "99/99 [==============================] - ETA: 0s - loss: 54.7760INFO:tensorflow:Assets written to: BestFits/eager-sweep-93.ckpt/assets\n",
      "99/99 [==============================] - 12s 119ms/step - loss: 54.7760 - val_loss: 54.6577\n",
      "Epoch 7/15\n",
      "99/99 [==============================] - ETA: 0s - loss: 54.3133INFO:tensorflow:Assets written to: BestFits/eager-sweep-93.ckpt/assets\n",
      "99/99 [==============================] - 12s 118ms/step - loss: 54.3133 - val_loss: 54.2549\n",
      "Epoch 8/15\n",
      "99/99 [==============================] - ETA: 0s - loss: 53.9598INFO:tensorflow:Assets written to: BestFits/eager-sweep-93.ckpt/assets\n",
      "99/99 [==============================] - 12s 124ms/step - loss: 53.9598 - val_loss: 53.9481\n",
      "Epoch 9/15\n",
      "98/99 [============================>.] - ETA: 0s - loss: 53.6823INFO:tensorflow:Assets written to: BestFits/eager-sweep-93.ckpt/assets\n",
      "99/99 [==============================] - 12s 126ms/step - loss: 53.6916 - val_loss: 53.7163\n",
      "Epoch 10/15\n",
      "99/99 [==============================] - ETA: 0s - loss: 53.4897INFO:tensorflow:Assets written to: BestFits/eager-sweep-93.ckpt/assets\n",
      "99/99 [==============================] - 12s 124ms/step - loss: 53.4897 - val_loss: 53.5427\n",
      "Epoch 11/15\n",
      "98/99 [============================>.] - ETA: 0s - loss: 53.3466INFO:tensorflow:Assets written to: BestFits/eager-sweep-93.ckpt/assets\n",
      "99/99 [==============================] - 12s 122ms/step - loss: 53.3390 - val_loss: 53.4137\n",
      "Epoch 12/15\n",
      "99/99 [==============================] - ETA: 0s - loss: 53.2278INFO:tensorflow:Assets written to: BestFits/eager-sweep-93.ckpt/assets\n",
      "99/99 [==============================] - 12s 122ms/step - loss: 53.2278 - val_loss: 53.3192\n",
      "Epoch 13/15\n",
      "99/99 [==============================] - ETA: 0s - loss: 53.1465INFO:tensorflow:Assets written to: BestFits/eager-sweep-93.ckpt/assets\n",
      "99/99 [==============================] - 12s 119ms/step - loss: 53.1465 - val_loss: 53.2506\n",
      "Epoch 14/15\n",
      "99/99 [==============================] - ETA: 0s - loss: 53.0878INFO:tensorflow:Assets written to: BestFits/eager-sweep-93.ckpt/assets\n",
      "99/99 [==============================] - 12s 121ms/step - loss: 53.0878 - val_loss: 53.2014\n",
      "Epoch 15/15\n",
      "99/99 [==============================] - ETA: 0s - loss: 53.0461INFO:tensorflow:Assets written to: BestFits/eager-sweep-93.ckpt/assets\n",
      "99/99 [==============================] - 12s 127ms/step - loss: 53.0461 - val_loss: 53.1666\n",
      "13/13 [==============================] - 1s 14ms/step - loss: 53.1666\n",
      "Epoch 1/15\n",
      "99/99 [==============================] - ETA: 0s - loss: 3125.4702INFO:tensorflow:Assets written to: BestFits/eager-sweep-94.ckpt/assets\n",
      "99/99 [==============================] - 18s 125ms/step - loss: 3125.4702 - val_loss: 469035584.0000\n",
      "Epoch 2/15\n",
      "99/99 [==============================] - ETA: 0s - loss: 55.5668INFO:tensorflow:Assets written to: BestFits/eager-sweep-94.ckpt/assets\n",
      "99/99 [==============================] - 12s 120ms/step - loss: 55.5668 - val_loss: 54.0790\n",
      "Epoch 3/15\n",
      "98/99 [============================>.] - ETA: 0s - loss: 53.7889INFO:tensorflow:Assets written to: BestFits/eager-sweep-94.ckpt/assets\n",
      "99/99 [==============================] - 12s 117ms/step - loss: 53.7851 - val_loss: 53.2135\n",
      "Epoch 4/15\n",
      "99/99 [==============================] - ETA: 0s - loss: 53.2745INFO:tensorflow:Assets written to: BestFits/eager-sweep-94.ckpt/assets\n",
      "99/99 [==============================] - 12s 124ms/step - loss: 53.2745 - val_loss: 52.9469\n",
      "Epoch 5/15\n",
      "99/99 [==============================] - ETA: 0s - loss: 53.1118INFO:tensorflow:Assets written to: BestFits/eager-sweep-94.ckpt/assets\n",
      "99/99 [==============================] - 12s 123ms/step - loss: 53.1118 - val_loss: 52.8593\n",
      "Epoch 6/15\n",
      "99/99 [==============================] - ETA: 0s - loss: 53.0570INFO:tensorflow:Assets written to: BestFits/eager-sweep-94.ckpt/assets\n",
      "99/99 [==============================] - 12s 126ms/step - loss: 53.0570 - val_loss: 52.8296\n",
      "Epoch 7/15\n",
      "99/99 [==============================] - ETA: 0s - loss: 53.0378INFO:tensorflow:Assets written to: BestFits/eager-sweep-94.ckpt/assets\n",
      "99/99 [==============================] - 13s 129ms/step - loss: 53.0378 - val_loss: 52.8193\n",
      "Epoch 8/15\n",
      "99/99 [==============================] - ETA: 0s - loss: 53.3881INFO:tensorflow:Assets written to: BestFits/eager-sweep-94.ckpt/assets\n",
      "99/99 [==============================] - 11s 115ms/step - loss: 53.3881 - val_loss: 52.8157\n",
      "Epoch 9/15\n",
      "99/99 [==============================] - ETA: 0s - loss: 53.0285INFO:tensorflow:Assets written to: BestFits/eager-sweep-94.ckpt/assets\n",
      "99/99 [==============================] - 12s 122ms/step - loss: 53.0285 - val_loss: 52.8145\n",
      "Epoch 10/15\n",
      "99/99 [==============================] - ETA: 0s - loss: 53.0277INFO:tensorflow:Assets written to: BestFits/eager-sweep-94.ckpt/assets\n",
      "99/99 [==============================] - 12s 119ms/step - loss: 53.0277 - val_loss: 52.8142\n",
      "Epoch 11/15\n",
      "99/99 [==============================] - ETA: 0s - loss: 53.0273INFO:tensorflow:Assets written to: BestFits/eager-sweep-94.ckpt/assets\n",
      "99/99 [==============================] - 12s 121ms/step - loss: 53.0273 - val_loss: 52.8142\n",
      "Epoch 12/15\n",
      "99/99 [==============================] - ETA: 0s - loss: 53.0272INFO:tensorflow:Assets written to: BestFits/eager-sweep-94.ckpt/assets\n",
      "99/99 [==============================] - 12s 119ms/step - loss: 53.0272 - val_loss: 52.8141\n",
      "Epoch 13/15\n",
      "99/99 [==============================] - 4s 36ms/step - loss: 53.0273 - val_loss: 52.8142\n",
      "Epoch 14/15\n",
      "99/99 [==============================] - 3s 35ms/step - loss: 53.0271 - val_loss: 52.8142\n",
      "Epoch 15/15\n",
      "99/99 [==============================] - 4s 36ms/step - loss: 53.0271 - val_loss: 52.8142\n",
      "13/13 [==============================] - 1s 13ms/step - loss: 52.8141\n",
      "Epoch 1/15\n",
      "99/99 [==============================] - ETA: 0s - loss: 7053.2515INFO:tensorflow:Assets written to: BestFits/eager-sweep-95.ckpt/assets\n",
      "99/99 [==============================] - 17s 127ms/step - loss: 7053.2515 - val_loss: 6699.6763\n",
      "Epoch 2/15\n",
      "99/99 [==============================] - ETA: 0s - loss: 66.2481INFO:tensorflow:Assets written to: BestFits/eager-sweep-95.ckpt/assets\n",
      "99/99 [==============================] - 12s 119ms/step - loss: 66.2481 - val_loss: 64.7390\n",
      "Epoch 3/15\n",
      "99/99 [==============================] - ETA: 0s - loss: 62.7813INFO:tensorflow:Assets written to: BestFits/eager-sweep-95.ckpt/assets\n",
      "99/99 [==============================] - 11s 112ms/step - loss: 62.7813 - val_loss: 61.7603\n",
      "Epoch 4/15\n",
      "99/99 [==============================] - ETA: 0s - loss: 60.1869INFO:tensorflow:Assets written to: BestFits/eager-sweep-95.ckpt/assets\n",
      "99/99 [==============================] - 12s 122ms/step - loss: 60.1869 - val_loss: 59.5347\n",
      "Epoch 5/15\n",
      "99/99 [==============================] - ETA: 0s - loss: 58.2504INFO:tensorflow:Assets written to: BestFits/eager-sweep-95.ckpt/assets\n",
      "99/99 [==============================] - 12s 119ms/step - loss: 58.2504 - val_loss: 57.8780\n",
      "Epoch 6/15\n",
      "99/99 [==============================] - ETA: 0s - loss: 56.8088INFO:tensorflow:Assets written to: BestFits/eager-sweep-95.ckpt/assets\n",
      "99/99 [==============================] - 12s 123ms/step - loss: 56.8088 - val_loss: 56.6479\n",
      "Epoch 7/15\n",
      "99/99 [==============================] - ETA: 0s - loss: 55.7391INFO:tensorflow:Assets written to: BestFits/eager-sweep-95.ckpt/assets\n",
      "99/99 [==============================] - 12s 124ms/step - loss: 55.7391 - val_loss: 55.7376\n",
      "Epoch 8/15\n",
      "98/99 [============================>.] - ETA: 0s - loss: 54.9519INFO:tensorflow:Assets written to: BestFits/eager-sweep-95.ckpt/assets\n",
      "99/99 [==============================] - 12s 127ms/step - loss: 54.9479 - val_loss: 55.0664\n",
      "Epoch 9/15\n",
      "98/99 [============================>.] - ETA: 0s - loss: 54.3701INFO:tensorflow:Assets written to: BestFits/eager-sweep-95.ckpt/assets\n",
      "99/99 [==============================] - 12s 127ms/step - loss: 54.3651 - val_loss: 54.5741\n",
      "Epoch 10/15\n",
      "99/99 [==============================] - ETA: 0s - loss: 53.9381INFO:tensorflow:Assets written to: BestFits/eager-sweep-95.ckpt/assets\n",
      "99/99 [==============================] - 12s 122ms/step - loss: 53.9381 - val_loss: 54.2160\n",
      "Epoch 11/15\n",
      "99/99 [==============================] - ETA: 0s - loss: 53.6271INFO:tensorflow:Assets written to: BestFits/eager-sweep-95.ckpt/assets\n",
      "99/99 [==============================] - 13s 130ms/step - loss: 53.6271 - val_loss: 53.9569\n",
      "Epoch 12/15\n",
      "98/99 [============================>.] - ETA: 0s - loss: 53.4069INFO:tensorflow:Assets written to: BestFits/eager-sweep-95.ckpt/assets\n",
      "99/99 [==============================] - 13s 131ms/step - loss: 53.4025 - val_loss: 53.7712\n",
      "Epoch 13/15\n",
      "99/99 [==============================] - ETA: 0s - loss: 53.2417INFO:tensorflow:Assets written to: BestFits/eager-sweep-95.ckpt/assets\n",
      "99/99 [==============================] - 13s 132ms/step - loss: 53.2417 - val_loss: 53.6396\n",
      "Epoch 14/15\n",
      "98/99 [============================>.] - ETA: 0s - loss: 53.1360INFO:tensorflow:Assets written to: BestFits/eager-sweep-95.ckpt/assets\n",
      "99/99 [==============================] - 13s 133ms/step - loss: 53.1280 - val_loss: 53.5477\n",
      "Epoch 15/15\n",
      "98/99 [============================>.] - ETA: 0s - loss: 53.0575INFO:tensorflow:Assets written to: BestFits/eager-sweep-95.ckpt/assets\n",
      "99/99 [==============================] - 12s 125ms/step - loss: 53.0485 - val_loss: 53.4843\n",
      "13/13 [==============================] - 1s 13ms/step - loss: 53.4843\n"
     ]
    },
    {
     "data": {
      "text/html": [
       "Waiting for W&B process to finish... <strong style=\"color:green\">(success).</strong>"
      ],
      "text/plain": [
       "<IPython.core.display.HTML object>"
      ]
     },
     "metadata": {},
     "output_type": "display_data"
    },
    {
     "data": {
      "application/vnd.jupyter.widget-view+json": {
       "model_id": "6fab2355a4ab4799bba0b47934072ef0",
       "version_major": 2,
       "version_minor": 0
      },
      "text/plain": [
       "VBox(children=(Label(value='0.001 MB of 0.001 MB uploaded (0.000 MB deduped)\\r'), FloatProgress(value=1.0, max…"
      ]
     },
     "metadata": {},
     "output_type": "display_data"
    },
    {
     "data": {
      "text/html": [
       "<style>\n",
       "    table.wandb td:nth-child(1) { padding: 0 10px; text-align: left ; width: auto;} td:nth-child(2) {text-align: left ; width: 100%}\n",
       "    .wandb-row { display: flex; flex-direction: row; flex-wrap: wrap; justify-content: flex-start; width: 100% }\n",
       "    .wandb-col { display: flex; flex-direction: column; flex-basis: 100%; flex: 1; padding: 10px; }\n",
       "    </style>\n",
       "<div class=\"wandb-row\"><div class=\"wandb-col\"><h3>Run history:</h3><br/><table class=\"wandb\"><tr><td>best_val_loss</td><td>▁▃▄▆█</td></tr><tr><td>epoch</td><td>▁▁▃▃▅▅▇▇▁▂▃▃▅▅▇▇▁▂▃▄▅▅▇▇▁▂▃▄▅▆▇▇▁▂▃▄▅▆▇█</td></tr><tr><td>fold</td><td>▁▁▁▁▁▁▁▁▃▃▃▃▃▃▃▃▅▅▅▅▅▅▅▅▆▆▆▆▆▆▆▆████████</td></tr><tr><td>loss</td><td>▁▁▁▁▁▁▁▁▁▁▁▁▁▁▁▁█▁▁▁▁▁▁▁▂▁▁▁▁▁▁▁▃▁▁▁▁▁▁▁</td></tr><tr><td>mean_loss</td><td>▁</td></tr><tr><td>std</td><td>▁</td></tr><tr><td>val_loss</td><td>▁▁▁▁▁▁▁▁▁▁▁▁▁▁▁▁▁▁▁▁▁▁▁▁█▁▁▁▁▁▁▁▁▁▁▁▁▁▁▁</td></tr></table><br/></div><div class=\"wandb-col\"><h3>Run summary:</h3><br/><table class=\"wandb\"><tr><td>best_val_loss</td><td>53.0228</td></tr><tr><td>epoch</td><td>14</td></tr><tr><td>fold</td><td>5</td></tr><tr><td>loss</td><td>53.04855</td></tr><tr><td>mean_loss</td><td>53.0228</td></tr><tr><td>std</td><td>0.28266</td></tr><tr><td>val_loss</td><td>53.48426</td></tr></table><br/></div></div>"
      ],
      "text/plain": [
       "<IPython.core.display.HTML object>"
      ]
     },
     "metadata": {},
     "output_type": "display_data"
    },
    {
     "data": {
      "text/html": [
       "Synced <strong style=\"color:#cdcd00\">eager-sweep-9</strong>: <a href=\"https://wandb.ai/avishai-elma/BioEx4_5/runs/kcvnenxd\" target=\"_blank\">https://wandb.ai/avishai-elma/BioEx4_5/runs/kcvnenxd</a><br/>Synced 5 W&B file(s), 0 media file(s), 0 artifact file(s) and 0 other file(s)"
      ],
      "text/plain": [
       "<IPython.core.display.HTML object>"
      ]
     },
     "metadata": {},
     "output_type": "display_data"
    },
    {
     "data": {
      "text/html": [
       "Find logs at: <code>./wandb/run-20220505_114529-kcvnenxd/logs</code>"
      ],
      "text/plain": [
       "<IPython.core.display.HTML object>"
      ]
     },
     "metadata": {},
     "output_type": "display_data"
    },
    {
     "metadata": {
      "tags": null
     },
     "name": "stderr",
     "output_type": "stream",
     "text": [
      "\u001B[34m\u001B[1mwandb\u001B[0m: Agent Starting Run: 21wvulzp with config:\n",
      "\u001B[34m\u001B[1mwandb\u001B[0m: \tBATCH: 16\n",
      "\u001B[34m\u001B[1mwandb\u001B[0m: \tDILATATION: [1, 2, 4, 8]\n",
      "\u001B[34m\u001B[1mwandb\u001B[0m: \tDROPOUT: 0.3379625888281226\n",
      "\u001B[34m\u001B[1mwandb\u001B[0m: \tEPOCHS: 15\n",
      "\u001B[34m\u001B[1mwandb\u001B[0m: \tLR: 0.012100563520305412\n",
      "\u001B[34m\u001B[1mwandb\u001B[0m: \tRESNET_1_BLOCKS: 1\n",
      "\u001B[34m\u001B[1mwandb\u001B[0m: \tRESNET_1_KERNEL_NUM: 54\n",
      "\u001B[34m\u001B[1mwandb\u001B[0m: \tRESNET_1_KERNEL_SIZE: 9\n",
      "\u001B[34m\u001B[1mwandb\u001B[0m: \tRESNET_2_BLOCKS: 3\n",
      "\u001B[34m\u001B[1mwandb\u001B[0m: \tRESNET_2_KERNEL_NUM: 15\n",
      "\u001B[34m\u001B[1mwandb\u001B[0m: \tRESNET_2_KERNEL_SIZE: 9\n"
     ]
    },
    {
     "data": {
      "text/html": [
       "Tracking run with wandb version 0.12.16"
      ],
      "text/plain": [
       "<IPython.core.display.HTML object>"
      ]
     },
     "metadata": {},
     "output_type": "display_data"
    },
    {
     "data": {
      "text/html": [
       "Run data is saved locally in <code>/content/drive/.shortcut-targets-by-id/13JKG3wgYlOO5t5AoOpkix7QiZamDhSEp/ColabNotebooks/wandb/run-20220505_115925-21wvulzp</code>"
      ],
      "text/plain": [
       "<IPython.core.display.HTML object>"
      ]
     },
     "metadata": {},
     "output_type": "display_data"
    },
    {
     "data": {
      "text/html": [
       "Syncing run <strong><a href=\"https://wandb.ai/avishai-elma/BioEx4_5/runs/21wvulzp\" target=\"_blank\">quiet-sweep-10</a></strong> to <a href=\"https://wandb.ai/avishai-elma/BioEx4_5\" target=\"_blank\">Weights & Biases</a> (<a href=\"https://wandb.me/run\" target=\"_blank\">docs</a>)<br/>Sweep page:  <a href=\"https://wandb.ai/avishai-elma/BioEx4_5/sweeps/5pa1928v\" target=\"_blank\">https://wandb.ai/avishai-elma/BioEx4_5/sweeps/5pa1928v</a>"
      ],
      "text/plain": [
       "<IPython.core.display.HTML object>"
      ]
     },
     "metadata": {},
     "output_type": "display_data"
    },
    {
     "metadata": {
      "tags": null
     },
     "name": "stdout",
     "output_type": "stream",
     "text": [
      "Epoch 1/15\n",
      "99/99 [==============================] - ETA: 0s - loss: 17.8517INFO:tensorflow:Assets written to: BestFits/quiet-sweep-101.ckpt/assets\n",
      "99/99 [==============================] - 34s 235ms/step - loss: 17.8517 - val_loss: 10.6724\n",
      "Epoch 2/15\n",
      "99/99 [==============================] - ETA: 0s - loss: 4.4103INFO:tensorflow:Assets written to: BestFits/quiet-sweep-101.ckpt/assets\n",
      "99/99 [==============================] - 22s 220ms/step - loss: 4.4103 - val_loss: 3.8675\n",
      "Epoch 3/15\n",
      "99/99 [==============================] - ETA: 0s - loss: 3.8124INFO:tensorflow:Assets written to: BestFits/quiet-sweep-101.ckpt/assets\n",
      "99/99 [==============================] - 22s 221ms/step - loss: 3.8124 - val_loss: 2.5699\n",
      "Epoch 4/15\n",
      "99/99 [==============================] - ETA: 0s - loss: 3.5218INFO:tensorflow:Assets written to: BestFits/quiet-sweep-101.ckpt/assets\n",
      "99/99 [==============================] - 22s 222ms/step - loss: 3.5218 - val_loss: 2.4875\n",
      "Epoch 5/15\n",
      "99/99 [==============================] - 6s 63ms/step - loss: 3.3561 - val_loss: 2.5494\n",
      "Epoch 6/15\n",
      "99/99 [==============================] - ETA: 0s - loss: 3.2712INFO:tensorflow:Assets written to: BestFits/quiet-sweep-101.ckpt/assets\n",
      "99/99 [==============================] - 22s 221ms/step - loss: 3.2712 - val_loss: 2.2996\n",
      "Epoch 7/15\n",
      "99/99 [==============================] - ETA: 0s - loss: 3.2841INFO:tensorflow:Assets written to: BestFits/quiet-sweep-101.ckpt/assets\n",
      "99/99 [==============================] - 22s 224ms/step - loss: 3.2841 - val_loss: 2.1303\n",
      "Epoch 8/15\n",
      "99/99 [==============================] - 6s 63ms/step - loss: 3.1334 - val_loss: 2.2496\n",
      "Epoch 9/15\n",
      "99/99 [==============================] - 6s 63ms/step - loss: 3.0241 - val_loss: 2.2709\n",
      "Epoch 10/15\n",
      "99/99 [==============================] - 6s 63ms/step - loss: 3.0202 - val_loss: 2.1345\n",
      "Epoch 11/15\n",
      "99/99 [==============================] - 6s 63ms/step - loss: 2.9922 - val_loss: 2.1410\n",
      "Epoch 12/15\n",
      "99/99 [==============================] - ETA: 0s - loss: 2.9461INFO:tensorflow:Assets written to: BestFits/quiet-sweep-101.ckpt/assets\n",
      "99/99 [==============================] - 22s 222ms/step - loss: 2.9461 - val_loss: 2.0679\n",
      "Epoch 13/15\n",
      "99/99 [==============================] - 6s 62ms/step - loss: 2.8957 - val_loss: 2.0785\n",
      "Epoch 14/15\n",
      "99/99 [==============================] - ETA: 0s - loss: 2.8827INFO:tensorflow:Assets written to: BestFits/quiet-sweep-101.ckpt/assets\n",
      "99/99 [==============================] - 22s 225ms/step - loss: 2.8827 - val_loss: 2.0574\n",
      "Epoch 15/15\n",
      "99/99 [==============================] - ETA: 0s - loss: 2.8637INFO:tensorflow:Assets written to: BestFits/quiet-sweep-101.ckpt/assets\n",
      "99/99 [==============================] - 22s 225ms/step - loss: 2.8637 - val_loss: 2.0126\n",
      "13/13 [==============================] - 2s 18ms/step - loss: 2.0126\n",
      "Epoch 1/15\n",
      "99/99 [==============================] - ETA: 0s - loss: 58.6574INFO:tensorflow:Assets written to: BestFits/quiet-sweep-102.ckpt/assets\n",
      "99/99 [==============================] - 32s 231ms/step - loss: 58.6574 - val_loss: 52.9907\n",
      "Epoch 2/15\n",
      "98/99 [============================>.] - ETA: 0s - loss: 52.9848INFO:tensorflow:Assets written to: BestFits/quiet-sweep-102.ckpt/assets\n",
      "99/99 [==============================] - 22s 223ms/step - loss: 52.9918 - val_loss: 52.9726\n",
      "Epoch 3/15\n",
      "99/99 [==============================] - 6s 62ms/step - loss: 52.9877 - val_loss: 52.9727\n",
      "Epoch 4/15\n",
      "99/99 [==============================] - ETA: 0s - loss: 52.9880INFO:tensorflow:Assets written to: BestFits/quiet-sweep-102.ckpt/assets\n",
      "99/99 [==============================] - 22s 224ms/step - loss: 52.9880 - val_loss: 52.9725\n",
      "Epoch 5/15\n",
      "99/99 [==============================] - ETA: 0s - loss: 52.9877INFO:tensorflow:Assets written to: BestFits/quiet-sweep-102.ckpt/assets\n",
      "99/99 [==============================] - 22s 222ms/step - loss: 52.9877 - val_loss: 52.9724\n",
      "Epoch 6/15\n",
      "99/99 [==============================] - 6s 63ms/step - loss: 52.9881 - val_loss: 52.9727\n",
      "Epoch 7/15\n",
      "99/99 [==============================] - 6s 63ms/step - loss: 52.9878 - val_loss: 52.9725\n",
      "Epoch 8/15\n",
      "99/99 [==============================] - ETA: 0s - loss: 52.9877INFO:tensorflow:Assets written to: BestFits/quiet-sweep-102.ckpt/assets\n",
      "99/99 [==============================] - 22s 227ms/step - loss: 52.9877 - val_loss: 52.9724\n",
      "Epoch 9/15\n",
      "99/99 [==============================] - 6s 64ms/step - loss: 52.9878 - val_loss: 52.9734\n",
      "Epoch 10/15\n",
      "99/99 [==============================] - ETA: 0s - loss: 52.9880INFO:tensorflow:Assets written to: BestFits/quiet-sweep-102.ckpt/assets\n",
      "99/99 [==============================] - 23s 230ms/step - loss: 52.9880 - val_loss: 52.9724\n",
      "Epoch 11/15\n",
      "99/99 [==============================] - ETA: 0s - loss: 52.9878INFO:tensorflow:Assets written to: BestFits/quiet-sweep-102.ckpt/assets\n",
      "99/99 [==============================] - 23s 230ms/step - loss: 52.9878 - val_loss: 52.9723\n",
      "Epoch 12/15\n",
      "99/99 [==============================] - 6s 64ms/step - loss: 52.9879 - val_loss: 52.9723\n",
      "Epoch 13/15\n",
      "99/99 [==============================] - 6s 65ms/step - loss: 52.9879 - val_loss: 52.9724\n",
      "Epoch 14/15\n",
      "99/99 [==============================] - 6s 65ms/step - loss: 52.9880 - val_loss: 52.9723\n",
      "Epoch 15/15\n",
      "99/99 [==============================] - 6s 65ms/step - loss: 52.9879 - val_loss: 52.9723\n",
      "13/13 [==============================] - 1s 19ms/step - loss: 52.9723\n",
      "Epoch 1/15\n",
      "99/99 [==============================] - ETA: 0s - loss: 53.7287INFO:tensorflow:Assets written to: BestFits/quiet-sweep-103.ckpt/assets\n",
      "99/99 [==============================] - 34s 238ms/step - loss: 53.7287 - val_loss: 53.0948\n",
      "Epoch 2/15\n",
      "99/99 [==============================] - ETA: 0s - loss: 53.0136INFO:tensorflow:Assets written to: BestFits/quiet-sweep-103.ckpt/assets\n",
      "99/99 [==============================] - 23s 232ms/step - loss: 53.0136 - val_loss: 53.0947\n",
      "Epoch 3/15\n",
      "99/99 [==============================] - 6s 65ms/step - loss: 52.9586 - val_loss: 53.0954\n",
      "Epoch 4/15\n",
      "99/99 [==============================] - ETA: 0s - loss: 52.9580INFO:tensorflow:Assets written to: BestFits/quiet-sweep-103.ckpt/assets\n",
      "99/99 [==============================] - 24s 244ms/step - loss: 52.9580 - val_loss: 53.0946\n",
      "Epoch 5/15\n",
      "99/99 [==============================] - 6s 65ms/step - loss: 52.9582 - val_loss: 53.0953\n",
      "Epoch 6/15\n",
      "99/99 [==============================] - 6s 65ms/step - loss: 52.9580 - val_loss: 53.0950\n",
      "Epoch 7/15\n",
      "99/99 [==============================] - 6s 65ms/step - loss: 52.9593 - val_loss: 53.0959\n",
      "Epoch 8/15\n",
      "99/99 [==============================] - 6s 65ms/step - loss: 52.9591 - val_loss: 53.0952\n",
      "Epoch 9/15\n",
      "99/99 [==============================] - 6s 65ms/step - loss: 52.9582 - val_loss: 53.0958\n",
      "Epoch 10/15\n",
      "99/99 [==============================] - 6s 65ms/step - loss: 52.9590 - val_loss: 53.0950\n",
      "Epoch 11/15\n",
      "99/99 [==============================] - 7s 67ms/step - loss: 52.9585 - val_loss: 53.0949\n",
      "Epoch 12/15\n",
      "99/99 [==============================] - 6s 65ms/step - loss: 52.9587 - val_loss: 53.0956\n",
      "Epoch 13/15\n",
      "99/99 [==============================] - 6s 64ms/step - loss: 52.9582 - val_loss: 53.0949\n",
      "Epoch 14/15\n",
      "98/99 [============================>.] - ETA: 0s - loss: 52.9713INFO:tensorflow:Assets written to: BestFits/quiet-sweep-103.ckpt/assets\n",
      "99/99 [==============================] - 23s 232ms/step - loss: 52.9587 - val_loss: 53.0945\n",
      "Epoch 15/15\n",
      "99/99 [==============================] - 6s 65ms/step - loss: 52.9583 - val_loss: 53.0967\n",
      "13/13 [==============================] - 1s 19ms/step - loss: 53.0945\n",
      "Epoch 1/15\n",
      "99/99 [==============================] - ETA: 0s - loss: 54.7142INFO:tensorflow:Assets written to: BestFits/quiet-sweep-104.ckpt/assets\n",
      "99/99 [==============================] - 35s 248ms/step - loss: 54.7142 - val_loss: 52.8144\n",
      "Epoch 2/15\n",
      "99/99 [==============================] - ETA: 0s - loss: 53.0284INFO:tensorflow:Assets written to: BestFits/quiet-sweep-104.ckpt/assets\n",
      "99/99 [==============================] - 23s 229ms/step - loss: 53.0284 - val_loss: 52.8142\n",
      "Epoch 3/15\n",
      "99/99 [==============================] - 6s 64ms/step - loss: 53.0287 - val_loss: 52.8144\n",
      "Epoch 4/15\n",
      "99/99 [==============================] - 7s 67ms/step - loss: 53.0280 - val_loss: 52.8153\n",
      "Epoch 5/15\n",
      "99/99 [==============================] - ETA: 0s - loss: 53.0642INFO:tensorflow:Assets written to: BestFits/quiet-sweep-104.ckpt/assets\n",
      "99/99 [==============================] - 24s 240ms/step - loss: 53.0642 - val_loss: 52.8142\n",
      "Epoch 6/15\n",
      "99/99 [==============================] - 6s 64ms/step - loss: 53.0277 - val_loss: 52.8159\n",
      "Epoch 7/15\n",
      "99/99 [==============================] - 6s 64ms/step - loss: 53.0288 - val_loss: 52.8145\n",
      "Epoch 8/15\n",
      "99/99 [==============================] - 6s 64ms/step - loss: 53.0294 - val_loss: 52.8157\n",
      "Epoch 9/15\n",
      "99/99 [==============================] - 6s 65ms/step - loss: 53.0286 - val_loss: 52.8143\n",
      "Epoch 10/15\n",
      "99/99 [==============================] - 6s 65ms/step - loss: 53.0280 - val_loss: 52.8157\n",
      "Epoch 11/15\n",
      "99/99 [==============================] - 6s 63ms/step - loss: 53.0293 - val_loss: 52.8161\n",
      "Epoch 12/15\n",
      "99/99 [==============================] - 6s 63ms/step - loss: 53.0291 - val_loss: 52.8151\n",
      "Epoch 13/15\n",
      "99/99 [==============================] - 6s 63ms/step - loss: 53.0292 - val_loss: 52.8155\n",
      "Epoch 14/15\n",
      "99/99 [==============================] - 6s 65ms/step - loss: 53.0295 - val_loss: 52.8145\n",
      "Epoch 15/15\n",
      "99/99 [==============================] - 6s 64ms/step - loss: 53.0283 - val_loss: 52.8225\n",
      "13/13 [==============================] - 1s 19ms/step - loss: 52.8141\n",
      "Epoch 1/15\n",
      "99/99 [==============================] - ETA: 0s - loss: 234.9420INFO:tensorflow:Assets written to: BestFits/quiet-sweep-105.ckpt/assets\n",
      "99/99 [==============================] - 35s 252ms/step - loss: 234.9420 - val_loss: 53.5260\n",
      "Epoch 2/15\n",
      "99/99 [==============================] - ETA: 0s - loss: 52.9686INFO:tensorflow:Assets written to: BestFits/quiet-sweep-105.ckpt/assets\n",
      "99/99 [==============================] - 22s 229ms/step - loss: 52.9686 - val_loss: 53.3937\n",
      "Epoch 3/15\n",
      "99/99 [==============================] - ETA: 0s - loss: 52.9040INFO:tensorflow:Assets written to: BestFits/quiet-sweep-105.ckpt/assets\n",
      "99/99 [==============================] - 22s 222ms/step - loss: 52.9040 - val_loss: 53.3714\n",
      "Epoch 4/15\n",
      "99/99 [==============================] - ETA: 0s - loss: 52.8923INFO:tensorflow:Assets written to: BestFits/quiet-sweep-105.ckpt/assets\n",
      "99/99 [==============================] - 23s 231ms/step - loss: 52.8923 - val_loss: 53.3672\n",
      "Epoch 5/15\n",
      "99/99 [==============================] - ETA: 0s - loss: 52.8899INFO:tensorflow:Assets written to: BestFits/quiet-sweep-105.ckpt/assets\n",
      "99/99 [==============================] - 23s 236ms/step - loss: 52.8899 - val_loss: 53.3665\n",
      "Epoch 6/15\n",
      "99/99 [==============================] - ETA: 0s - loss: 52.8895INFO:tensorflow:Assets written to: BestFits/quiet-sweep-105.ckpt/assets\n",
      "99/99 [==============================] - 22s 222ms/step - loss: 52.8895 - val_loss: 53.3661\n",
      "Epoch 7/15\n",
      "99/99 [==============================] - ETA: 0s - loss: 52.8894INFO:tensorflow:Assets written to: BestFits/quiet-sweep-105.ckpt/assets\n",
      "99/99 [==============================] - 22s 224ms/step - loss: 52.8894 - val_loss: 53.3660\n",
      "Epoch 8/15\n",
      "99/99 [==============================] - ETA: 0s - loss: 52.8894INFO:tensorflow:Assets written to: BestFits/quiet-sweep-105.ckpt/assets\n",
      "99/99 [==============================] - 23s 230ms/step - loss: 52.8894 - val_loss: 53.3659\n",
      "Epoch 9/15\n",
      "99/99 [==============================] - 6s 64ms/step - loss: 52.8894 - val_loss: 53.3662\n",
      "Epoch 10/15\n",
      "99/99 [==============================] - ETA: 0s - loss: 52.8895INFO:tensorflow:Assets written to: BestFits/quiet-sweep-105.ckpt/assets\n",
      "99/99 [==============================] - 22s 227ms/step - loss: 52.8895 - val_loss: 53.3659\n",
      "Epoch 11/15\n",
      "99/99 [==============================] - 6s 62ms/step - loss: 52.8894 - val_loss: 53.3661\n",
      "Epoch 12/15\n",
      "99/99 [==============================] - 6s 64ms/step - loss: 52.8895 - val_loss: 53.3661\n",
      "Epoch 13/15\n",
      "99/99 [==============================] - 6s 64ms/step - loss: 52.8895 - val_loss: 53.3664\n",
      "Epoch 14/15\n",
      "99/99 [==============================] - 6s 65ms/step - loss: 52.8895 - val_loss: 53.3661\n",
      "Epoch 15/15\n",
      "99/99 [==============================] - ETA: 0s - loss: 52.8895INFO:tensorflow:Assets written to: BestFits/quiet-sweep-105.ckpt/assets\n",
      "99/99 [==============================] - 23s 234ms/step - loss: 52.8895 - val_loss: 53.3658\n",
      "13/13 [==============================] - 2s 20ms/step - loss: 53.3658\n"
     ]
    },
    {
     "data": {
      "text/html": [
       "Waiting for W&B process to finish... <strong style=\"color:green\">(success).</strong>"
      ],
      "text/plain": [
       "<IPython.core.display.HTML object>"
      ]
     },
     "metadata": {},
     "output_type": "display_data"
    },
    {
     "data": {
      "application/vnd.jupyter.widget-view+json": {
       "model_id": "b93039cd158a4e0da689636b24177fe8",
       "version_major": 2,
       "version_minor": 0
      },
      "text/plain": [
       "VBox(children=(Label(value='0.001 MB of 0.001 MB uploaded (0.000 MB deduped)\\r'), FloatProgress(value=1.0, max…"
      ]
     },
     "metadata": {},
     "output_type": "display_data"
    },
    {
     "data": {
      "text/html": [
       "<style>\n",
       "    table.wandb td:nth-child(1) { padding: 0 10px; text-align: left ; width: auto;} td:nth-child(2) {text-align: left ; width: 100%}\n",
       "    .wandb-row { display: flex; flex-direction: row; flex-wrap: wrap; justify-content: flex-start; width: 100% }\n",
       "    .wandb-col { display: flex; flex-direction: column; flex-basis: 100%; flex: 1; padding: 10px; }\n",
       "    </style>\n",
       "<div class=\"wandb-row\"><div class=\"wandb-col\"><h3>Run history:</h3><br/><table class=\"wandb\"><tr><td>best_val_loss</td><td>▁▃▄▆█</td></tr><tr><td>epoch</td><td>▁▁▃▃▅▅▇▇▁▂▃▃▅▅▇▇▁▂▃▄▅▅▇▇▁▂▃▄▅▆▇▇▁▂▃▄▅▆▇█</td></tr><tr><td>fold</td><td>▁▁▁▁▁▁▁▁▃▃▃▃▃▃▃▃▅▅▅▅▅▅▅▅▆▆▆▆▆▆▆▆████████</td></tr><tr><td>loss</td><td>▁▁▁▁▁▁▁▁▃▃▃▃▃▃▃▃▃▃▃▃▃▃▃▃▃▃▃▃▃▃▃▃█▃▃▃▃▃▃▃</td></tr><tr><td>mean_loss</td><td>▁</td></tr><tr><td>std</td><td>▁</td></tr><tr><td>val_loss</td><td>▂▁▁▁▁▁▁▁████████████████████████████████</td></tr></table><br/></div><div class=\"wandb-col\"><h3>Run summary:</h3><br/><table class=\"wandb\"><tr><td>best_val_loss</td><td>42.85187</td></tr><tr><td>epoch</td><td>14</td></tr><tr><td>fold</td><td>5</td></tr><tr><td>loss</td><td>52.88946</td></tr><tr><td>mean_loss</td><td>42.85187</td></tr><tr><td>std</td><td>20.42043</td></tr><tr><td>val_loss</td><td>53.3658</td></tr></table><br/></div></div>"
      ],
      "text/plain": [
       "<IPython.core.display.HTML object>"
      ]
     },
     "metadata": {},
     "output_type": "display_data"
    },
    {
     "data": {
      "text/html": [
       "Synced <strong style=\"color:#cdcd00\">quiet-sweep-10</strong>: <a href=\"https://wandb.ai/avishai-elma/BioEx4_5/runs/21wvulzp\" target=\"_blank\">https://wandb.ai/avishai-elma/BioEx4_5/runs/21wvulzp</a><br/>Synced 5 W&B file(s), 0 media file(s), 0 artifact file(s) and 0 other file(s)"
      ],
      "text/plain": [
       "<IPython.core.display.HTML object>"
      ]
     },
     "metadata": {},
     "output_type": "display_data"
    },
    {
     "data": {
      "text/html": [
       "Find logs at: <code>./wandb/run-20220505_115925-21wvulzp/logs</code>"
      ],
      "text/plain": [
       "<IPython.core.display.HTML object>"
      ]
     },
     "metadata": {},
     "output_type": "display_data"
    },
    {
     "metadata": {
      "tags": null
     },
     "name": "stderr",
     "output_type": "stream",
     "text": [
      "\u001B[34m\u001B[1mwandb\u001B[0m: Agent Starting Run: ec48db2f with config:\n",
      "\u001B[34m\u001B[1mwandb\u001B[0m: \tBATCH: 16\n",
      "\u001B[34m\u001B[1mwandb\u001B[0m: \tDILATATION: [1, 2, 4, 8]\n",
      "\u001B[34m\u001B[1mwandb\u001B[0m: \tDROPOUT: 0.13131639632557535\n",
      "\u001B[34m\u001B[1mwandb\u001B[0m: \tEPOCHS: 14\n",
      "\u001B[34m\u001B[1mwandb\u001B[0m: \tLR: 0.0150084979997621\n",
      "\u001B[34m\u001B[1mwandb\u001B[0m: \tRESNET_1_BLOCKS: 4\n",
      "\u001B[34m\u001B[1mwandb\u001B[0m: \tRESNET_1_KERNEL_NUM: 59\n",
      "\u001B[34m\u001B[1mwandb\u001B[0m: \tRESNET_1_KERNEL_SIZE: 5\n",
      "\u001B[34m\u001B[1mwandb\u001B[0m: \tRESNET_2_BLOCKS: 5\n",
      "\u001B[34m\u001B[1mwandb\u001B[0m: \tRESNET_2_KERNEL_NUM: 9\n",
      "\u001B[34m\u001B[1mwandb\u001B[0m: \tRESNET_2_KERNEL_SIZE: 7\n"
     ]
    },
    {
     "data": {
      "text/html": [
       "Tracking run with wandb version 0.12.16"
      ],
      "text/plain": [
       "<IPython.core.display.HTML object>"
      ]
     },
     "metadata": {},
     "output_type": "display_data"
    },
    {
     "data": {
      "text/html": [
       "Run data is saved locally in <code>/content/drive/.shortcut-targets-by-id/13JKG3wgYlOO5t5AoOpkix7QiZamDhSEp/ColabNotebooks/wandb/run-20220505_122025-ec48db2f</code>"
      ],
      "text/plain": [
       "<IPython.core.display.HTML object>"
      ]
     },
     "metadata": {},
     "output_type": "display_data"
    },
    {
     "data": {
      "text/html": [
       "Syncing run <strong><a href=\"https://wandb.ai/avishai-elma/BioEx4_5/runs/ec48db2f\" target=\"_blank\">distinctive-sweep-11</a></strong> to <a href=\"https://wandb.ai/avishai-elma/BioEx4_5\" target=\"_blank\">Weights & Biases</a> (<a href=\"https://wandb.me/run\" target=\"_blank\">docs</a>)<br/>Sweep page:  <a href=\"https://wandb.ai/avishai-elma/BioEx4_5/sweeps/5pa1928v\" target=\"_blank\">https://wandb.ai/avishai-elma/BioEx4_5/sweeps/5pa1928v</a>"
      ],
      "text/plain": [
       "<IPython.core.display.HTML object>"
      ]
     },
     "metadata": {},
     "output_type": "display_data"
    },
    {
     "output_type": "stream",
     "name": "stdout",
     "text": [
      "Epoch 1/14\n",
      "99/99 [==============================] - ETA: 0s - loss: 53.1028INFO:tensorflow:Assets written to: BestFits/distinctive-sweep-111.ckpt/assets\n",
      "99/99 [==============================] - 57s 387ms/step - loss: 53.1028 - val_loss: 52.6792\n",
      "Epoch 2/14\n",
      "99/99 [==============================] - ETA: 0s - loss: 53.0642INFO:tensorflow:Assets written to: BestFits/distinctive-sweep-111.ckpt/assets\n",
      "99/99 [==============================] - 36s 366ms/step - loss: 53.0642 - val_loss: 52.6773\n",
      "Epoch 3/14\n",
      "99/99 [==============================] - 9s 94ms/step - loss: 53.0644 - val_loss: 52.6784\n",
      "Epoch 4/14\n",
      "99/99 [==============================] - 9s 93ms/step - loss: 53.0632 - val_loss: 52.6909\n",
      "Epoch 5/14\n",
      "99/99 [==============================] - 9s 92ms/step - loss: 53.0642 - val_loss: 52.6781\n",
      "Epoch 6/14\n",
      "99/99 [==============================] - 9s 93ms/step - loss: 53.0638 - val_loss: 52.6777\n",
      "Epoch 7/14\n",
      "99/99 [==============================] - ETA: 0s - loss: 53.0625INFO:tensorflow:Assets written to: BestFits/distinctive-sweep-111.ckpt/assets\n",
      "99/99 [==============================] - 36s 365ms/step - loss: 53.0625 - val_loss: 52.6765\n",
      "Epoch 8/14\n",
      "99/99 [==============================] - 9s 91ms/step - loss: 53.0636 - val_loss: 52.6813\n",
      "Epoch 9/14\n",
      "99/99 [==============================] - 9s 93ms/step - loss: 53.0654 - val_loss: 52.6798\n",
      "Epoch 10/14\n",
      "99/99 [==============================] - 9s 92ms/step - loss: 53.0644 - val_loss: 52.6802\n",
      "Epoch 11/14\n",
      "99/99 [==============================] - 9s 92ms/step - loss: 53.0643 - val_loss: 52.6787\n",
      "Epoch 12/14\n",
      "99/99 [==============================] - 9s 92ms/step - loss: 53.0646 - val_loss: 52.6777\n",
      "Epoch 13/14\n",
      "99/99 [==============================] - 9s 93ms/step - loss: 53.0651 - val_loss: 52.6952\n",
      "Epoch 14/14\n",
      "99/99 [==============================] - 9s 94ms/step - loss: 53.0654 - val_loss: 52.6797\n",
      "13/13 [==============================] - 3s 26ms/step - loss: 52.6765\n",
      "Epoch 1/14\n",
      "99/99 [==============================] - ETA: 0s - loss: 55.0134INFO:tensorflow:Assets written to: BestFits/distinctive-sweep-112.ckpt/assets\n",
      "99/99 [==============================] - 53s 377ms/step - loss: 55.0134 - val_loss: 52.9750\n",
      "Epoch 2/14\n",
      "99/99 [==============================] - ETA: 0s - loss: 52.9889INFO:tensorflow:Assets written to: BestFits/distinctive-sweep-112.ckpt/assets\n",
      "99/99 [==============================] - 35s 353ms/step - loss: 52.9889 - val_loss: 52.9724\n",
      "Epoch 3/14\n",
      "99/99 [==============================] - 9s 93ms/step - loss: 52.9883 - val_loss: 52.9748\n",
      "Epoch 4/14\n",
      "99/99 [==============================] - 9s 93ms/step - loss: 52.9890 - val_loss: 52.9748\n",
      "Epoch 5/14\n",
      "99/99 [==============================] - 10s 97ms/step - loss: 52.9893 - val_loss: 52.9733\n",
      "Epoch 6/14\n",
      "99/99 [==============================] - 9s 96ms/step - loss: 52.9884 - val_loss: 52.9746\n",
      "Epoch 7/14\n",
      "99/99 [==============================] - 9s 94ms/step - loss: 52.9887 - val_loss: 52.9739\n",
      "Epoch 8/14\n",
      "99/99 [==============================] - 9s 92ms/step - loss: 52.9890 - val_loss: 52.9740\n",
      "Epoch 9/14\n",
      "99/99 [==============================] - 9s 94ms/step - loss: 52.9891 - val_loss: 52.9729\n",
      "Epoch 10/14\n",
      "99/99 [==============================] - 9s 92ms/step - loss: 52.9891 - val_loss: 52.9731\n",
      "Epoch 11/14\n",
      "99/99 [==============================] - 10s 96ms/step - loss: 52.9885 - val_loss: 52.9734\n",
      "Epoch 12/14\n",
      "99/99 [==============================] - 9s 91ms/step - loss: 52.9905 - val_loss: 52.9725\n",
      "Epoch 13/14\n",
      "99/99 [==============================] - 9s 91ms/step - loss: 52.9889 - val_loss: 52.9728\n",
      "Epoch 14/14\n",
      "99/99 [==============================] - 9s 91ms/step - loss: 55.8087 - val_loss: 53.0024\n",
      "13/13 [==============================] - 2s 28ms/step - loss: 52.9724\n",
      "Epoch 1/14\n",
      "99/99 [==============================] - ETA: 0s - loss: 292.9135INFO:tensorflow:Assets written to: BestFits/distinctive-sweep-113.ckpt/assets\n",
      "99/99 [==============================] - 55s 385ms/step - loss: 292.9135 - val_loss: 53.2884\n",
      "Epoch 2/14\n",
      "99/99 [==============================] - ETA: 0s - loss: 53.0951INFO:tensorflow:Assets written to: BestFits/distinctive-sweep-113.ckpt/assets\n",
      "99/99 [==============================] - 38s 388ms/step - loss: 53.0951 - val_loss: 53.1809\n",
      "Epoch 3/14\n",
      "99/99 [==============================] - ETA: 0s - loss: 53.0194INFO:tensorflow:Assets written to: BestFits/distinctive-sweep-113.ckpt/assets\n",
      "99/99 [==============================] - 37s 381ms/step - loss: 53.0194 - val_loss: 53.1326\n",
      "Epoch 4/14\n",
      "99/99 [==============================] - ETA: 0s - loss: 52.9853INFO:tensorflow:Assets written to: BestFits/distinctive-sweep-113.ckpt/assets\n",
      "99/99 [==============================] - 36s 369ms/step - loss: 52.9853 - val_loss: 53.1107\n",
      "Epoch 5/14\n",
      "99/99 [==============================] - ETA: 0s - loss: 52.9693INFO:tensorflow:Assets written to: BestFits/distinctive-sweep-113.ckpt/assets\n",
      "99/99 [==============================] - 38s 389ms/step - loss: 52.9693 - val_loss: 53.1012\n",
      "Epoch 6/14\n",
      "99/99 [==============================] - ETA: 0s - loss: 52.9634INFO:tensorflow:Assets written to: BestFits/distinctive-sweep-113.ckpt/assets\n",
      "99/99 [==============================] - 39s 399ms/step - loss: 52.9634 - val_loss: 53.0971\n",
      "Epoch 7/14\n",
      "99/99 [==============================] - ETA: 0s - loss: 52.9598INFO:tensorflow:Assets written to: BestFits/distinctive-sweep-113.ckpt/assets\n",
      "99/99 [==============================] - 38s 387ms/step - loss: 52.9598 - val_loss: 53.0954\n",
      "Epoch 8/14\n",
      "99/99 [==============================] - ETA: 0s - loss: 52.9580INFO:tensorflow:Assets written to: BestFits/distinctive-sweep-113.ckpt/assets\n",
      "99/99 [==============================] - 37s 377ms/step - loss: 52.9580 - val_loss: 53.0947\n",
      "Epoch 9/14\n",
      "99/99 [==============================] - ETA: 0s - loss: 52.9574INFO:tensorflow:Assets written to: BestFits/distinctive-sweep-113.ckpt/assets\n",
      "99/99 [==============================] - 38s 385ms/step - loss: 52.9574 - val_loss: 53.0945\n",
      "Epoch 10/14\n",
      "99/99 [==============================] - ETA: 0s - loss: 52.9572INFO:tensorflow:Assets written to: BestFits/distinctive-sweep-113.ckpt/assets\n",
      "99/99 [==============================] - 37s 379ms/step - loss: 52.9572 - val_loss: 53.0944\n",
      "Epoch 11/14\n",
      "99/99 [==============================] - ETA: 0s - loss: 52.9571INFO:tensorflow:Assets written to: BestFits/distinctive-sweep-113.ckpt/assets\n",
      "99/99 [==============================] - 38s 386ms/step - loss: 52.9571 - val_loss: 53.0944\n",
      "Epoch 12/14\n",
      "99/99 [==============================] - 10s 101ms/step - loss: 52.9601 - val_loss: 53.0945\n",
      "Epoch 13/14\n",
      "99/99 [==============================] - 9s 95ms/step - loss: 52.9635 - val_loss: 53.0945\n",
      "Epoch 14/14\n",
      "99/99 [==============================] - 9s 95ms/step - loss: 52.9570 - val_loss: 53.0944\n",
      "13/13 [==============================] - 2s 31ms/step - loss: 53.0944\n",
      "Epoch 1/14\n",
      "99/99 [==============================] - ETA: 0s - loss: 60.1421INFO:tensorflow:Assets written to: BestFits/distinctive-sweep-114.ckpt/assets\n",
      "99/99 [==============================] - 58s 423ms/step - loss: 60.1421 - val_loss: 52.8151\n",
      "Epoch 2/14\n",
      "99/99 [==============================] - 10s 98ms/step - loss: 53.0278 - val_loss: 52.8163\n",
      "Epoch 3/14\n",
      "99/99 [==============================] - ETA: 0s - loss: 53.0280INFO:tensorflow:Assets written to: BestFits/distinctive-sweep-114.ckpt/assets\n",
      "99/99 [==============================] - 39s 395ms/step - loss: 53.0280 - val_loss: 52.8141\n",
      "Epoch 4/14\n",
      "99/99 [==============================] - 10s 99ms/step - loss: 53.0277 - val_loss: 52.8141\n",
      "Epoch 5/14\n",
      "99/99 [==============================] - 10s 98ms/step - loss: 53.0275 - val_loss: 52.8150\n",
      "Epoch 6/14\n",
      "99/99 [==============================] - 9s 95ms/step - loss: 53.0278 - val_loss: 52.8142\n",
      "Epoch 7/14\n",
      "99/99 [==============================] - 10s 102ms/step - loss: 53.0276 - val_loss: 52.8145\n",
      "Epoch 8/14\n",
      "99/99 [==============================] - ETA: 0s - loss: 53.0278INFO:tensorflow:Assets written to: BestFits/distinctive-sweep-114.ckpt/assets\n",
      "99/99 [==============================] - 39s 397ms/step - loss: 53.0278 - val_loss: 52.8140\n",
      "Epoch 9/14\n",
      "99/99 [==============================] - 10s 97ms/step - loss: 53.0277 - val_loss: 52.8154\n",
      "Epoch 10/14\n",
      "99/99 [==============================] - 9s 95ms/step - loss: 53.0276 - val_loss: 52.8166\n",
      "Epoch 11/14\n",
      "99/99 [==============================] - 9s 96ms/step - loss: 53.0279 - val_loss: 52.8145\n",
      "Epoch 12/14\n",
      "99/99 [==============================] - 10s 96ms/step - loss: 53.0281 - val_loss: 52.8158\n",
      "Epoch 13/14\n",
      "99/99 [==============================] - 9s 95ms/step - loss: 53.0280 - val_loss: 52.8145\n",
      "Epoch 14/14\n",
      "99/99 [==============================] - 9s 91ms/step - loss: 53.0276 - val_loss: 52.8154\n",
      "13/13 [==============================] - 2s 30ms/step - loss: 52.8140\n",
      "Epoch 1/14\n",
      "99/99 [==============================] - ETA: 0s - loss: 56.4061INFO:tensorflow:Assets written to: BestFits/distinctive-sweep-115.ckpt/assets\n",
      "99/99 [==============================] - 57s 406ms/step - loss: 56.4061 - val_loss: 1158.1937\n",
      "Epoch 2/14\n",
      "99/99 [==============================] - ETA: 0s - loss: 52.8901INFO:tensorflow:Assets written to: BestFits/distinctive-sweep-115.ckpt/assets\n",
      "99/99 [==============================] - 37s 376ms/step - loss: 52.8901 - val_loss: 53.3658\n",
      "Epoch 3/14\n",
      "99/99 [==============================] - ETA: 0s - loss: 52.8903INFO:tensorflow:Assets written to: BestFits/distinctive-sweep-115.ckpt/assets\n",
      "99/99 [==============================] - 37s 379ms/step - loss: 52.8903 - val_loss: 53.3656\n",
      "Epoch 4/14\n",
      "99/99 [==============================] - 9s 92ms/step - loss: 52.8901 - val_loss: 53.3664\n",
      "Epoch 5/14\n",
      "99/99 [==============================] - 9s 92ms/step - loss: 52.8900 - val_loss: 53.3670\n",
      "Epoch 6/14\n",
      "99/99 [==============================] - 9s 89ms/step - loss: 52.8901 - val_loss: 53.3676\n",
      "Epoch 7/14\n",
      "99/99 [==============================] - 9s 91ms/step - loss: 52.8904 - val_loss: 53.3663\n",
      "Epoch 8/14\n",
      "99/99 [==============================] - 9s 93ms/step - loss: 52.8900 - val_loss: 53.3660\n",
      "Epoch 9/14\n",
      "99/99 [==============================] - 9s 92ms/step - loss: 52.8905 - val_loss: 53.3672\n",
      "Epoch 10/14\n",
      "99/99 [==============================] - 9s 92ms/step - loss: 52.8900 - val_loss: 53.3673\n",
      "Epoch 11/14\n",
      "99/99 [==============================] - 9s 90ms/step - loss: 52.8901 - val_loss: 53.3661\n",
      "Epoch 12/14\n",
      "99/99 [==============================] - 9s 95ms/step - loss: 52.8899 - val_loss: 53.3673\n",
      "Epoch 13/14\n",
      "99/99 [==============================] - 9s 93ms/step - loss: 52.8903 - val_loss: 53.3671\n",
      "Epoch 14/14\n",
      "99/99 [==============================] - 9s 93ms/step - loss: 52.8902 - val_loss: 53.3656\n",
      "13/13 [==============================] - 5s 28ms/step - loss: 53.3656\n"
     ]
    },
    {
     "output_type": "display_data",
     "data": {
      "text/plain": [
       "<IPython.core.display.HTML object>"
      ],
      "text/html": [
       "Waiting for W&B process to finish... <strong style=\"color:green\">(success).</strong>"
      ]
     },
     "metadata": {}
    },
    {
     "output_type": "display_data",
     "data": {
      "text/plain": [
       "VBox(children=(Label(value='0.001 MB of 0.001 MB uploaded (0.000 MB deduped)\\r'), FloatProgress(value=1.0, max…"
      ],
      "application/vnd.jupyter.widget-view+json": {
       "version_major": 2,
       "version_minor": 0,
       "model_id": "63987d97b79149409f0104cacbb7c202"
      }
     },
     "metadata": {}
    },
    {
     "output_type": "display_data",
     "data": {
      "text/plain": [
       "<IPython.core.display.HTML object>"
      ],
      "text/html": [
       "<style>\n",
       "    table.wandb td:nth-child(1) { padding: 0 10px; text-align: left ; width: auto;} td:nth-child(2) {text-align: left ; width: 100%}\n",
       "    .wandb-row { display: flex; flex-direction: row; flex-wrap: wrap; justify-content: flex-start; width: 100% }\n",
       "    .wandb-col { display: flex; flex-direction: column; flex-basis: 100%; flex: 1; padding: 10px; }\n",
       "    </style>\n",
       "<div class=\"wandb-row\"><div class=\"wandb-col\"><h3>Run history:</h3><br/><table class=\"wandb\"><tr><td>best_val_loss</td><td>▁▃▄▆█</td></tr><tr><td>epoch</td><td>▁▂▃▄▅▅▆▇▁▂▃▄▅▆▆▇▁▂▃▄▅▆▆▇▁▂▃▄▅▆▇▇▁▂▃▄▅▆▇█</td></tr><tr><td>fold</td><td>▁▁▁▁▁▁▁▁▃▃▃▃▃▃▃▃▅▅▅▅▅▅▅▅▆▆▆▆▆▆▆▆████████</td></tr><tr><td>loss</td><td>▁▁▁▁▁▁▁▁▁▁▁▁▁▁▁▁█▁▁▁▁▁▁▁▁▁▁▁▁▁▁▁▁▁▁▁▁▁▁▁</td></tr><tr><td>mean_loss</td><td>▁</td></tr><tr><td>std</td><td>▁</td></tr><tr><td>val_loss</td><td>▁▁▁▁▁▁▁▁▁▁▁▁▁▁▁▁▁▁▁▁▁▁▁▁▁▁▁▁▁▁▁▁█▁▁▁▁▁▁▁</td></tr></table><br/></div><div class=\"wandb-col\"><h3>Run summary:</h3><br/><table class=\"wandb\"><tr><td>best_val_loss</td><td>52.98457</td></tr><tr><td>epoch</td><td>13</td></tr><tr><td>fold</td><td>5</td></tr><tr><td>loss</td><td>52.89019</td></tr><tr><td>mean_loss</td><td>52.98457</td></tr><tr><td>std</td><td>0.23723</td></tr><tr><td>val_loss</td><td>53.36564</td></tr></table><br/></div></div>"
      ]
     },
     "metadata": {}
    },
    {
     "output_type": "display_data",
     "data": {
      "text/plain": [
       "<IPython.core.display.HTML object>"
      ],
      "text/html": [
       "Synced <strong style=\"color:#cdcd00\">distinctive-sweep-11</strong>: <a href=\"https://wandb.ai/avishai-elma/BioEx4_5/runs/ec48db2f\" target=\"_blank\">https://wandb.ai/avishai-elma/BioEx4_5/runs/ec48db2f</a><br/>Synced 5 W&B file(s), 0 media file(s), 0 artifact file(s) and 0 other file(s)"
      ]
     },
     "metadata": {}
    },
    {
     "output_type": "display_data",
     "data": {
      "text/plain": [
       "<IPython.core.display.HTML object>"
      ],
      "text/html": [
       "Find logs at: <code>./wandb/run-20220505_122025-ec48db2f/logs</code>"
      ]
     },
     "metadata": {}
    },
    {
     "output_type": "stream",
     "name": "stderr",
     "text": [
      "\u001B[34m\u001B[1mwandb\u001B[0m: Agent Starting Run: ovi1xo4p with config:\n",
      "\u001B[34m\u001B[1mwandb\u001B[0m: \tBATCH: 32\n",
      "\u001B[34m\u001B[1mwandb\u001B[0m: \tDILATATION: [1, 2, 4, 8]\n",
      "\u001B[34m\u001B[1mwandb\u001B[0m: \tDROPOUT: 0.4738042427355925\n",
      "\u001B[34m\u001B[1mwandb\u001B[0m: \tEPOCHS: 14\n",
      "\u001B[34m\u001B[1mwandb\u001B[0m: \tLR: 0.00424400901080143\n",
      "\u001B[34m\u001B[1mwandb\u001B[0m: \tRESNET_1_BLOCKS: 3\n",
      "\u001B[34m\u001B[1mwandb\u001B[0m: \tRESNET_1_KERNEL_NUM: 61\n",
      "\u001B[34m\u001B[1mwandb\u001B[0m: \tRESNET_1_KERNEL_SIZE: 9\n",
      "\u001B[34m\u001B[1mwandb\u001B[0m: \tRESNET_2_BLOCKS: 5\n",
      "\u001B[34m\u001B[1mwandb\u001B[0m: \tRESNET_2_KERNEL_NUM: 12\n",
      "\u001B[34m\u001B[1mwandb\u001B[0m: \tRESNET_2_KERNEL_SIZE: 3\n"
     ]
    },
    {
     "output_type": "display_data",
     "data": {
      "text/plain": [
       "<IPython.core.display.HTML object>"
      ],
      "text/html": [
       "Tracking run with wandb version 0.12.16"
      ]
     },
     "metadata": {}
    },
    {
     "output_type": "display_data",
     "data": {
      "text/plain": [
       "<IPython.core.display.HTML object>"
      ],
      "text/html": [
       "Run data is saved locally in <code>/content/drive/.shortcut-targets-by-id/13JKG3wgYlOO5t5AoOpkix7QiZamDhSEp/ColabNotebooks/wandb/run-20220505_124711-ovi1xo4p</code>"
      ]
     },
     "metadata": {}
    },
    {
     "output_type": "display_data",
     "data": {
      "text/plain": [
       "<IPython.core.display.HTML object>"
      ],
      "text/html": [
       "Syncing run <strong><a href=\"https://wandb.ai/avishai-elma/BioEx4_5/runs/ovi1xo4p\" target=\"_blank\">sweepy-sweep-12</a></strong> to <a href=\"https://wandb.ai/avishai-elma/BioEx4_5\" target=\"_blank\">Weights & Biases</a> (<a href=\"https://wandb.me/run\" target=\"_blank\">docs</a>)<br/>Sweep page:  <a href=\"https://wandb.ai/avishai-elma/BioEx4_5/sweeps/5pa1928v\" target=\"_blank\">https://wandb.ai/avishai-elma/BioEx4_5/sweeps/5pa1928v</a>"
      ]
     },
     "metadata": {}
    },
    {
     "output_type": "stream",
     "name": "stdout",
     "text": [
      "Epoch 1/14\n",
      "50/50 [==============================] - ETA: 0s - loss: 39.7595INFO:tensorflow:Assets written to: BestFits/sweepy-sweep-121.ckpt/assets\n",
      "50/50 [==============================] - 51s 706ms/step - loss: 39.7595 - val_loss: 36.3837\n",
      "Epoch 2/14\n",
      "50/50 [==============================] - ETA: 0s - loss: 17.9329INFO:tensorflow:Assets written to: BestFits/sweepy-sweep-121.ckpt/assets\n",
      "50/50 [==============================] - 31s 621ms/step - loss: 17.9329 - val_loss: 25.6791\n",
      "Epoch 3/14\n",
      "50/50 [==============================] - 5s 102ms/step - loss: 9.4779 - val_loss: 37.7454\n",
      "Epoch 4/14\n",
      "50/50 [==============================] - ETA: 0s - loss: 7.2485INFO:tensorflow:Assets written to: BestFits/sweepy-sweep-121.ckpt/assets\n",
      "50/50 [==============================] - 31s 629ms/step - loss: 7.2485 - val_loss: 11.4262\n",
      "Epoch 5/14\n",
      "50/50 [==============================] - ETA: 0s - loss: 6.7011INFO:tensorflow:Assets written to: BestFits/sweepy-sweep-121.ckpt/assets\n",
      "50/50 [==============================] - 31s 636ms/step - loss: 6.7011 - val_loss: 7.4347\n",
      "Epoch 6/14\n",
      "50/50 [==============================] - ETA: 0s - loss: 6.3117INFO:tensorflow:Assets written to: BestFits/sweepy-sweep-121.ckpt/assets\n",
      "50/50 [==============================] - 30s 620ms/step - loss: 6.3117 - val_loss: 5.7732\n",
      "Epoch 7/14\n",
      "50/50 [==============================] - ETA: 0s - loss: 6.0929INFO:tensorflow:Assets written to: BestFits/sweepy-sweep-121.ckpt/assets\n",
      "50/50 [==============================] - 31s 637ms/step - loss: 6.0929 - val_loss: 3.5523\n",
      "Epoch 8/14\n",
      "50/50 [==============================] - 5s 103ms/step - loss: 5.9284 - val_loss: 3.6723\n",
      "Epoch 9/14\n",
      "50/50 [==============================] - ETA: 0s - loss: 5.7977INFO:tensorflow:Assets written to: BestFits/sweepy-sweep-121.ckpt/assets\n",
      "50/50 [==============================] - 31s 623ms/step - loss: 5.7977 - val_loss: 2.8412\n",
      "Epoch 10/14\n",
      "50/50 [==============================] - ETA: 0s - loss: 5.6587INFO:tensorflow:Assets written to: BestFits/sweepy-sweep-121.ckpt/assets\n",
      "50/50 [==============================] - 30s 616ms/step - loss: 5.6587 - val_loss: 2.7212\n",
      "Epoch 11/14\n",
      "50/50 [==============================] - ETA: 0s - loss: 5.5750INFO:tensorflow:Assets written to: BestFits/sweepy-sweep-121.ckpt/assets\n",
      "50/50 [==============================] - 31s 637ms/step - loss: 5.5750 - val_loss: 2.7053\n",
      "Epoch 12/14\n",
      "50/50 [==============================] - ETA: 0s - loss: 5.4894INFO:tensorflow:Assets written to: BestFits/sweepy-sweep-121.ckpt/assets\n",
      "50/50 [==============================] - 31s 625ms/step - loss: 5.4894 - val_loss: 2.6818\n",
      "Epoch 13/14\n",
      "50/50 [==============================] - 5s 93ms/step - loss: 5.4133 - val_loss: 2.6898\n",
      "Epoch 14/14\n",
      "50/50 [==============================] - 5s 94ms/step - loss: 5.3608 - val_loss: 2.6826\n",
      "13/13 [==============================] - 2s 25ms/step - loss: 2.6818\n",
      "Epoch 1/14\n",
      "50/50 [==============================] - ETA: 0s - loss: 44.9051INFO:tensorflow:Assets written to: BestFits/sweepy-sweep-122.ckpt/assets\n",
      "50/50 [==============================] - 49s 682ms/step - loss: 44.9051 - val_loss: 37.8152\n",
      "Epoch 2/14\n",
      "50/50 [==============================] - ETA: 0s - loss: 15.1799INFO:tensorflow:Assets written to: BestFits/sweepy-sweep-122.ckpt/assets\n",
      "50/50 [==============================] - 31s 634ms/step - loss: 15.1799 - val_loss: 10.6341\n",
      "Epoch 3/14\n",
      "50/50 [==============================] - ETA: 0s - loss: 7.7171INFO:tensorflow:Assets written to: BestFits/sweepy-sweep-122.ckpt/assets\n",
      "50/50 [==============================] - 31s 627ms/step - loss: 7.7171 - val_loss: 6.1129\n",
      "Epoch 4/14\n",
      "50/50 [==============================] - ETA: 0s - loss: 6.8907INFO:tensorflow:Assets written to: BestFits/sweepy-sweep-122.ckpt/assets\n",
      "50/50 [==============================] - 32s 642ms/step - loss: 6.8907 - val_loss: 4.4065\n",
      "Epoch 5/14\n",
      "50/50 [==============================] - ETA: 0s - loss: 6.4130INFO:tensorflow:Assets written to: BestFits/sweepy-sweep-122.ckpt/assets\n",
      "50/50 [==============================] - 30s 618ms/step - loss: 6.4130 - val_loss: 4.0022\n",
      "Epoch 6/14\n",
      "50/50 [==============================] - ETA: 0s - loss: 6.1677INFO:tensorflow:Assets written to: BestFits/sweepy-sweep-122.ckpt/assets\n",
      "50/50 [==============================] - 32s 647ms/step - loss: 6.1677 - val_loss: 3.6328\n",
      "Epoch 7/14\n",
      "50/50 [==============================] - ETA: 0s - loss: 5.9772INFO:tensorflow:Assets written to: BestFits/sweepy-sweep-122.ckpt/assets\n",
      "50/50 [==============================] - 31s 634ms/step - loss: 5.9772 - val_loss: 3.2803\n",
      "Epoch 8/14\n",
      "50/50 [==============================] - 5s 103ms/step - loss: 5.8760 - val_loss: 3.3037\n",
      "Epoch 9/14\n",
      "50/50 [==============================] - ETA: 0s - loss: 5.7405INFO:tensorflow:Assets written to: BestFits/sweepy-sweep-122.ckpt/assets\n",
      "50/50 [==============================] - 30s 618ms/step - loss: 5.7405 - val_loss: 3.2650\n",
      "Epoch 10/14\n",
      "50/50 [==============================] - ETA: 0s - loss: 5.6558INFO:tensorflow:Assets written to: BestFits/sweepy-sweep-122.ckpt/assets\n",
      "50/50 [==============================] - 31s 636ms/step - loss: 5.6558 - val_loss: 3.0835\n",
      "Epoch 11/14\n",
      "50/50 [==============================] - ETA: 0s - loss: 5.5740INFO:tensorflow:Assets written to: BestFits/sweepy-sweep-122.ckpt/assets\n",
      "50/50 [==============================] - 30s 620ms/step - loss: 5.5740 - val_loss: 3.0772\n",
      "Epoch 12/14\n",
      "50/50 [==============================] - ETA: 0s - loss: 5.4597INFO:tensorflow:Assets written to: BestFits/sweepy-sweep-122.ckpt/assets\n",
      "50/50 [==============================] - 31s 639ms/step - loss: 5.4597 - val_loss: 2.9976\n",
      "Epoch 13/14\n",
      "50/50 [==============================] - 5s 104ms/step - loss: 5.4037 - val_loss: 3.0997\n",
      "Epoch 14/14\n",
      "50/50 [==============================] - ETA: 0s - loss: 5.3479INFO:tensorflow:Assets written to: BestFits/sweepy-sweep-122.ckpt/assets\n",
      "50/50 [==============================] - 31s 632ms/step - loss: 5.3479 - val_loss: 2.9048\n",
      "13/13 [==============================] - 2s 26ms/step - loss: 2.9048\n",
      "Epoch 1/14\n",
      "50/50 [==============================] - ETA: 0s - loss: 32.3221INFO:tensorflow:Assets written to: BestFits/sweepy-sweep-123.ckpt/assets\n",
      "50/50 [==============================] - 52s 738ms/step - loss: 32.3221 - val_loss: 45.9848\n",
      "Epoch 2/14\n",
      "50/50 [==============================] - ETA: 0s - loss: 7.6791INFO:tensorflow:Assets written to: BestFits/sweepy-sweep-123.ckpt/assets\n",
      "50/50 [==============================] - 34s 698ms/step - loss: 7.6791 - val_loss: 19.1042\n",
      "Epoch 3/14\n",
      "50/50 [==============================] - ETA: 0s - loss: 6.6898INFO:tensorflow:Assets written to: BestFits/sweepy-sweep-123.ckpt/assets\n",
      "50/50 [==============================] - 34s 697ms/step - loss: 6.6898 - val_loss: 6.5715\n",
      "Epoch 4/14\n",
      "50/50 [==============================] - ETA: 0s - loss: 6.2367INFO:tensorflow:Assets written to: BestFits/sweepy-sweep-123.ckpt/assets\n",
      "50/50 [==============================] - 33s 667ms/step - loss: 6.2367 - val_loss: 4.0912\n",
      "Epoch 5/14\n",
      "50/50 [==============================] - ETA: 0s - loss: 6.0514INFO:tensorflow:Assets written to: BestFits/sweepy-sweep-123.ckpt/assets\n",
      "50/50 [==============================] - 32s 659ms/step - loss: 6.0514 - val_loss: 3.4064\n",
      "Epoch 6/14\n",
      "50/50 [==============================] - ETA: 0s - loss: 5.9019INFO:tensorflow:Assets written to: BestFits/sweepy-sweep-123.ckpt/assets\n",
      "50/50 [==============================] - 33s 662ms/step - loss: 5.9019 - val_loss: 3.1094\n",
      "Epoch 7/14\n",
      "50/50 [==============================] - ETA: 0s - loss: 5.7477INFO:tensorflow:Assets written to: BestFits/sweepy-sweep-123.ckpt/assets\n",
      "50/50 [==============================] - 32s 655ms/step - loss: 5.7477 - val_loss: 2.9806\n",
      "Epoch 8/14\n",
      "50/50 [==============================] - ETA: 0s - loss: 5.7253INFO:tensorflow:Assets written to: BestFits/sweepy-sweep-123.ckpt/assets\n",
      "50/50 [==============================] - 32s 649ms/step - loss: 5.7253 - val_loss: 2.8624\n",
      "Epoch 9/14\n",
      "50/50 [==============================] - 5s 108ms/step - loss: 5.5590 - val_loss: 2.8982\n",
      "Epoch 10/14\n",
      "50/50 [==============================] - ETA: 0s - loss: 5.5030INFO:tensorflow:Assets written to: BestFits/sweepy-sweep-123.ckpt/assets\n",
      "50/50 [==============================] - 32s 661ms/step - loss: 5.5030 - val_loss: 2.8371\n",
      "Epoch 11/14\n",
      "50/50 [==============================] - ETA: 0s - loss: 5.3827INFO:tensorflow:Assets written to: BestFits/sweepy-sweep-123.ckpt/assets\n",
      "50/50 [==============================] - 33s 661ms/step - loss: 5.3827 - val_loss: 2.7615\n",
      "Epoch 12/14\n",
      "50/50 [==============================] - 5s 104ms/step - loss: 5.3536 - val_loss: 2.7956\n",
      "Epoch 13/14\n",
      "50/50 [==============================] - 5s 97ms/step - loss: 5.3241 - val_loss: 2.8243\n",
      "Epoch 14/14\n",
      "50/50 [==============================] - 5s 92ms/step - loss: 5.2153 - val_loss: 2.8111\n",
      "13/13 [==============================] - 2s 26ms/step - loss: 2.7615\n",
      "Epoch 1/14\n",
      "50/50 [==============================] - ETA: 0s - loss: 43.2337INFO:tensorflow:Assets written to: BestFits/sweepy-sweep-124.ckpt/assets\n",
      "50/50 [==============================] - 51s 674ms/step - loss: 43.2337 - val_loss: 44.3460\n",
      "Epoch 2/14\n",
      "50/50 [==============================] - ETA: 0s - loss: 9.5836INFO:tensorflow:Assets written to: BestFits/sweepy-sweep-124.ckpt/assets\n",
      "50/50 [==============================] - 31s 634ms/step - loss: 9.5836 - val_loss: 14.1999\n",
      "Epoch 3/14\n",
      "50/50 [==============================] - ETA: 0s - loss: 7.2940INFO:tensorflow:Assets written to: BestFits/sweepy-sweep-124.ckpt/assets\n",
      "50/50 [==============================] - 32s 646ms/step - loss: 7.2940 - val_loss: 7.0792\n",
      "Epoch 4/14\n",
      "50/50 [==============================] - ETA: 0s - loss: 6.7984INFO:tensorflow:Assets written to: BestFits/sweepy-sweep-124.ckpt/assets\n",
      "50/50 [==============================] - 31s 635ms/step - loss: 6.7984 - val_loss: 4.6998\n",
      "Epoch 5/14\n",
      "50/50 [==============================] - ETA: 0s - loss: 6.4919INFO:tensorflow:Assets written to: BestFits/sweepy-sweep-124.ckpt/assets\n",
      "50/50 [==============================] - 32s 645ms/step - loss: 6.4919 - val_loss: 4.0837\n",
      "Epoch 6/14\n",
      "50/50 [==============================] - ETA: 0s - loss: 6.2757INFO:tensorflow:Assets written to: BestFits/sweepy-sweep-124.ckpt/assets\n",
      "50/50 [==============================] - 31s 633ms/step - loss: 6.2757 - val_loss: 3.6349\n",
      "Epoch 7/14\n",
      "50/50 [==============================] - ETA: 0s - loss: 6.0813"
     ]
    }
   ],
   "source": [
    "\n",
    "main()\n",
    "    \n",
    "\n"
   ]
  }
 ],
 "metadata": {
  "accelerator": "GPU",
  "colab": {
   "collapsed_sections": [],
   "name": "net.ipynb",
   "provenance": []
  },
  "kernelspec": {
   "display_name": "Python 3",
   "name": "python3"
  },
  "language_info": {
   "name": "python"
  },
  "widgets": {
   "application/vnd.jupyter.widget-state+json": {
    "56e032156f454df98988cbd3cce3b842": {
     "model_module": "@jupyter-widgets/controls",
     "model_name": "VBoxModel",
     "model_module_version": "1.5.0",
     "state": {
      "_dom_classes": [],
      "_model_module": "@jupyter-widgets/controls",
      "_model_module_version": "1.5.0",
      "_model_name": "VBoxModel",
      "_view_count": null,
      "_view_module": "@jupyter-widgets/controls",
      "_view_module_version": "1.5.0",
      "_view_name": "VBoxView",
      "box_style": "",
      "children": [
       "IPY_MODEL_15bf4223633c4b1399efcc84d25219a2",
       "IPY_MODEL_b79323b2093e4cad9a91a5c91013a778"
      ],
      "layout": "IPY_MODEL_9a90cee38cba44b498be940a7a530a26"
     }
    },
    "15bf4223633c4b1399efcc84d25219a2": {
     "model_module": "@jupyter-widgets/controls",
     "model_name": "LabelModel",
     "model_module_version": "1.5.0",
     "state": {
      "_dom_classes": [],
      "_model_module": "@jupyter-widgets/controls",
      "_model_module_version": "1.5.0",
      "_model_name": "LabelModel",
      "_view_count": null,
      "_view_module": "@jupyter-widgets/controls",
      "_view_module_version": "1.5.0",
      "_view_name": "LabelView",
      "description": "",
      "description_tooltip": null,
      "layout": "IPY_MODEL_26fd397a72974e50afb6e338dc50d8b7",
      "placeholder": "​",
      "style": "IPY_MODEL_1371d0535d93499e8c087cd6bacb0047",
      "value": "0.020 MB of 0.020 MB uploaded (0.000 MB deduped)\r"
     }
    },
    "b79323b2093e4cad9a91a5c91013a778": {
     "model_module": "@jupyter-widgets/controls",
     "model_name": "FloatProgressModel",
     "model_module_version": "1.5.0",
     "state": {
      "_dom_classes": [],
      "_model_module": "@jupyter-widgets/controls",
      "_model_module_version": "1.5.0",
      "_model_name": "FloatProgressModel",
      "_view_count": null,
      "_view_module": "@jupyter-widgets/controls",
      "_view_module_version": "1.5.0",
      "_view_name": "ProgressView",
      "bar_style": "",
      "description": "",
      "description_tooltip": null,
      "layout": "IPY_MODEL_be5d5c47369d474c9c6d66af17b04e17",
      "max": 1,
      "min": 0,
      "orientation": "horizontal",
      "style": "IPY_MODEL_f0442a33fe98472abb3e3e045e8f90f3",
      "value": 1
     }
    },
    "9a90cee38cba44b498be940a7a530a26": {
     "model_module": "@jupyter-widgets/base",
     "model_name": "LayoutModel",
     "model_module_version": "1.2.0",
     "state": {
      "_model_module": "@jupyter-widgets/base",
      "_model_module_version": "1.2.0",
      "_model_name": "LayoutModel",
      "_view_count": null,
      "_view_module": "@jupyter-widgets/base",
      "_view_module_version": "1.2.0",
      "_view_name": "LayoutView",
      "align_content": null,
      "align_items": null,
      "align_self": null,
      "border": null,
      "bottom": null,
      "display": null,
      "flex": null,
      "flex_flow": null,
      "grid_area": null,
      "grid_auto_columns": null,
      "grid_auto_flow": null,
      "grid_auto_rows": null,
      "grid_column": null,
      "grid_gap": null,
      "grid_row": null,
      "grid_template_areas": null,
      "grid_template_columns": null,
      "grid_template_rows": null,
      "height": null,
      "justify_content": null,
      "justify_items": null,
      "left": null,
      "margin": null,
      "max_height": null,
      "max_width": null,
      "min_height": null,
      "min_width": null,
      "object_fit": null,
      "object_position": null,
      "order": null,
      "overflow": null,
      "overflow_x": null,
      "overflow_y": null,
      "padding": null,
      "right": null,
      "top": null,
      "visibility": null,
      "width": null
     }
    },
    "26fd397a72974e50afb6e338dc50d8b7": {
     "model_module": "@jupyter-widgets/base",
     "model_name": "LayoutModel",
     "model_module_version": "1.2.0",
     "state": {
      "_model_module": "@jupyter-widgets/base",
      "_model_module_version": "1.2.0",
      "_model_name": "LayoutModel",
      "_view_count": null,
      "_view_module": "@jupyter-widgets/base",
      "_view_module_version": "1.2.0",
      "_view_name": "LayoutView",
      "align_content": null,
      "align_items": null,
      "align_self": null,
      "border": null,
      "bottom": null,
      "display": null,
      "flex": null,
      "flex_flow": null,
      "grid_area": null,
      "grid_auto_columns": null,
      "grid_auto_flow": null,
      "grid_auto_rows": null,
      "grid_column": null,
      "grid_gap": null,
      "grid_row": null,
      "grid_template_areas": null,
      "grid_template_columns": null,
      "grid_template_rows": null,
      "height": null,
      "justify_content": null,
      "justify_items": null,
      "left": null,
      "margin": null,
      "max_height": null,
      "max_width": null,
      "min_height": null,
      "min_width": null,
      "object_fit": null,
      "object_position": null,
      "order": null,
      "overflow": null,
      "overflow_x": null,
      "overflow_y": null,
      "padding": null,
      "right": null,
      "top": null,
      "visibility": null,
      "width": null
     }
    },
    "1371d0535d93499e8c087cd6bacb0047": {
     "model_module": "@jupyter-widgets/controls",
     "model_name": "DescriptionStyleModel",
     "model_module_version": "1.5.0",
     "state": {
      "_model_module": "@jupyter-widgets/controls",
      "_model_module_version": "1.5.0",
      "_model_name": "DescriptionStyleModel",
      "_view_count": null,
      "_view_module": "@jupyter-widgets/base",
      "_view_module_version": "1.2.0",
      "_view_name": "StyleView",
      "description_width": ""
     }
    },
    "be5d5c47369d474c9c6d66af17b04e17": {
     "model_module": "@jupyter-widgets/base",
     "model_name": "LayoutModel",
     "model_module_version": "1.2.0",
     "state": {
      "_model_module": "@jupyter-widgets/base",
      "_model_module_version": "1.2.0",
      "_model_name": "LayoutModel",
      "_view_count": null,
      "_view_module": "@jupyter-widgets/base",
      "_view_module_version": "1.2.0",
      "_view_name": "LayoutView",
      "align_content": null,
      "align_items": null,
      "align_self": null,
      "border": null,
      "bottom": null,
      "display": null,
      "flex": null,
      "flex_flow": null,
      "grid_area": null,
      "grid_auto_columns": null,
      "grid_auto_flow": null,
      "grid_auto_rows": null,
      "grid_column": null,
      "grid_gap": null,
      "grid_row": null,
      "grid_template_areas": null,
      "grid_template_columns": null,
      "grid_template_rows": null,
      "height": null,
      "justify_content": null,
      "justify_items": null,
      "left": null,
      "margin": null,
      "max_height": null,
      "max_width": null,
      "min_height": null,
      "min_width": null,
      "object_fit": null,
      "object_position": null,
      "order": null,
      "overflow": null,
      "overflow_x": null,
      "overflow_y": null,
      "padding": null,
      "right": null,
      "top": null,
      "visibility": null,
      "width": null
     }
    },
    "f0442a33fe98472abb3e3e045e8f90f3": {
     "model_module": "@jupyter-widgets/controls",
     "model_name": "ProgressStyleModel",
     "model_module_version": "1.5.0",
     "state": {
      "_model_module": "@jupyter-widgets/controls",
      "_model_module_version": "1.5.0",
      "_model_name": "ProgressStyleModel",
      "_view_count": null,
      "_view_module": "@jupyter-widgets/base",
      "_view_module_version": "1.2.0",
      "_view_name": "StyleView",
      "bar_color": null,
      "description_width": ""
     }
    },
    "86435dc5b54f47329f865785f2ffb2c3": {
     "model_module": "@jupyter-widgets/controls",
     "model_name": "VBoxModel",
     "model_module_version": "1.5.0",
     "state": {
      "_dom_classes": [],
      "_model_module": "@jupyter-widgets/controls",
      "_model_module_version": "1.5.0",
      "_model_name": "VBoxModel",
      "_view_count": null,
      "_view_module": "@jupyter-widgets/controls",
      "_view_module_version": "1.5.0",
      "_view_name": "VBoxView",
      "box_style": "",
      "children": [
       "IPY_MODEL_f40fdf80683f471a886d83d1046916a4",
       "IPY_MODEL_949d4465d860460793013313ffce0ffd"
      ],
      "layout": "IPY_MODEL_4e5de110d8764291a92a83be9c1a2763"
     }
    },
    "f40fdf80683f471a886d83d1046916a4": {
     "model_module": "@jupyter-widgets/controls",
     "model_name": "LabelModel",
     "model_module_version": "1.5.0",
     "state": {
      "_dom_classes": [],
      "_model_module": "@jupyter-widgets/controls",
      "_model_module_version": "1.5.0",
      "_model_name": "LabelModel",
      "_view_count": null,
      "_view_module": "@jupyter-widgets/controls",
      "_view_module_version": "1.5.0",
      "_view_name": "LabelView",
      "description": "",
      "description_tooltip": null,
      "layout": "IPY_MODEL_cae2174e55764eac86b0190df1d25308",
      "placeholder": "​",
      "style": "IPY_MODEL_478c09fb67484d528715e25e00008fed",
      "value": "0.025 MB of 0.025 MB uploaded (0.000 MB deduped)\r"
     }
    },
    "949d4465d860460793013313ffce0ffd": {
     "model_module": "@jupyter-widgets/controls",
     "model_name": "FloatProgressModel",
     "model_module_version": "1.5.0",
     "state": {
      "_dom_classes": [],
      "_model_module": "@jupyter-widgets/controls",
      "_model_module_version": "1.5.0",
      "_model_name": "FloatProgressModel",
      "_view_count": null,
      "_view_module": "@jupyter-widgets/controls",
      "_view_module_version": "1.5.0",
      "_view_name": "ProgressView",
      "bar_style": "",
      "description": "",
      "description_tooltip": null,
      "layout": "IPY_MODEL_257581769ff9471c877c76af8c638170",
      "max": 1,
      "min": 0,
      "orientation": "horizontal",
      "style": "IPY_MODEL_0da3a0fb18a24db3b860ee38c689777d",
      "value": 1
     }
    },
    "4e5de110d8764291a92a83be9c1a2763": {
     "model_module": "@jupyter-widgets/base",
     "model_name": "LayoutModel",
     "model_module_version": "1.2.0",
     "state": {
      "_model_module": "@jupyter-widgets/base",
      "_model_module_version": "1.2.0",
      "_model_name": "LayoutModel",
      "_view_count": null,
      "_view_module": "@jupyter-widgets/base",
      "_view_module_version": "1.2.0",
      "_view_name": "LayoutView",
      "align_content": null,
      "align_items": null,
      "align_self": null,
      "border": null,
      "bottom": null,
      "display": null,
      "flex": null,
      "flex_flow": null,
      "grid_area": null,
      "grid_auto_columns": null,
      "grid_auto_flow": null,
      "grid_auto_rows": null,
      "grid_column": null,
      "grid_gap": null,
      "grid_row": null,
      "grid_template_areas": null,
      "grid_template_columns": null,
      "grid_template_rows": null,
      "height": null,
      "justify_content": null,
      "justify_items": null,
      "left": null,
      "margin": null,
      "max_height": null,
      "max_width": null,
      "min_height": null,
      "min_width": null,
      "object_fit": null,
      "object_position": null,
      "order": null,
      "overflow": null,
      "overflow_x": null,
      "overflow_y": null,
      "padding": null,
      "right": null,
      "top": null,
      "visibility": null,
      "width": null
     }
    },
    "cae2174e55764eac86b0190df1d25308": {
     "model_module": "@jupyter-widgets/base",
     "model_name": "LayoutModel",
     "model_module_version": "1.2.0",
     "state": {
      "_model_module": "@jupyter-widgets/base",
      "_model_module_version": "1.2.0",
      "_model_name": "LayoutModel",
      "_view_count": null,
      "_view_module": "@jupyter-widgets/base",
      "_view_module_version": "1.2.0",
      "_view_name": "LayoutView",
      "align_content": null,
      "align_items": null,
      "align_self": null,
      "border": null,
      "bottom": null,
      "display": null,
      "flex": null,
      "flex_flow": null,
      "grid_area": null,
      "grid_auto_columns": null,
      "grid_auto_flow": null,
      "grid_auto_rows": null,
      "grid_column": null,
      "grid_gap": null,
      "grid_row": null,
      "grid_template_areas": null,
      "grid_template_columns": null,
      "grid_template_rows": null,
      "height": null,
      "justify_content": null,
      "justify_items": null,
      "left": null,
      "margin": null,
      "max_height": null,
      "max_width": null,
      "min_height": null,
      "min_width": null,
      "object_fit": null,
      "object_position": null,
      "order": null,
      "overflow": null,
      "overflow_x": null,
      "overflow_y": null,
      "padding": null,
      "right": null,
      "top": null,
      "visibility": null,
      "width": null
     }
    },
    "478c09fb67484d528715e25e00008fed": {
     "model_module": "@jupyter-widgets/controls",
     "model_name": "DescriptionStyleModel",
     "model_module_version": "1.5.0",
     "state": {
      "_model_module": "@jupyter-widgets/controls",
      "_model_module_version": "1.5.0",
      "_model_name": "DescriptionStyleModel",
      "_view_count": null,
      "_view_module": "@jupyter-widgets/base",
      "_view_module_version": "1.2.0",
      "_view_name": "StyleView",
      "description_width": ""
     }
    },
    "257581769ff9471c877c76af8c638170": {
     "model_module": "@jupyter-widgets/base",
     "model_name": "LayoutModel",
     "model_module_version": "1.2.0",
     "state": {
      "_model_module": "@jupyter-widgets/base",
      "_model_module_version": "1.2.0",
      "_model_name": "LayoutModel",
      "_view_count": null,
      "_view_module": "@jupyter-widgets/base",
      "_view_module_version": "1.2.0",
      "_view_name": "LayoutView",
      "align_content": null,
      "align_items": null,
      "align_self": null,
      "border": null,
      "bottom": null,
      "display": null,
      "flex": null,
      "flex_flow": null,
      "grid_area": null,
      "grid_auto_columns": null,
      "grid_auto_flow": null,
      "grid_auto_rows": null,
      "grid_column": null,
      "grid_gap": null,
      "grid_row": null,
      "grid_template_areas": null,
      "grid_template_columns": null,
      "grid_template_rows": null,
      "height": null,
      "justify_content": null,
      "justify_items": null,
      "left": null,
      "margin": null,
      "max_height": null,
      "max_width": null,
      "min_height": null,
      "min_width": null,
      "object_fit": null,
      "object_position": null,
      "order": null,
      "overflow": null,
      "overflow_x": null,
      "overflow_y": null,
      "padding": null,
      "right": null,
      "top": null,
      "visibility": null,
      "width": null
     }
    },
    "0da3a0fb18a24db3b860ee38c689777d": {
     "model_module": "@jupyter-widgets/controls",
     "model_name": "ProgressStyleModel",
     "model_module_version": "1.5.0",
     "state": {
      "_model_module": "@jupyter-widgets/controls",
      "_model_module_version": "1.5.0",
      "_model_name": "ProgressStyleModel",
      "_view_count": null,
      "_view_module": "@jupyter-widgets/base",
      "_view_module_version": "1.2.0",
      "_view_name": "StyleView",
      "bar_color": null,
      "description_width": ""
     }
    },
    "d7e1084558e248c1a29550b8fd6594d2": {
     "model_module": "@jupyter-widgets/controls",
     "model_name": "VBoxModel",
     "model_module_version": "1.5.0",
     "state": {
      "_dom_classes": [],
      "_model_module": "@jupyter-widgets/controls",
      "_model_module_version": "1.5.0",
      "_model_name": "VBoxModel",
      "_view_count": null,
      "_view_module": "@jupyter-widgets/controls",
      "_view_module_version": "1.5.0",
      "_view_name": "VBoxView",
      "box_style": "",
      "children": [
       "IPY_MODEL_92b8f0722e9c483da0ebe91382693e9a",
       "IPY_MODEL_a8d4c53cdcd34abc8defd2b5c6fa6560"
      ],
      "layout": "IPY_MODEL_95302918665943a3b6d15809bff7e31e"
     }
    },
    "92b8f0722e9c483da0ebe91382693e9a": {
     "model_module": "@jupyter-widgets/controls",
     "model_name": "LabelModel",
     "model_module_version": "1.5.0",
     "state": {
      "_dom_classes": [],
      "_model_module": "@jupyter-widgets/controls",
      "_model_module_version": "1.5.0",
      "_model_name": "LabelModel",
      "_view_count": null,
      "_view_module": "@jupyter-widgets/controls",
      "_view_module_version": "1.5.0",
      "_view_name": "LabelView",
      "description": "",
      "description_tooltip": null,
      "layout": "IPY_MODEL_cfd7f1644da449f2ae0942df0cf236e4",
      "placeholder": "​",
      "style": "IPY_MODEL_a7a2d2a1128d40688aceb57099fa9e02",
      "value": "0.036 MB of 0.036 MB uploaded (0.000 MB deduped)\r"
     }
    },
    "a8d4c53cdcd34abc8defd2b5c6fa6560": {
     "model_module": "@jupyter-widgets/controls",
     "model_name": "FloatProgressModel",
     "model_module_version": "1.5.0",
     "state": {
      "_dom_classes": [],
      "_model_module": "@jupyter-widgets/controls",
      "_model_module_version": "1.5.0",
      "_model_name": "FloatProgressModel",
      "_view_count": null,
      "_view_module": "@jupyter-widgets/controls",
      "_view_module_version": "1.5.0",
      "_view_name": "ProgressView",
      "bar_style": "",
      "description": "",
      "description_tooltip": null,
      "layout": "IPY_MODEL_dc057b18dd7641a49cc1c64806cb4bdd",
      "max": 1,
      "min": 0,
      "orientation": "horizontal",
      "style": "IPY_MODEL_f182b0f553f645458687807c010fdb0f",
      "value": 1
     }
    },
    "95302918665943a3b6d15809bff7e31e": {
     "model_module": "@jupyter-widgets/base",
     "model_name": "LayoutModel",
     "model_module_version": "1.2.0",
     "state": {
      "_model_module": "@jupyter-widgets/base",
      "_model_module_version": "1.2.0",
      "_model_name": "LayoutModel",
      "_view_count": null,
      "_view_module": "@jupyter-widgets/base",
      "_view_module_version": "1.2.0",
      "_view_name": "LayoutView",
      "align_content": null,
      "align_items": null,
      "align_self": null,
      "border": null,
      "bottom": null,
      "display": null,
      "flex": null,
      "flex_flow": null,
      "grid_area": null,
      "grid_auto_columns": null,
      "grid_auto_flow": null,
      "grid_auto_rows": null,
      "grid_column": null,
      "grid_gap": null,
      "grid_row": null,
      "grid_template_areas": null,
      "grid_template_columns": null,
      "grid_template_rows": null,
      "height": null,
      "justify_content": null,
      "justify_items": null,
      "left": null,
      "margin": null,
      "max_height": null,
      "max_width": null,
      "min_height": null,
      "min_width": null,
      "object_fit": null,
      "object_position": null,
      "order": null,
      "overflow": null,
      "overflow_x": null,
      "overflow_y": null,
      "padding": null,
      "right": null,
      "top": null,
      "visibility": null,
      "width": null
     }
    },
    "cfd7f1644da449f2ae0942df0cf236e4": {
     "model_module": "@jupyter-widgets/base",
     "model_name": "LayoutModel",
     "model_module_version": "1.2.0",
     "state": {
      "_model_module": "@jupyter-widgets/base",
      "_model_module_version": "1.2.0",
      "_model_name": "LayoutModel",
      "_view_count": null,
      "_view_module": "@jupyter-widgets/base",
      "_view_module_version": "1.2.0",
      "_view_name": "LayoutView",
      "align_content": null,
      "align_items": null,
      "align_self": null,
      "border": null,
      "bottom": null,
      "display": null,
      "flex": null,
      "flex_flow": null,
      "grid_area": null,
      "grid_auto_columns": null,
      "grid_auto_flow": null,
      "grid_auto_rows": null,
      "grid_column": null,
      "grid_gap": null,
      "grid_row": null,
      "grid_template_areas": null,
      "grid_template_columns": null,
      "grid_template_rows": null,
      "height": null,
      "justify_content": null,
      "justify_items": null,
      "left": null,
      "margin": null,
      "max_height": null,
      "max_width": null,
      "min_height": null,
      "min_width": null,
      "object_fit": null,
      "object_position": null,
      "order": null,
      "overflow": null,
      "overflow_x": null,
      "overflow_y": null,
      "padding": null,
      "right": null,
      "top": null,
      "visibility": null,
      "width": null
     }
    },
    "a7a2d2a1128d40688aceb57099fa9e02": {
     "model_module": "@jupyter-widgets/controls",
     "model_name": "DescriptionStyleModel",
     "model_module_version": "1.5.0",
     "state": {
      "_model_module": "@jupyter-widgets/controls",
      "_model_module_version": "1.5.0",
      "_model_name": "DescriptionStyleModel",
      "_view_count": null,
      "_view_module": "@jupyter-widgets/base",
      "_view_module_version": "1.2.0",
      "_view_name": "StyleView",
      "description_width": ""
     }
    },
    "dc057b18dd7641a49cc1c64806cb4bdd": {
     "model_module": "@jupyter-widgets/base",
     "model_name": "LayoutModel",
     "model_module_version": "1.2.0",
     "state": {
      "_model_module": "@jupyter-widgets/base",
      "_model_module_version": "1.2.0",
      "_model_name": "LayoutModel",
      "_view_count": null,
      "_view_module": "@jupyter-widgets/base",
      "_view_module_version": "1.2.0",
      "_view_name": "LayoutView",
      "align_content": null,
      "align_items": null,
      "align_self": null,
      "border": null,
      "bottom": null,
      "display": null,
      "flex": null,
      "flex_flow": null,
      "grid_area": null,
      "grid_auto_columns": null,
      "grid_auto_flow": null,
      "grid_auto_rows": null,
      "grid_column": null,
      "grid_gap": null,
      "grid_row": null,
      "grid_template_areas": null,
      "grid_template_columns": null,
      "grid_template_rows": null,
      "height": null,
      "justify_content": null,
      "justify_items": null,
      "left": null,
      "margin": null,
      "max_height": null,
      "max_width": null,
      "min_height": null,
      "min_width": null,
      "object_fit": null,
      "object_position": null,
      "order": null,
      "overflow": null,
      "overflow_x": null,
      "overflow_y": null,
      "padding": null,
      "right": null,
      "top": null,
      "visibility": null,
      "width": null
     }
    },
    "f182b0f553f645458687807c010fdb0f": {
     "model_module": "@jupyter-widgets/controls",
     "model_name": "ProgressStyleModel",
     "model_module_version": "1.5.0",
     "state": {
      "_model_module": "@jupyter-widgets/controls",
      "_model_module_version": "1.5.0",
      "_model_name": "ProgressStyleModel",
      "_view_count": null,
      "_view_module": "@jupyter-widgets/base",
      "_view_module_version": "1.2.0",
      "_view_name": "StyleView",
      "bar_color": null,
      "description_width": ""
     }
    },
    "49adf93101f9473b8894bf7e6537d8f1": {
     "model_module": "@jupyter-widgets/controls",
     "model_name": "VBoxModel",
     "model_module_version": "1.5.0",
     "state": {
      "_dom_classes": [],
      "_model_module": "@jupyter-widgets/controls",
      "_model_module_version": "1.5.0",
      "_model_name": "VBoxModel",
      "_view_count": null,
      "_view_module": "@jupyter-widgets/controls",
      "_view_module_version": "1.5.0",
      "_view_name": "VBoxView",
      "box_style": "",
      "children": [
       "IPY_MODEL_33ef9cbae8e64c09b2b2ab3e580edbc1",
       "IPY_MODEL_86673199598a4268b611a47e8e97fbbe"
      ],
      "layout": "IPY_MODEL_3fc238dc72624711a48002dd5c31e336"
     }
    },
    "33ef9cbae8e64c09b2b2ab3e580edbc1": {
     "model_module": "@jupyter-widgets/controls",
     "model_name": "LabelModel",
     "model_module_version": "1.5.0",
     "state": {
      "_dom_classes": [],
      "_model_module": "@jupyter-widgets/controls",
      "_model_module_version": "1.5.0",
      "_model_name": "LabelModel",
      "_view_count": null,
      "_view_module": "@jupyter-widgets/controls",
      "_view_module_version": "1.5.0",
      "_view_name": "LabelView",
      "description": "",
      "description_tooltip": null,
      "layout": "IPY_MODEL_3c9068fdbdae4f1dafb1b606b2162ace",
      "placeholder": "​",
      "style": "IPY_MODEL_344efadedea54db3956c20e0830b9583",
      "value": ""
     }
    },
    "86673199598a4268b611a47e8e97fbbe": {
     "model_module": "@jupyter-widgets/controls",
     "model_name": "FloatProgressModel",
     "model_module_version": "1.5.0",
     "state": {
      "_dom_classes": [],
      "_model_module": "@jupyter-widgets/controls",
      "_model_module_version": "1.5.0",
      "_model_name": "FloatProgressModel",
      "_view_count": null,
      "_view_module": "@jupyter-widgets/controls",
      "_view_module_version": "1.5.0",
      "_view_name": "ProgressView",
      "bar_style": "",
      "description": "",
      "description_tooltip": null,
      "layout": "IPY_MODEL_6223f0cf72b240dcbc079bba4d39ba94",
      "max": 1,
      "min": 0,
      "orientation": "horizontal",
      "style": "IPY_MODEL_3d356682041b4a85be49901370be1ed3",
      "value": 0
     }
    },
    "3fc238dc72624711a48002dd5c31e336": {
     "model_module": "@jupyter-widgets/base",
     "model_name": "LayoutModel",
     "model_module_version": "1.2.0",
     "state": {
      "_model_module": "@jupyter-widgets/base",
      "_model_module_version": "1.2.0",
      "_model_name": "LayoutModel",
      "_view_count": null,
      "_view_module": "@jupyter-widgets/base",
      "_view_module_version": "1.2.0",
      "_view_name": "LayoutView",
      "align_content": null,
      "align_items": null,
      "align_self": null,
      "border": null,
      "bottom": null,
      "display": null,
      "flex": null,
      "flex_flow": null,
      "grid_area": null,
      "grid_auto_columns": null,
      "grid_auto_flow": null,
      "grid_auto_rows": null,
      "grid_column": null,
      "grid_gap": null,
      "grid_row": null,
      "grid_template_areas": null,
      "grid_template_columns": null,
      "grid_template_rows": null,
      "height": null,
      "justify_content": null,
      "justify_items": null,
      "left": null,
      "margin": null,
      "max_height": null,
      "max_width": null,
      "min_height": null,
      "min_width": null,
      "object_fit": null,
      "object_position": null,
      "order": null,
      "overflow": null,
      "overflow_x": null,
      "overflow_y": null,
      "padding": null,
      "right": null,
      "top": null,
      "visibility": null,
      "width": null
     }
    },
    "3c9068fdbdae4f1dafb1b606b2162ace": {
     "model_module": "@jupyter-widgets/base",
     "model_name": "LayoutModel",
     "model_module_version": "1.2.0",
     "state": {
      "_model_module": "@jupyter-widgets/base",
      "_model_module_version": "1.2.0",
      "_model_name": "LayoutModel",
      "_view_count": null,
      "_view_module": "@jupyter-widgets/base",
      "_view_module_version": "1.2.0",
      "_view_name": "LayoutView",
      "align_content": null,
      "align_items": null,
      "align_self": null,
      "border": null,
      "bottom": null,
      "display": null,
      "flex": null,
      "flex_flow": null,
      "grid_area": null,
      "grid_auto_columns": null,
      "grid_auto_flow": null,
      "grid_auto_rows": null,
      "grid_column": null,
      "grid_gap": null,
      "grid_row": null,
      "grid_template_areas": null,
      "grid_template_columns": null,
      "grid_template_rows": null,
      "height": null,
      "justify_content": null,
      "justify_items": null,
      "left": null,
      "margin": null,
      "max_height": null,
      "max_width": null,
      "min_height": null,
      "min_width": null,
      "object_fit": null,
      "object_position": null,
      "order": null,
      "overflow": null,
      "overflow_x": null,
      "overflow_y": null,
      "padding": null,
      "right": null,
      "top": null,
      "visibility": null,
      "width": null
     }
    },
    "344efadedea54db3956c20e0830b9583": {
     "model_module": "@jupyter-widgets/controls",
     "model_name": "DescriptionStyleModel",
     "model_module_version": "1.5.0",
     "state": {
      "_model_module": "@jupyter-widgets/controls",
      "_model_module_version": "1.5.0",
      "_model_name": "DescriptionStyleModel",
      "_view_count": null,
      "_view_module": "@jupyter-widgets/base",
      "_view_module_version": "1.2.0",
      "_view_name": "StyleView",
      "description_width": ""
     }
    },
    "6223f0cf72b240dcbc079bba4d39ba94": {
     "model_module": "@jupyter-widgets/base",
     "model_name": "LayoutModel",
     "model_module_version": "1.2.0",
     "state": {
      "_model_module": "@jupyter-widgets/base",
      "_model_module_version": "1.2.0",
      "_model_name": "LayoutModel",
      "_view_count": null,
      "_view_module": "@jupyter-widgets/base",
      "_view_module_version": "1.2.0",
      "_view_name": "LayoutView",
      "align_content": null,
      "align_items": null,
      "align_self": null,
      "border": null,
      "bottom": null,
      "display": null,
      "flex": null,
      "flex_flow": null,
      "grid_area": null,
      "grid_auto_columns": null,
      "grid_auto_flow": null,
      "grid_auto_rows": null,
      "grid_column": null,
      "grid_gap": null,
      "grid_row": null,
      "grid_template_areas": null,
      "grid_template_columns": null,
      "grid_template_rows": null,
      "height": null,
      "justify_content": null,
      "justify_items": null,
      "left": null,
      "margin": null,
      "max_height": null,
      "max_width": null,
      "min_height": null,
      "min_width": null,
      "object_fit": null,
      "object_position": null,
      "order": null,
      "overflow": null,
      "overflow_x": null,
      "overflow_y": null,
      "padding": null,
      "right": null,
      "top": null,
      "visibility": null,
      "width": null
     }
    },
    "3d356682041b4a85be49901370be1ed3": {
     "model_module": "@jupyter-widgets/controls",
     "model_name": "ProgressStyleModel",
     "model_module_version": "1.5.0",
     "state": {
      "_model_module": "@jupyter-widgets/controls",
      "_model_module_version": "1.5.0",
      "_model_name": "ProgressStyleModel",
      "_view_count": null,
      "_view_module": "@jupyter-widgets/base",
      "_view_module_version": "1.2.0",
      "_view_name": "StyleView",
      "bar_color": null,
      "description_width": ""
     }
    },
    "4a3c9b102ea447f588bcaf15a01bcdce": {
     "model_module": "@jupyter-widgets/controls",
     "model_name": "VBoxModel",
     "model_module_version": "1.5.0",
     "state": {
      "_dom_classes": [],
      "_model_module": "@jupyter-widgets/controls",
      "_model_module_version": "1.5.0",
      "_model_name": "VBoxModel",
      "_view_count": null,
      "_view_module": "@jupyter-widgets/controls",
      "_view_module_version": "1.5.0",
      "_view_name": "VBoxView",
      "box_style": "",
      "children": [
       "IPY_MODEL_b7e06d93e99e4400ade3c886fac49412",
       "IPY_MODEL_df2ee4c14dd847f3beced51685bcf7ad"
      ],
      "layout": "IPY_MODEL_9cadc85dbc6845eaab71bbf0df79ae4c"
     }
    },
    "b7e06d93e99e4400ade3c886fac49412": {
     "model_module": "@jupyter-widgets/controls",
     "model_name": "LabelModel",
     "model_module_version": "1.5.0",
     "state": {
      "_dom_classes": [],
      "_model_module": "@jupyter-widgets/controls",
      "_model_module_version": "1.5.0",
      "_model_name": "LabelModel",
      "_view_count": null,
      "_view_module": "@jupyter-widgets/controls",
      "_view_module_version": "1.5.0",
      "_view_name": "LabelView",
      "description": "",
      "description_tooltip": null,
      "layout": "IPY_MODEL_1aa1cf60bf974a5381d80426ccb8f62a",
      "placeholder": "​",
      "style": "IPY_MODEL_f78b36cdfaa441a5a453b9777f23e96c",
      "value": "0.015 MB of 0.015 MB uploaded (0.000 MB deduped)\r"
     }
    },
    "df2ee4c14dd847f3beced51685bcf7ad": {
     "model_module": "@jupyter-widgets/controls",
     "model_name": "FloatProgressModel",
     "model_module_version": "1.5.0",
     "state": {
      "_dom_classes": [],
      "_model_module": "@jupyter-widgets/controls",
      "_model_module_version": "1.5.0",
      "_model_name": "FloatProgressModel",
      "_view_count": null,
      "_view_module": "@jupyter-widgets/controls",
      "_view_module_version": "1.5.0",
      "_view_name": "ProgressView",
      "bar_style": "",
      "description": "",
      "description_tooltip": null,
      "layout": "IPY_MODEL_19fc097e0c054db59c379de81ff0ed01",
      "max": 1,
      "min": 0,
      "orientation": "horizontal",
      "style": "IPY_MODEL_f71c3681aa84443ca658331df7d45faa",
      "value": 1
     }
    },
    "9cadc85dbc6845eaab71bbf0df79ae4c": {
     "model_module": "@jupyter-widgets/base",
     "model_name": "LayoutModel",
     "model_module_version": "1.2.0",
     "state": {
      "_model_module": "@jupyter-widgets/base",
      "_model_module_version": "1.2.0",
      "_model_name": "LayoutModel",
      "_view_count": null,
      "_view_module": "@jupyter-widgets/base",
      "_view_module_version": "1.2.0",
      "_view_name": "LayoutView",
      "align_content": null,
      "align_items": null,
      "align_self": null,
      "border": null,
      "bottom": null,
      "display": null,
      "flex": null,
      "flex_flow": null,
      "grid_area": null,
      "grid_auto_columns": null,
      "grid_auto_flow": null,
      "grid_auto_rows": null,
      "grid_column": null,
      "grid_gap": null,
      "grid_row": null,
      "grid_template_areas": null,
      "grid_template_columns": null,
      "grid_template_rows": null,
      "height": null,
      "justify_content": null,
      "justify_items": null,
      "left": null,
      "margin": null,
      "max_height": null,
      "max_width": null,
      "min_height": null,
      "min_width": null,
      "object_fit": null,
      "object_position": null,
      "order": null,
      "overflow": null,
      "overflow_x": null,
      "overflow_y": null,
      "padding": null,
      "right": null,
      "top": null,
      "visibility": null,
      "width": null
     }
    },
    "1aa1cf60bf974a5381d80426ccb8f62a": {
     "model_module": "@jupyter-widgets/base",
     "model_name": "LayoutModel",
     "model_module_version": "1.2.0",
     "state": {
      "_model_module": "@jupyter-widgets/base",
      "_model_module_version": "1.2.0",
      "_model_name": "LayoutModel",
      "_view_count": null,
      "_view_module": "@jupyter-widgets/base",
      "_view_module_version": "1.2.0",
      "_view_name": "LayoutView",
      "align_content": null,
      "align_items": null,
      "align_self": null,
      "border": null,
      "bottom": null,
      "display": null,
      "flex": null,
      "flex_flow": null,
      "grid_area": null,
      "grid_auto_columns": null,
      "grid_auto_flow": null,
      "grid_auto_rows": null,
      "grid_column": null,
      "grid_gap": null,
      "grid_row": null,
      "grid_template_areas": null,
      "grid_template_columns": null,
      "grid_template_rows": null,
      "height": null,
      "justify_content": null,
      "justify_items": null,
      "left": null,
      "margin": null,
      "max_height": null,
      "max_width": null,
      "min_height": null,
      "min_width": null,
      "object_fit": null,
      "object_position": null,
      "order": null,
      "overflow": null,
      "overflow_x": null,
      "overflow_y": null,
      "padding": null,
      "right": null,
      "top": null,
      "visibility": null,
      "width": null
     }
    },
    "f78b36cdfaa441a5a453b9777f23e96c": {
     "model_module": "@jupyter-widgets/controls",
     "model_name": "DescriptionStyleModel",
     "model_module_version": "1.5.0",
     "state": {
      "_model_module": "@jupyter-widgets/controls",
      "_model_module_version": "1.5.0",
      "_model_name": "DescriptionStyleModel",
      "_view_count": null,
      "_view_module": "@jupyter-widgets/base",
      "_view_module_version": "1.2.0",
      "_view_name": "StyleView",
      "description_width": ""
     }
    },
    "19fc097e0c054db59c379de81ff0ed01": {
     "model_module": "@jupyter-widgets/base",
     "model_name": "LayoutModel",
     "model_module_version": "1.2.0",
     "state": {
      "_model_module": "@jupyter-widgets/base",
      "_model_module_version": "1.2.0",
      "_model_name": "LayoutModel",
      "_view_count": null,
      "_view_module": "@jupyter-widgets/base",
      "_view_module_version": "1.2.0",
      "_view_name": "LayoutView",
      "align_content": null,
      "align_items": null,
      "align_self": null,
      "border": null,
      "bottom": null,
      "display": null,
      "flex": null,
      "flex_flow": null,
      "grid_area": null,
      "grid_auto_columns": null,
      "grid_auto_flow": null,
      "grid_auto_rows": null,
      "grid_column": null,
      "grid_gap": null,
      "grid_row": null,
      "grid_template_areas": null,
      "grid_template_columns": null,
      "grid_template_rows": null,
      "height": null,
      "justify_content": null,
      "justify_items": null,
      "left": null,
      "margin": null,
      "max_height": null,
      "max_width": null,
      "min_height": null,
      "min_width": null,
      "object_fit": null,
      "object_position": null,
      "order": null,
      "overflow": null,
      "overflow_x": null,
      "overflow_y": null,
      "padding": null,
      "right": null,
      "top": null,
      "visibility": null,
      "width": null
     }
    },
    "f71c3681aa84443ca658331df7d45faa": {
     "model_module": "@jupyter-widgets/controls",
     "model_name": "ProgressStyleModel",
     "model_module_version": "1.5.0",
     "state": {
      "_model_module": "@jupyter-widgets/controls",
      "_model_module_version": "1.5.0",
      "_model_name": "ProgressStyleModel",
      "_view_count": null,
      "_view_module": "@jupyter-widgets/base",
      "_view_module_version": "1.2.0",
      "_view_name": "StyleView",
      "bar_color": null,
      "description_width": ""
     }
    },
    "b6a6c47e887d41639669ad2b80499e16": {
     "model_module": "@jupyter-widgets/controls",
     "model_name": "VBoxModel",
     "model_module_version": "1.5.0",
     "state": {
      "_dom_classes": [],
      "_model_module": "@jupyter-widgets/controls",
      "_model_module_version": "1.5.0",
      "_model_name": "VBoxModel",
      "_view_count": null,
      "_view_module": "@jupyter-widgets/controls",
      "_view_module_version": "1.5.0",
      "_view_name": "VBoxView",
      "box_style": "",
      "children": [
       "IPY_MODEL_60fbf53a417b41caa94d41aa69049261",
       "IPY_MODEL_df33427ecf5d496ea4005c5f4ddc2b97"
      ],
      "layout": "IPY_MODEL_a2d8f63048984935865c51e5a88af525"
     }
    },
    "60fbf53a417b41caa94d41aa69049261": {
     "model_module": "@jupyter-widgets/controls",
     "model_name": "LabelModel",
     "model_module_version": "1.5.0",
     "state": {
      "_dom_classes": [],
      "_model_module": "@jupyter-widgets/controls",
      "_model_module_version": "1.5.0",
      "_model_name": "LabelModel",
      "_view_count": null,
      "_view_module": "@jupyter-widgets/controls",
      "_view_module_version": "1.5.0",
      "_view_name": "LabelView",
      "description": "",
      "description_tooltip": null,
      "layout": "IPY_MODEL_79f14d5a66be48e18d93f5ea932f3b76",
      "placeholder": "​",
      "style": "IPY_MODEL_392d2f82d9a94cfba7b768036cc2e542",
      "value": "0.031 MB of 0.031 MB uploaded (0.000 MB deduped)\r"
     }
    },
    "df33427ecf5d496ea4005c5f4ddc2b97": {
     "model_module": "@jupyter-widgets/controls",
     "model_name": "FloatProgressModel",
     "model_module_version": "1.5.0",
     "state": {
      "_dom_classes": [],
      "_model_module": "@jupyter-widgets/controls",
      "_model_module_version": "1.5.0",
      "_model_name": "FloatProgressModel",
      "_view_count": null,
      "_view_module": "@jupyter-widgets/controls",
      "_view_module_version": "1.5.0",
      "_view_name": "ProgressView",
      "bar_style": "",
      "description": "",
      "description_tooltip": null,
      "layout": "IPY_MODEL_c0992699e57048a380f577d4f645ec99",
      "max": 1,
      "min": 0,
      "orientation": "horizontal",
      "style": "IPY_MODEL_f637fe4f42ae4a67ba4ec471801ed7f2",
      "value": 1
     }
    },
    "a2d8f63048984935865c51e5a88af525": {
     "model_module": "@jupyter-widgets/base",
     "model_name": "LayoutModel",
     "model_module_version": "1.2.0",
     "state": {
      "_model_module": "@jupyter-widgets/base",
      "_model_module_version": "1.2.0",
      "_model_name": "LayoutModel",
      "_view_count": null,
      "_view_module": "@jupyter-widgets/base",
      "_view_module_version": "1.2.0",
      "_view_name": "LayoutView",
      "align_content": null,
      "align_items": null,
      "align_self": null,
      "border": null,
      "bottom": null,
      "display": null,
      "flex": null,
      "flex_flow": null,
      "grid_area": null,
      "grid_auto_columns": null,
      "grid_auto_flow": null,
      "grid_auto_rows": null,
      "grid_column": null,
      "grid_gap": null,
      "grid_row": null,
      "grid_template_areas": null,
      "grid_template_columns": null,
      "grid_template_rows": null,
      "height": null,
      "justify_content": null,
      "justify_items": null,
      "left": null,
      "margin": null,
      "max_height": null,
      "max_width": null,
      "min_height": null,
      "min_width": null,
      "object_fit": null,
      "object_position": null,
      "order": null,
      "overflow": null,
      "overflow_x": null,
      "overflow_y": null,
      "padding": null,
      "right": null,
      "top": null,
      "visibility": null,
      "width": null
     }
    },
    "79f14d5a66be48e18d93f5ea932f3b76": {
     "model_module": "@jupyter-widgets/base",
     "model_name": "LayoutModel",
     "model_module_version": "1.2.0",
     "state": {
      "_model_module": "@jupyter-widgets/base",
      "_model_module_version": "1.2.0",
      "_model_name": "LayoutModel",
      "_view_count": null,
      "_view_module": "@jupyter-widgets/base",
      "_view_module_version": "1.2.0",
      "_view_name": "LayoutView",
      "align_content": null,
      "align_items": null,
      "align_self": null,
      "border": null,
      "bottom": null,
      "display": null,
      "flex": null,
      "flex_flow": null,
      "grid_area": null,
      "grid_auto_columns": null,
      "grid_auto_flow": null,
      "grid_auto_rows": null,
      "grid_column": null,
      "grid_gap": null,
      "grid_row": null,
      "grid_template_areas": null,
      "grid_template_columns": null,
      "grid_template_rows": null,
      "height": null,
      "justify_content": null,
      "justify_items": null,
      "left": null,
      "margin": null,
      "max_height": null,
      "max_width": null,
      "min_height": null,
      "min_width": null,
      "object_fit": null,
      "object_position": null,
      "order": null,
      "overflow": null,
      "overflow_x": null,
      "overflow_y": null,
      "padding": null,
      "right": null,
      "top": null,
      "visibility": null,
      "width": null
     }
    },
    "392d2f82d9a94cfba7b768036cc2e542": {
     "model_module": "@jupyter-widgets/controls",
     "model_name": "DescriptionStyleModel",
     "model_module_version": "1.5.0",
     "state": {
      "_model_module": "@jupyter-widgets/controls",
      "_model_module_version": "1.5.0",
      "_model_name": "DescriptionStyleModel",
      "_view_count": null,
      "_view_module": "@jupyter-widgets/base",
      "_view_module_version": "1.2.0",
      "_view_name": "StyleView",
      "description_width": ""
     }
    },
    "c0992699e57048a380f577d4f645ec99": {
     "model_module": "@jupyter-widgets/base",
     "model_name": "LayoutModel",
     "model_module_version": "1.2.0",
     "state": {
      "_model_module": "@jupyter-widgets/base",
      "_model_module_version": "1.2.0",
      "_model_name": "LayoutModel",
      "_view_count": null,
      "_view_module": "@jupyter-widgets/base",
      "_view_module_version": "1.2.0",
      "_view_name": "LayoutView",
      "align_content": null,
      "align_items": null,
      "align_self": null,
      "border": null,
      "bottom": null,
      "display": null,
      "flex": null,
      "flex_flow": null,
      "grid_area": null,
      "grid_auto_columns": null,
      "grid_auto_flow": null,
      "grid_auto_rows": null,
      "grid_column": null,
      "grid_gap": null,
      "grid_row": null,
      "grid_template_areas": null,
      "grid_template_columns": null,
      "grid_template_rows": null,
      "height": null,
      "justify_content": null,
      "justify_items": null,
      "left": null,
      "margin": null,
      "max_height": null,
      "max_width": null,
      "min_height": null,
      "min_width": null,
      "object_fit": null,
      "object_position": null,
      "order": null,
      "overflow": null,
      "overflow_x": null,
      "overflow_y": null,
      "padding": null,
      "right": null,
      "top": null,
      "visibility": null,
      "width": null
     }
    },
    "f637fe4f42ae4a67ba4ec471801ed7f2": {
     "model_module": "@jupyter-widgets/controls",
     "model_name": "ProgressStyleModel",
     "model_module_version": "1.5.0",
     "state": {
      "_model_module": "@jupyter-widgets/controls",
      "_model_module_version": "1.5.0",
      "_model_name": "ProgressStyleModel",
      "_view_count": null,
      "_view_module": "@jupyter-widgets/base",
      "_view_module_version": "1.2.0",
      "_view_name": "StyleView",
      "bar_color": null,
      "description_width": ""
     }
    },
    "217df801867b4fc7bd014f35fb1e84a4": {
     "model_module": "@jupyter-widgets/controls",
     "model_name": "VBoxModel",
     "model_module_version": "1.5.0",
     "state": {
      "_dom_classes": [],
      "_model_module": "@jupyter-widgets/controls",
      "_model_module_version": "1.5.0",
      "_model_name": "VBoxModel",
      "_view_count": null,
      "_view_module": "@jupyter-widgets/controls",
      "_view_module_version": "1.5.0",
      "_view_name": "VBoxView",
      "box_style": "",
      "children": [
       "IPY_MODEL_049b8e4e14344dd9be7c3b63223b6eeb",
       "IPY_MODEL_a049bcb68a8f478ea07e3ea676aeb594"
      ],
      "layout": "IPY_MODEL_ecaa16870fe44b2fa382045aacda54eb"
     }
    },
    "049b8e4e14344dd9be7c3b63223b6eeb": {
     "model_module": "@jupyter-widgets/controls",
     "model_name": "LabelModel",
     "model_module_version": "1.5.0",
     "state": {
      "_dom_classes": [],
      "_model_module": "@jupyter-widgets/controls",
      "_model_module_version": "1.5.0",
      "_model_name": "LabelModel",
      "_view_count": null,
      "_view_module": "@jupyter-widgets/controls",
      "_view_module_version": "1.5.0",
      "_view_name": "LabelView",
      "description": "",
      "description_tooltip": null,
      "layout": "IPY_MODEL_a6911106ee814c25a9615ab4c9d92790",
      "placeholder": "​",
      "style": "IPY_MODEL_dafcc7d1c62544609c2cc3ed85986d23",
      "value": "0.022 MB of 0.022 MB uploaded (0.000 MB deduped)\r"
     }
    },
    "a049bcb68a8f478ea07e3ea676aeb594": {
     "model_module": "@jupyter-widgets/controls",
     "model_name": "FloatProgressModel",
     "model_module_version": "1.5.0",
     "state": {
      "_dom_classes": [],
      "_model_module": "@jupyter-widgets/controls",
      "_model_module_version": "1.5.0",
      "_model_name": "FloatProgressModel",
      "_view_count": null,
      "_view_module": "@jupyter-widgets/controls",
      "_view_module_version": "1.5.0",
      "_view_name": "ProgressView",
      "bar_style": "",
      "description": "",
      "description_tooltip": null,
      "layout": "IPY_MODEL_01d27062c6e445f7a1f98c1d536487ad",
      "max": 1,
      "min": 0,
      "orientation": "horizontal",
      "style": "IPY_MODEL_4e134ea921724a8e80eaaa93aed0d0de",
      "value": 1
     }
    },
    "ecaa16870fe44b2fa382045aacda54eb": {
     "model_module": "@jupyter-widgets/base",
     "model_name": "LayoutModel",
     "model_module_version": "1.2.0",
     "state": {
      "_model_module": "@jupyter-widgets/base",
      "_model_module_version": "1.2.0",
      "_model_name": "LayoutModel",
      "_view_count": null,
      "_view_module": "@jupyter-widgets/base",
      "_view_module_version": "1.2.0",
      "_view_name": "LayoutView",
      "align_content": null,
      "align_items": null,
      "align_self": null,
      "border": null,
      "bottom": null,
      "display": null,
      "flex": null,
      "flex_flow": null,
      "grid_area": null,
      "grid_auto_columns": null,
      "grid_auto_flow": null,
      "grid_auto_rows": null,
      "grid_column": null,
      "grid_gap": null,
      "grid_row": null,
      "grid_template_areas": null,
      "grid_template_columns": null,
      "grid_template_rows": null,
      "height": null,
      "justify_content": null,
      "justify_items": null,
      "left": null,
      "margin": null,
      "max_height": null,
      "max_width": null,
      "min_height": null,
      "min_width": null,
      "object_fit": null,
      "object_position": null,
      "order": null,
      "overflow": null,
      "overflow_x": null,
      "overflow_y": null,
      "padding": null,
      "right": null,
      "top": null,
      "visibility": null,
      "width": null
     }
    },
    "a6911106ee814c25a9615ab4c9d92790": {
     "model_module": "@jupyter-widgets/base",
     "model_name": "LayoutModel",
     "model_module_version": "1.2.0",
     "state": {
      "_model_module": "@jupyter-widgets/base",
      "_model_module_version": "1.2.0",
      "_model_name": "LayoutModel",
      "_view_count": null,
      "_view_module": "@jupyter-widgets/base",
      "_view_module_version": "1.2.0",
      "_view_name": "LayoutView",
      "align_content": null,
      "align_items": null,
      "align_self": null,
      "border": null,
      "bottom": null,
      "display": null,
      "flex": null,
      "flex_flow": null,
      "grid_area": null,
      "grid_auto_columns": null,
      "grid_auto_flow": null,
      "grid_auto_rows": null,
      "grid_column": null,
      "grid_gap": null,
      "grid_row": null,
      "grid_template_areas": null,
      "grid_template_columns": null,
      "grid_template_rows": null,
      "height": null,
      "justify_content": null,
      "justify_items": null,
      "left": null,
      "margin": null,
      "max_height": null,
      "max_width": null,
      "min_height": null,
      "min_width": null,
      "object_fit": null,
      "object_position": null,
      "order": null,
      "overflow": null,
      "overflow_x": null,
      "overflow_y": null,
      "padding": null,
      "right": null,
      "top": null,
      "visibility": null,
      "width": null
     }
    },
    "dafcc7d1c62544609c2cc3ed85986d23": {
     "model_module": "@jupyter-widgets/controls",
     "model_name": "DescriptionStyleModel",
     "model_module_version": "1.5.0",
     "state": {
      "_model_module": "@jupyter-widgets/controls",
      "_model_module_version": "1.5.0",
      "_model_name": "DescriptionStyleModel",
      "_view_count": null,
      "_view_module": "@jupyter-widgets/base",
      "_view_module_version": "1.2.0",
      "_view_name": "StyleView",
      "description_width": ""
     }
    },
    "01d27062c6e445f7a1f98c1d536487ad": {
     "model_module": "@jupyter-widgets/base",
     "model_name": "LayoutModel",
     "model_module_version": "1.2.0",
     "state": {
      "_model_module": "@jupyter-widgets/base",
      "_model_module_version": "1.2.0",
      "_model_name": "LayoutModel",
      "_view_count": null,
      "_view_module": "@jupyter-widgets/base",
      "_view_module_version": "1.2.0",
      "_view_name": "LayoutView",
      "align_content": null,
      "align_items": null,
      "align_self": null,
      "border": null,
      "bottom": null,
      "display": null,
      "flex": null,
      "flex_flow": null,
      "grid_area": null,
      "grid_auto_columns": null,
      "grid_auto_flow": null,
      "grid_auto_rows": null,
      "grid_column": null,
      "grid_gap": null,
      "grid_row": null,
      "grid_template_areas": null,
      "grid_template_columns": null,
      "grid_template_rows": null,
      "height": null,
      "justify_content": null,
      "justify_items": null,
      "left": null,
      "margin": null,
      "max_height": null,
      "max_width": null,
      "min_height": null,
      "min_width": null,
      "object_fit": null,
      "object_position": null,
      "order": null,
      "overflow": null,
      "overflow_x": null,
      "overflow_y": null,
      "padding": null,
      "right": null,
      "top": null,
      "visibility": null,
      "width": null
     }
    },
    "4e134ea921724a8e80eaaa93aed0d0de": {
     "model_module": "@jupyter-widgets/controls",
     "model_name": "ProgressStyleModel",
     "model_module_version": "1.5.0",
     "state": {
      "_model_module": "@jupyter-widgets/controls",
      "_model_module_version": "1.5.0",
      "_model_name": "ProgressStyleModel",
      "_view_count": null,
      "_view_module": "@jupyter-widgets/base",
      "_view_module_version": "1.2.0",
      "_view_name": "StyleView",
      "bar_color": null,
      "description_width": ""
     }
    },
    "6fab2355a4ab4799bba0b47934072ef0": {
     "model_module": "@jupyter-widgets/controls",
     "model_name": "VBoxModel",
     "model_module_version": "1.5.0",
     "state": {
      "_dom_classes": [],
      "_model_module": "@jupyter-widgets/controls",
      "_model_module_version": "1.5.0",
      "_model_name": "VBoxModel",
      "_view_count": null,
      "_view_module": "@jupyter-widgets/controls",
      "_view_module_version": "1.5.0",
      "_view_name": "VBoxView",
      "box_style": "",
      "children": [
       "IPY_MODEL_37bb511bfbfd49abaf0e1041e99522fb",
       "IPY_MODEL_7fcd23d5bd934420a5b83974b515d393"
      ],
      "layout": "IPY_MODEL_37b42116347a48b1b431babb4681f3f2"
     }
    },
    "37bb511bfbfd49abaf0e1041e99522fb": {
     "model_module": "@jupyter-widgets/controls",
     "model_name": "LabelModel",
     "model_module_version": "1.5.0",
     "state": {
      "_dom_classes": [],
      "_model_module": "@jupyter-widgets/controls",
      "_model_module_version": "1.5.0",
      "_model_name": "LabelModel",
      "_view_count": null,
      "_view_module": "@jupyter-widgets/controls",
      "_view_module_version": "1.5.0",
      "_view_name": "LabelView",
      "description": "",
      "description_tooltip": null,
      "layout": "IPY_MODEL_0e1c056a5e8d432d9e592ffccfca0e6e",
      "placeholder": "​",
      "style": "IPY_MODEL_0ec06ac598184ede9bff66c535e824bf",
      "value": "0.028 MB of 0.028 MB uploaded (0.000 MB deduped)\r"
     }
    },
    "7fcd23d5bd934420a5b83974b515d393": {
     "model_module": "@jupyter-widgets/controls",
     "model_name": "FloatProgressModel",
     "model_module_version": "1.5.0",
     "state": {
      "_dom_classes": [],
      "_model_module": "@jupyter-widgets/controls",
      "_model_module_version": "1.5.0",
      "_model_name": "FloatProgressModel",
      "_view_count": null,
      "_view_module": "@jupyter-widgets/controls",
      "_view_module_version": "1.5.0",
      "_view_name": "ProgressView",
      "bar_style": "",
      "description": "",
      "description_tooltip": null,
      "layout": "IPY_MODEL_f97c63ec6d1a4737854db9fe203c5b8f",
      "max": 1,
      "min": 0,
      "orientation": "horizontal",
      "style": "IPY_MODEL_b7987f18abfc4707b6a8b1a48c2ccf02",
      "value": 1
     }
    },
    "37b42116347a48b1b431babb4681f3f2": {
     "model_module": "@jupyter-widgets/base",
     "model_name": "LayoutModel",
     "model_module_version": "1.2.0",
     "state": {
      "_model_module": "@jupyter-widgets/base",
      "_model_module_version": "1.2.0",
      "_model_name": "LayoutModel",
      "_view_count": null,
      "_view_module": "@jupyter-widgets/base",
      "_view_module_version": "1.2.0",
      "_view_name": "LayoutView",
      "align_content": null,
      "align_items": null,
      "align_self": null,
      "border": null,
      "bottom": null,
      "display": null,
      "flex": null,
      "flex_flow": null,
      "grid_area": null,
      "grid_auto_columns": null,
      "grid_auto_flow": null,
      "grid_auto_rows": null,
      "grid_column": null,
      "grid_gap": null,
      "grid_row": null,
      "grid_template_areas": null,
      "grid_template_columns": null,
      "grid_template_rows": null,
      "height": null,
      "justify_content": null,
      "justify_items": null,
      "left": null,
      "margin": null,
      "max_height": null,
      "max_width": null,
      "min_height": null,
      "min_width": null,
      "object_fit": null,
      "object_position": null,
      "order": null,
      "overflow": null,
      "overflow_x": null,
      "overflow_y": null,
      "padding": null,
      "right": null,
      "top": null,
      "visibility": null,
      "width": null
     }
    },
    "0e1c056a5e8d432d9e592ffccfca0e6e": {
     "model_module": "@jupyter-widgets/base",
     "model_name": "LayoutModel",
     "model_module_version": "1.2.0",
     "state": {
      "_model_module": "@jupyter-widgets/base",
      "_model_module_version": "1.2.0",
      "_model_name": "LayoutModel",
      "_view_count": null,
      "_view_module": "@jupyter-widgets/base",
      "_view_module_version": "1.2.0",
      "_view_name": "LayoutView",
      "align_content": null,
      "align_items": null,
      "align_self": null,
      "border": null,
      "bottom": null,
      "display": null,
      "flex": null,
      "flex_flow": null,
      "grid_area": null,
      "grid_auto_columns": null,
      "grid_auto_flow": null,
      "grid_auto_rows": null,
      "grid_column": null,
      "grid_gap": null,
      "grid_row": null,
      "grid_template_areas": null,
      "grid_template_columns": null,
      "grid_template_rows": null,
      "height": null,
      "justify_content": null,
      "justify_items": null,
      "left": null,
      "margin": null,
      "max_height": null,
      "max_width": null,
      "min_height": null,
      "min_width": null,
      "object_fit": null,
      "object_position": null,
      "order": null,
      "overflow": null,
      "overflow_x": null,
      "overflow_y": null,
      "padding": null,
      "right": null,
      "top": null,
      "visibility": null,
      "width": null
     }
    },
    "0ec06ac598184ede9bff66c535e824bf": {
     "model_module": "@jupyter-widgets/controls",
     "model_name": "DescriptionStyleModel",
     "model_module_version": "1.5.0",
     "state": {
      "_model_module": "@jupyter-widgets/controls",
      "_model_module_version": "1.5.0",
      "_model_name": "DescriptionStyleModel",
      "_view_count": null,
      "_view_module": "@jupyter-widgets/base",
      "_view_module_version": "1.2.0",
      "_view_name": "StyleView",
      "description_width": ""
     }
    },
    "f97c63ec6d1a4737854db9fe203c5b8f": {
     "model_module": "@jupyter-widgets/base",
     "model_name": "LayoutModel",
     "model_module_version": "1.2.0",
     "state": {
      "_model_module": "@jupyter-widgets/base",
      "_model_module_version": "1.2.0",
      "_model_name": "LayoutModel",
      "_view_count": null,
      "_view_module": "@jupyter-widgets/base",
      "_view_module_version": "1.2.0",
      "_view_name": "LayoutView",
      "align_content": null,
      "align_items": null,
      "align_self": null,
      "border": null,
      "bottom": null,
      "display": null,
      "flex": null,
      "flex_flow": null,
      "grid_area": null,
      "grid_auto_columns": null,
      "grid_auto_flow": null,
      "grid_auto_rows": null,
      "grid_column": null,
      "grid_gap": null,
      "grid_row": null,
      "grid_template_areas": null,
      "grid_template_columns": null,
      "grid_template_rows": null,
      "height": null,
      "justify_content": null,
      "justify_items": null,
      "left": null,
      "margin": null,
      "max_height": null,
      "max_width": null,
      "min_height": null,
      "min_width": null,
      "object_fit": null,
      "object_position": null,
      "order": null,
      "overflow": null,
      "overflow_x": null,
      "overflow_y": null,
      "padding": null,
      "right": null,
      "top": null,
      "visibility": null,
      "width": null
     }
    },
    "b7987f18abfc4707b6a8b1a48c2ccf02": {
     "model_module": "@jupyter-widgets/controls",
     "model_name": "ProgressStyleModel",
     "model_module_version": "1.5.0",
     "state": {
      "_model_module": "@jupyter-widgets/controls",
      "_model_module_version": "1.5.0",
      "_model_name": "ProgressStyleModel",
      "_view_count": null,
      "_view_module": "@jupyter-widgets/base",
      "_view_module_version": "1.2.0",
      "_view_name": "StyleView",
      "bar_color": null,
      "description_width": ""
     }
    },
    "b93039cd158a4e0da689636b24177fe8": {
     "model_module": "@jupyter-widgets/controls",
     "model_name": "VBoxModel",
     "model_module_version": "1.5.0",
     "state": {
      "_dom_classes": [],
      "_model_module": "@jupyter-widgets/controls",
      "_model_module_version": "1.5.0",
      "_model_name": "VBoxModel",
      "_view_count": null,
      "_view_module": "@jupyter-widgets/controls",
      "_view_module_version": "1.5.0",
      "_view_name": "VBoxView",
      "box_style": "",
      "children": [
       "IPY_MODEL_37a8feeb237145578d79c3c981399152",
       "IPY_MODEL_8310c4b34dd7497fb2c290836c7d1e05"
      ],
      "layout": "IPY_MODEL_3d46a777f72949c0819c085137bc7831"
     }
    },
    "37a8feeb237145578d79c3c981399152": {
     "model_module": "@jupyter-widgets/controls",
     "model_name": "LabelModel",
     "model_module_version": "1.5.0",
     "state": {
      "_dom_classes": [],
      "_model_module": "@jupyter-widgets/controls",
      "_model_module_version": "1.5.0",
      "_model_name": "LabelModel",
      "_view_count": null,
      "_view_module": "@jupyter-widgets/controls",
      "_view_module_version": "1.5.0",
      "_view_name": "LabelView",
      "description": "",
      "description_tooltip": null,
      "layout": "IPY_MODEL_a1f20f530b7b402d807567bcaaefd603",
      "placeholder": "​",
      "style": "IPY_MODEL_e476391d183948b389d4d75df71044d3",
      "value": "0.032 MB of 0.032 MB uploaded (0.000 MB deduped)\r"
     }
    },
    "8310c4b34dd7497fb2c290836c7d1e05": {
     "model_module": "@jupyter-widgets/controls",
     "model_name": "FloatProgressModel",
     "model_module_version": "1.5.0",
     "state": {
      "_dom_classes": [],
      "_model_module": "@jupyter-widgets/controls",
      "_model_module_version": "1.5.0",
      "_model_name": "FloatProgressModel",
      "_view_count": null,
      "_view_module": "@jupyter-widgets/controls",
      "_view_module_version": "1.5.0",
      "_view_name": "ProgressView",
      "bar_style": "",
      "description": "",
      "description_tooltip": null,
      "layout": "IPY_MODEL_7a22a64e352b4da7a7455dc47afb2d65",
      "max": 1,
      "min": 0,
      "orientation": "horizontal",
      "style": "IPY_MODEL_ee430ccc438149dd993ca76ff8adab85",
      "value": 1
     }
    },
    "3d46a777f72949c0819c085137bc7831": {
     "model_module": "@jupyter-widgets/base",
     "model_name": "LayoutModel",
     "model_module_version": "1.2.0",
     "state": {
      "_model_module": "@jupyter-widgets/base",
      "_model_module_version": "1.2.0",
      "_model_name": "LayoutModel",
      "_view_count": null,
      "_view_module": "@jupyter-widgets/base",
      "_view_module_version": "1.2.0",
      "_view_name": "LayoutView",
      "align_content": null,
      "align_items": null,
      "align_self": null,
      "border": null,
      "bottom": null,
      "display": null,
      "flex": null,
      "flex_flow": null,
      "grid_area": null,
      "grid_auto_columns": null,
      "grid_auto_flow": null,
      "grid_auto_rows": null,
      "grid_column": null,
      "grid_gap": null,
      "grid_row": null,
      "grid_template_areas": null,
      "grid_template_columns": null,
      "grid_template_rows": null,
      "height": null,
      "justify_content": null,
      "justify_items": null,
      "left": null,
      "margin": null,
      "max_height": null,
      "max_width": null,
      "min_height": null,
      "min_width": null,
      "object_fit": null,
      "object_position": null,
      "order": null,
      "overflow": null,
      "overflow_x": null,
      "overflow_y": null,
      "padding": null,
      "right": null,
      "top": null,
      "visibility": null,
      "width": null
     }
    },
    "a1f20f530b7b402d807567bcaaefd603": {
     "model_module": "@jupyter-widgets/base",
     "model_name": "LayoutModel",
     "model_module_version": "1.2.0",
     "state": {
      "_model_module": "@jupyter-widgets/base",
      "_model_module_version": "1.2.0",
      "_model_name": "LayoutModel",
      "_view_count": null,
      "_view_module": "@jupyter-widgets/base",
      "_view_module_version": "1.2.0",
      "_view_name": "LayoutView",
      "align_content": null,
      "align_items": null,
      "align_self": null,
      "border": null,
      "bottom": null,
      "display": null,
      "flex": null,
      "flex_flow": null,
      "grid_area": null,
      "grid_auto_columns": null,
      "grid_auto_flow": null,
      "grid_auto_rows": null,
      "grid_column": null,
      "grid_gap": null,
      "grid_row": null,
      "grid_template_areas": null,
      "grid_template_columns": null,
      "grid_template_rows": null,
      "height": null,
      "justify_content": null,
      "justify_items": null,
      "left": null,
      "margin": null,
      "max_height": null,
      "max_width": null,
      "min_height": null,
      "min_width": null,
      "object_fit": null,
      "object_position": null,
      "order": null,
      "overflow": null,
      "overflow_x": null,
      "overflow_y": null,
      "padding": null,
      "right": null,
      "top": null,
      "visibility": null,
      "width": null
     }
    },
    "e476391d183948b389d4d75df71044d3": {
     "model_module": "@jupyter-widgets/controls",
     "model_name": "DescriptionStyleModel",
     "model_module_version": "1.5.0",
     "state": {
      "_model_module": "@jupyter-widgets/controls",
      "_model_module_version": "1.5.0",
      "_model_name": "DescriptionStyleModel",
      "_view_count": null,
      "_view_module": "@jupyter-widgets/base",
      "_view_module_version": "1.2.0",
      "_view_name": "StyleView",
      "description_width": ""
     }
    },
    "7a22a64e352b4da7a7455dc47afb2d65": {
     "model_module": "@jupyter-widgets/base",
     "model_name": "LayoutModel",
     "model_module_version": "1.2.0",
     "state": {
      "_model_module": "@jupyter-widgets/base",
      "_model_module_version": "1.2.0",
      "_model_name": "LayoutModel",
      "_view_count": null,
      "_view_module": "@jupyter-widgets/base",
      "_view_module_version": "1.2.0",
      "_view_name": "LayoutView",
      "align_content": null,
      "align_items": null,
      "align_self": null,
      "border": null,
      "bottom": null,
      "display": null,
      "flex": null,
      "flex_flow": null,
      "grid_area": null,
      "grid_auto_columns": null,
      "grid_auto_flow": null,
      "grid_auto_rows": null,
      "grid_column": null,
      "grid_gap": null,
      "grid_row": null,
      "grid_template_areas": null,
      "grid_template_columns": null,
      "grid_template_rows": null,
      "height": null,
      "justify_content": null,
      "justify_items": null,
      "left": null,
      "margin": null,
      "max_height": null,
      "max_width": null,
      "min_height": null,
      "min_width": null,
      "object_fit": null,
      "object_position": null,
      "order": null,
      "overflow": null,
      "overflow_x": null,
      "overflow_y": null,
      "padding": null,
      "right": null,
      "top": null,
      "visibility": null,
      "width": null
     }
    },
    "ee430ccc438149dd993ca76ff8adab85": {
     "model_module": "@jupyter-widgets/controls",
     "model_name": "ProgressStyleModel",
     "model_module_version": "1.5.0",
     "state": {
      "_model_module": "@jupyter-widgets/controls",
      "_model_module_version": "1.5.0",
      "_model_name": "ProgressStyleModel",
      "_view_count": null,
      "_view_module": "@jupyter-widgets/base",
      "_view_module_version": "1.2.0",
      "_view_name": "StyleView",
      "bar_color": null,
      "description_width": ""
     }
    },
    "63987d97b79149409f0104cacbb7c202": {
     "model_module": "@jupyter-widgets/controls",
     "model_name": "VBoxModel",
     "model_module_version": "1.5.0",
     "state": {
      "_dom_classes": [],
      "_model_module": "@jupyter-widgets/controls",
      "_model_module_version": "1.5.0",
      "_model_name": "VBoxModel",
      "_view_count": null,
      "_view_module": "@jupyter-widgets/controls",
      "_view_module_version": "1.5.0",
      "_view_name": "VBoxView",
      "box_style": "",
      "children": [
       "IPY_MODEL_5c0ae0791e3e4dd69a4693464dd59d4a",
       "IPY_MODEL_95ab35d6f75f42af9b3206d14f191218"
      ],
      "layout": "IPY_MODEL_ff1c950290bf42939c996026216590e3"
     }
    },
    "5c0ae0791e3e4dd69a4693464dd59d4a": {
     "model_module": "@jupyter-widgets/controls",
     "model_name": "LabelModel",
     "model_module_version": "1.5.0",
     "state": {
      "_dom_classes": [],
      "_model_module": "@jupyter-widgets/controls",
      "_model_module_version": "1.5.0",
      "_model_name": "LabelModel",
      "_view_count": null,
      "_view_module": "@jupyter-widgets/controls",
      "_view_module_version": "1.5.0",
      "_view_name": "LabelView",
      "description": "",
      "description_tooltip": null,
      "layout": "IPY_MODEL_1d3151abee8d4fd68069a96dfbf869f0",
      "placeholder": "​",
      "style": "IPY_MODEL_b3d6171a00c44e56adf9cdbec9d44efa",
      "value": "0.035 MB of 0.035 MB uploaded (0.000 MB deduped)\r"
     }
    },
    "95ab35d6f75f42af9b3206d14f191218": {
     "model_module": "@jupyter-widgets/controls",
     "model_name": "FloatProgressModel",
     "model_module_version": "1.5.0",
     "state": {
      "_dom_classes": [],
      "_model_module": "@jupyter-widgets/controls",
      "_model_module_version": "1.5.0",
      "_model_name": "FloatProgressModel",
      "_view_count": null,
      "_view_module": "@jupyter-widgets/controls",
      "_view_module_version": "1.5.0",
      "_view_name": "ProgressView",
      "bar_style": "",
      "description": "",
      "description_tooltip": null,
      "layout": "IPY_MODEL_4ef15df3f6524b67aed714549d04d507",
      "max": 1,
      "min": 0,
      "orientation": "horizontal",
      "style": "IPY_MODEL_70b08d20bd2a4af798fe676a53a5622b",
      "value": 1
     }
    },
    "ff1c950290bf42939c996026216590e3": {
     "model_module": "@jupyter-widgets/base",
     "model_name": "LayoutModel",
     "model_module_version": "1.2.0",
     "state": {
      "_model_module": "@jupyter-widgets/base",
      "_model_module_version": "1.2.0",
      "_model_name": "LayoutModel",
      "_view_count": null,
      "_view_module": "@jupyter-widgets/base",
      "_view_module_version": "1.2.0",
      "_view_name": "LayoutView",
      "align_content": null,
      "align_items": null,
      "align_self": null,
      "border": null,
      "bottom": null,
      "display": null,
      "flex": null,
      "flex_flow": null,
      "grid_area": null,
      "grid_auto_columns": null,
      "grid_auto_flow": null,
      "grid_auto_rows": null,
      "grid_column": null,
      "grid_gap": null,
      "grid_row": null,
      "grid_template_areas": null,
      "grid_template_columns": null,
      "grid_template_rows": null,
      "height": null,
      "justify_content": null,
      "justify_items": null,
      "left": null,
      "margin": null,
      "max_height": null,
      "max_width": null,
      "min_height": null,
      "min_width": null,
      "object_fit": null,
      "object_position": null,
      "order": null,
      "overflow": null,
      "overflow_x": null,
      "overflow_y": null,
      "padding": null,
      "right": null,
      "top": null,
      "visibility": null,
      "width": null
     }
    },
    "1d3151abee8d4fd68069a96dfbf869f0": {
     "model_module": "@jupyter-widgets/base",
     "model_name": "LayoutModel",
     "model_module_version": "1.2.0",
     "state": {
      "_model_module": "@jupyter-widgets/base",
      "_model_module_version": "1.2.0",
      "_model_name": "LayoutModel",
      "_view_count": null,
      "_view_module": "@jupyter-widgets/base",
      "_view_module_version": "1.2.0",
      "_view_name": "LayoutView",
      "align_content": null,
      "align_items": null,
      "align_self": null,
      "border": null,
      "bottom": null,
      "display": null,
      "flex": null,
      "flex_flow": null,
      "grid_area": null,
      "grid_auto_columns": null,
      "grid_auto_flow": null,
      "grid_auto_rows": null,
      "grid_column": null,
      "grid_gap": null,
      "grid_row": null,
      "grid_template_areas": null,
      "grid_template_columns": null,
      "grid_template_rows": null,
      "height": null,
      "justify_content": null,
      "justify_items": null,
      "left": null,
      "margin": null,
      "max_height": null,
      "max_width": null,
      "min_height": null,
      "min_width": null,
      "object_fit": null,
      "object_position": null,
      "order": null,
      "overflow": null,
      "overflow_x": null,
      "overflow_y": null,
      "padding": null,
      "right": null,
      "top": null,
      "visibility": null,
      "width": null
     }
    },
    "b3d6171a00c44e56adf9cdbec9d44efa": {
     "model_module": "@jupyter-widgets/controls",
     "model_name": "DescriptionStyleModel",
     "model_module_version": "1.5.0",
     "state": {
      "_model_module": "@jupyter-widgets/controls",
      "_model_module_version": "1.5.0",
      "_model_name": "DescriptionStyleModel",
      "_view_count": null,
      "_view_module": "@jupyter-widgets/base",
      "_view_module_version": "1.2.0",
      "_view_name": "StyleView",
      "description_width": ""
     }
    },
    "4ef15df3f6524b67aed714549d04d507": {
     "model_module": "@jupyter-widgets/base",
     "model_name": "LayoutModel",
     "model_module_version": "1.2.0",
     "state": {
      "_model_module": "@jupyter-widgets/base",
      "_model_module_version": "1.2.0",
      "_model_name": "LayoutModel",
      "_view_count": null,
      "_view_module": "@jupyter-widgets/base",
      "_view_module_version": "1.2.0",
      "_view_name": "LayoutView",
      "align_content": null,
      "align_items": null,
      "align_self": null,
      "border": null,
      "bottom": null,
      "display": null,
      "flex": null,
      "flex_flow": null,
      "grid_area": null,
      "grid_auto_columns": null,
      "grid_auto_flow": null,
      "grid_auto_rows": null,
      "grid_column": null,
      "grid_gap": null,
      "grid_row": null,
      "grid_template_areas": null,
      "grid_template_columns": null,
      "grid_template_rows": null,
      "height": null,
      "justify_content": null,
      "justify_items": null,
      "left": null,
      "margin": null,
      "max_height": null,
      "max_width": null,
      "min_height": null,
      "min_width": null,
      "object_fit": null,
      "object_position": null,
      "order": null,
      "overflow": null,
      "overflow_x": null,
      "overflow_y": null,
      "padding": null,
      "right": null,
      "top": null,
      "visibility": null,
      "width": null
     }
    },
    "70b08d20bd2a4af798fe676a53a5622b": {
     "model_module": "@jupyter-widgets/controls",
     "model_name": "ProgressStyleModel",
     "model_module_version": "1.5.0",
     "state": {
      "_model_module": "@jupyter-widgets/controls",
      "_model_module_version": "1.5.0",
      "_model_name": "ProgressStyleModel",
      "_view_count": null,
      "_view_module": "@jupyter-widgets/base",
      "_view_module_version": "1.2.0",
      "_view_name": "StyleView",
      "bar_color": null,
      "description_width": ""
     }
    }
   }
  }
 },
 "nbformat": 4,
 "nbformat_minor": 0
}